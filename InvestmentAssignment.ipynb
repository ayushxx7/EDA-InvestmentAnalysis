{
 "cells": [
  {
   "cell_type": "markdown",
   "id": "695f5457-cc63-40ec-ae83-072ee8afa479",
   "metadata": {},
   "source": [
    "# Investment Assignment \n",
    "#### by Ayush Mandowara"
   ]
  },
  {
   "cell_type": "markdown",
   "id": "4cf31c0d-c1c4-495a-87a3-94a0e21f10e2",
   "metadata": {},
   "source": [
    "## Imports"
   ]
  },
  {
   "cell_type": "code",
   "execution_count": 1,
   "id": "200c6c4a-e217-4755-a88d-8ebc795d51ab",
   "metadata": {},
   "outputs": [],
   "source": [
    "import pandas as pd\n",
    "import numpy as np\n",
    "import matplotlib.pyplot as plt\n",
    "import seaborn as sns"
   ]
  },
  {
   "cell_type": "markdown",
   "id": "009b11ee-6421-43fa-a851-7819fe5ff6f8",
   "metadata": {},
   "source": [
    "## Loading Data to Dataframes"
   ]
  },
  {
   "cell_type": "code",
   "execution_count": 2,
   "id": "c8557c1f-0df0-489d-ad3b-adf7000728d5",
   "metadata": {},
   "outputs": [],
   "source": [
    "companies = pd.read_csv('companies.csv')\n",
    "rounds2 = pd.read_csv('rounds2.csv')"
   ]
  },
  {
   "cell_type": "markdown",
   "id": "4e3109c4-e655-4b73-aca1-61af1451a528",
   "metadata": {},
   "source": [
    "## Understanding the Data"
   ]
  },
  {
   "cell_type": "code",
   "execution_count": 3,
   "id": "8ecc3701-25f1-499c-8cb8-034931b09d00",
   "metadata": {},
   "outputs": [
    {
     "data": {
      "text/html": [
       "<div>\n",
       "<style scoped>\n",
       "    .dataframe tbody tr th:only-of-type {\n",
       "        vertical-align: middle;\n",
       "    }\n",
       "\n",
       "    .dataframe tbody tr th {\n",
       "        vertical-align: top;\n",
       "    }\n",
       "\n",
       "    .dataframe thead th {\n",
       "        text-align: right;\n",
       "    }\n",
       "</style>\n",
       "<table border=\"1\" class=\"dataframe\">\n",
       "  <thead>\n",
       "    <tr style=\"text-align: right;\">\n",
       "      <th></th>\n",
       "      <th>permalink</th>\n",
       "      <th>name</th>\n",
       "      <th>homepage_url</th>\n",
       "      <th>category_list</th>\n",
       "      <th>status</th>\n",
       "      <th>country_code</th>\n",
       "      <th>state_code</th>\n",
       "      <th>region</th>\n",
       "      <th>city</th>\n",
       "      <th>founded_at</th>\n",
       "    </tr>\n",
       "  </thead>\n",
       "  <tbody>\n",
       "    <tr>\n",
       "      <th>0</th>\n",
       "      <td>/Organization/-Fame</td>\n",
       "      <td>#fame</td>\n",
       "      <td>http://livfame.com</td>\n",
       "      <td>Media</td>\n",
       "      <td>operating</td>\n",
       "      <td>IND</td>\n",
       "      <td>16</td>\n",
       "      <td>Mumbai</td>\n",
       "      <td>Mumbai</td>\n",
       "      <td>NaN</td>\n",
       "    </tr>\n",
       "    <tr>\n",
       "      <th>1</th>\n",
       "      <td>/Organization/-Qounter</td>\n",
       "      <td>:Qounter</td>\n",
       "      <td>http://www.qounter.com</td>\n",
       "      <td>Application Platforms|Real Time|Social Network...</td>\n",
       "      <td>operating</td>\n",
       "      <td>USA</td>\n",
       "      <td>DE</td>\n",
       "      <td>DE - Other</td>\n",
       "      <td>Delaware City</td>\n",
       "      <td>04-09-2014</td>\n",
       "    </tr>\n",
       "    <tr>\n",
       "      <th>2</th>\n",
       "      <td>/Organization/-The-One-Of-Them-Inc-</td>\n",
       "      <td>(THE) ONE of THEM,Inc.</td>\n",
       "      <td>http://oneofthem.jp</td>\n",
       "      <td>Apps|Games|Mobile</td>\n",
       "      <td>operating</td>\n",
       "      <td>NaN</td>\n",
       "      <td>NaN</td>\n",
       "      <td>NaN</td>\n",
       "      <td>NaN</td>\n",
       "      <td>NaN</td>\n",
       "    </tr>\n",
       "    <tr>\n",
       "      <th>3</th>\n",
       "      <td>/Organization/0-6-Com</td>\n",
       "      <td>0-6.com</td>\n",
       "      <td>http://www.0-6.com</td>\n",
       "      <td>Curated Web</td>\n",
       "      <td>operating</td>\n",
       "      <td>CHN</td>\n",
       "      <td>22</td>\n",
       "      <td>Beijing</td>\n",
       "      <td>Beijing</td>\n",
       "      <td>01-01-2007</td>\n",
       "    </tr>\n",
       "    <tr>\n",
       "      <th>4</th>\n",
       "      <td>/Organization/004-Technologies</td>\n",
       "      <td>004 Technologies</td>\n",
       "      <td>http://004gmbh.de/en/004-interact</td>\n",
       "      <td>Software</td>\n",
       "      <td>operating</td>\n",
       "      <td>USA</td>\n",
       "      <td>IL</td>\n",
       "      <td>Springfield, Illinois</td>\n",
       "      <td>Champaign</td>\n",
       "      <td>01-01-2010</td>\n",
       "    </tr>\n",
       "  </tbody>\n",
       "</table>\n",
       "</div>"
      ],
      "text/plain": [
       "                             permalink                    name  \\\n",
       "0                  /Organization/-Fame                   #fame   \n",
       "1               /Organization/-Qounter                :Qounter   \n",
       "2  /Organization/-The-One-Of-Them-Inc-  (THE) ONE of THEM,Inc.   \n",
       "3                /Organization/0-6-Com                 0-6.com   \n",
       "4       /Organization/004-Technologies        004 Technologies   \n",
       "\n",
       "                        homepage_url  \\\n",
       "0                 http://livfame.com   \n",
       "1             http://www.qounter.com   \n",
       "2                http://oneofthem.jp   \n",
       "3                 http://www.0-6.com   \n",
       "4  http://004gmbh.de/en/004-interact   \n",
       "\n",
       "                                       category_list     status country_code  \\\n",
       "0                                              Media  operating          IND   \n",
       "1  Application Platforms|Real Time|Social Network...  operating          USA   \n",
       "2                                  Apps|Games|Mobile  operating          NaN   \n",
       "3                                        Curated Web  operating          CHN   \n",
       "4                                           Software  operating          USA   \n",
       "\n",
       "  state_code                 region           city  founded_at  \n",
       "0         16                 Mumbai         Mumbai         NaN  \n",
       "1         DE             DE - Other  Delaware City  04-09-2014  \n",
       "2        NaN                    NaN            NaN         NaN  \n",
       "3         22                Beijing        Beijing  01-01-2007  \n",
       "4         IL  Springfield, Illinois      Champaign  01-01-2010  "
      ]
     },
     "execution_count": 3,
     "metadata": {},
     "output_type": "execute_result"
    }
   ],
   "source": [
    "companies.head()"
   ]
  },
  {
   "cell_type": "code",
   "execution_count": 4,
   "id": "c7270254-8f06-4a11-90d5-b08b18ce4303",
   "metadata": {},
   "outputs": [
    {
     "data": {
      "text/html": [
       "<div>\n",
       "<style scoped>\n",
       "    .dataframe tbody tr th:only-of-type {\n",
       "        vertical-align: middle;\n",
       "    }\n",
       "\n",
       "    .dataframe tbody tr th {\n",
       "        vertical-align: top;\n",
       "    }\n",
       "\n",
       "    .dataframe thead th {\n",
       "        text-align: right;\n",
       "    }\n",
       "</style>\n",
       "<table border=\"1\" class=\"dataframe\">\n",
       "  <thead>\n",
       "    <tr style=\"text-align: right;\">\n",
       "      <th></th>\n",
       "      <th>company_permalink</th>\n",
       "      <th>funding_round_permalink</th>\n",
       "      <th>funding_round_type</th>\n",
       "      <th>funding_round_code</th>\n",
       "      <th>funded_at</th>\n",
       "      <th>raised_amount_usd</th>\n",
       "    </tr>\n",
       "  </thead>\n",
       "  <tbody>\n",
       "    <tr>\n",
       "      <th>0</th>\n",
       "      <td>/organization/-fame</td>\n",
       "      <td>/funding-round/9a01d05418af9f794eebff7ace91f638</td>\n",
       "      <td>venture</td>\n",
       "      <td>B</td>\n",
       "      <td>05-01-2015</td>\n",
       "      <td>10000000.0</td>\n",
       "    </tr>\n",
       "    <tr>\n",
       "      <th>1</th>\n",
       "      <td>/ORGANIZATION/-QOUNTER</td>\n",
       "      <td>/funding-round/22dacff496eb7acb2b901dec1dfe5633</td>\n",
       "      <td>venture</td>\n",
       "      <td>A</td>\n",
       "      <td>14-10-2014</td>\n",
       "      <td>NaN</td>\n",
       "    </tr>\n",
       "    <tr>\n",
       "      <th>2</th>\n",
       "      <td>/organization/-qounter</td>\n",
       "      <td>/funding-round/b44fbb94153f6cdef13083530bb48030</td>\n",
       "      <td>seed</td>\n",
       "      <td>NaN</td>\n",
       "      <td>01-03-2014</td>\n",
       "      <td>700000.0</td>\n",
       "    </tr>\n",
       "    <tr>\n",
       "      <th>3</th>\n",
       "      <td>/ORGANIZATION/-THE-ONE-OF-THEM-INC-</td>\n",
       "      <td>/funding-round/650b8f704416801069bb178a1418776b</td>\n",
       "      <td>venture</td>\n",
       "      <td>B</td>\n",
       "      <td>30-01-2014</td>\n",
       "      <td>3406878.0</td>\n",
       "    </tr>\n",
       "    <tr>\n",
       "      <th>4</th>\n",
       "      <td>/organization/0-6-com</td>\n",
       "      <td>/funding-round/5727accaeaa57461bd22a9bdd945382d</td>\n",
       "      <td>venture</td>\n",
       "      <td>A</td>\n",
       "      <td>19-03-2008</td>\n",
       "      <td>2000000.0</td>\n",
       "    </tr>\n",
       "  </tbody>\n",
       "</table>\n",
       "</div>"
      ],
      "text/plain": [
       "                     company_permalink  \\\n",
       "0                  /organization/-fame   \n",
       "1               /ORGANIZATION/-QOUNTER   \n",
       "2               /organization/-qounter   \n",
       "3  /ORGANIZATION/-THE-ONE-OF-THEM-INC-   \n",
       "4                /organization/0-6-com   \n",
       "\n",
       "                           funding_round_permalink funding_round_type  \\\n",
       "0  /funding-round/9a01d05418af9f794eebff7ace91f638            venture   \n",
       "1  /funding-round/22dacff496eb7acb2b901dec1dfe5633            venture   \n",
       "2  /funding-round/b44fbb94153f6cdef13083530bb48030               seed   \n",
       "3  /funding-round/650b8f704416801069bb178a1418776b            venture   \n",
       "4  /funding-round/5727accaeaa57461bd22a9bdd945382d            venture   \n",
       "\n",
       "  funding_round_code   funded_at  raised_amount_usd  \n",
       "0                  B  05-01-2015         10000000.0  \n",
       "1                  A  14-10-2014                NaN  \n",
       "2                NaN  01-03-2014           700000.0  \n",
       "3                  B  30-01-2014          3406878.0  \n",
       "4                  A  19-03-2008          2000000.0  "
      ]
     },
     "execution_count": 4,
     "metadata": {},
     "output_type": "execute_result"
    }
   ],
   "source": [
    "rounds2.head()"
   ]
  },
  {
   "cell_type": "markdown",
   "id": "7897130a-abb8-4ac4-836f-1fbaf096b42e",
   "metadata": {},
   "source": [
    "## Feature Extraction\n",
    "- We will choose the required columns for analysis and drop the rest"
   ]
  },
  {
   "cell_type": "markdown",
   "id": "8e6dffbe-38a5-455f-8215-10532525da2d",
   "metadata": {},
   "source": [
    "### In companies dataframe, the columns of interest are\n",
    "- permalink\n",
    "- category_list\n",
    "- country_code\n",
    "\n",
    "Dropping the rest"
   ]
  },
  {
   "cell_type": "code",
   "execution_count": 5,
   "id": "633367a9-45cf-4fd5-aa46-1586100b3bff",
   "metadata": {},
   "outputs": [],
   "source": [
    "companies_df = companies.drop(['name', 'homepage_url', 'status', 'state_code', 'region', 'city', 'founded_at'], axis=1)\n",
    "#companies_df.head()"
   ]
  },
  {
   "cell_type": "code",
   "execution_count": 6,
   "id": "343f7b73-0c9e-4e5f-b79b-3a14d45c35ad",
   "metadata": {},
   "outputs": [
    {
     "data": {
      "text/plain": [
       "count                     66368\n",
       "unique                    66368\n",
       "top       /organization/maxcart\n",
       "freq                          1\n",
       "Name: permalink, dtype: object"
      ]
     },
     "execution_count": 6,
     "metadata": {},
     "output_type": "execute_result"
    }
   ],
   "source": [
    "companies_df.permalink.apply(lambda x: str(x).lower()).describe()"
   ]
  },
  {
   "cell_type": "code",
   "execution_count": 7,
   "id": "79318965-0984-48bc-a359-a3eda480e1db",
   "metadata": {},
   "outputs": [
    {
     "data": {
      "text/html": [
       "<div>\n",
       "<style scoped>\n",
       "    .dataframe tbody tr th:only-of-type {\n",
       "        vertical-align: middle;\n",
       "    }\n",
       "\n",
       "    .dataframe tbody tr th {\n",
       "        vertical-align: top;\n",
       "    }\n",
       "\n",
       "    .dataframe thead th {\n",
       "        text-align: right;\n",
       "    }\n",
       "</style>\n",
       "<table border=\"1\" class=\"dataframe\">\n",
       "  <thead>\n",
       "    <tr style=\"text-align: right;\">\n",
       "      <th></th>\n",
       "      <th>permalink</th>\n",
       "      <th>category_list</th>\n",
       "      <th>country_code</th>\n",
       "    </tr>\n",
       "  </thead>\n",
       "  <tbody>\n",
       "    <tr>\n",
       "      <th>count</th>\n",
       "      <td>66368</td>\n",
       "      <td>63220</td>\n",
       "      <td>59410</td>\n",
       "    </tr>\n",
       "    <tr>\n",
       "      <th>unique</th>\n",
       "      <td>66368</td>\n",
       "      <td>27296</td>\n",
       "      <td>137</td>\n",
       "    </tr>\n",
       "    <tr>\n",
       "      <th>top</th>\n",
       "      <td>/Organization/Grid20-20</td>\n",
       "      <td>Software</td>\n",
       "      <td>USA</td>\n",
       "    </tr>\n",
       "    <tr>\n",
       "      <th>freq</th>\n",
       "      <td>1</td>\n",
       "      <td>3995</td>\n",
       "      <td>37601</td>\n",
       "    </tr>\n",
       "  </tbody>\n",
       "</table>\n",
       "</div>"
      ],
      "text/plain": [
       "                      permalink category_list country_code\n",
       "count                     66368         63220        59410\n",
       "unique                    66368         27296          137\n",
       "top     /Organization/Grid20-20      Software          USA\n",
       "freq                          1          3995        37601"
      ]
     },
     "execution_count": 7,
     "metadata": {},
     "output_type": "execute_result"
    }
   ],
   "source": [
    "companies_df.describe()"
   ]
  },
  {
   "cell_type": "markdown",
   "id": "ce3eda9b-c08f-4a4d-87ca-8977a1ec2c27",
   "metadata": {},
   "source": [
    "### In rounds2 dataframe, the columns of interest are\n",
    "- company_permalink\n",
    "- funding_round_type\n",
    "- funding_round_code\n",
    "- raised_amount_usd\n",
    "\n",
    "Dropping the rest"
   ]
  },
  {
   "cell_type": "code",
   "execution_count": 8,
   "id": "347605a8-1475-4a47-b946-ff1b26583742",
   "metadata": {},
   "outputs": [],
   "source": [
    "rounds2_df = rounds2.drop(['funding_round_permalink', 'funded_at'], axis=1)\n",
    "#rounds2_df.head()"
   ]
  },
  {
   "cell_type": "code",
   "execution_count": 9,
   "id": "3a307002-5b09-4df1-8f1f-77b3a4d0c0bd",
   "metadata": {},
   "outputs": [
    {
     "data": {
      "text/plain": [
       "count                       114949\n",
       "unique                       66373\n",
       "top       /organization/solarflare\n",
       "freq                            19\n",
       "Name: company_permalink, dtype: object"
      ]
     },
     "execution_count": 9,
     "metadata": {},
     "output_type": "execute_result"
    }
   ],
   "source": [
    "rounds2_df.company_permalink.apply(lambda x: str(x).lower()).describe()"
   ]
  },
  {
   "cell_type": "markdown",
   "id": "c0af09b9-352b-4e87-98d4-099c44521f50",
   "metadata": {},
   "source": [
    "### Null Value Analysis - rounds2"
   ]
  },
  {
   "cell_type": "code",
   "execution_count": 10,
   "id": "a8ac01c4-7b64-4e29-9165-dcf222af5faa",
   "metadata": {},
   "outputs": [
    {
     "name": "stdout",
     "output_type": "stream",
     "text": [
      "<class 'pandas.core.frame.DataFrame'>\n",
      "RangeIndex: 114949 entries, 0 to 114948\n",
      "Data columns (total 4 columns):\n",
      " #   Column              Non-Null Count   Dtype  \n",
      "---  ------              --------------   -----  \n",
      " 0   company_permalink   114949 non-null  object \n",
      " 1   funding_round_type  114949 non-null  object \n",
      " 2   funding_round_code  31140 non-null   object \n",
      " 3   raised_amount_usd   94959 non-null   float64\n",
      "dtypes: float64(1), object(3)\n",
      "memory usage: 3.5+ MB\n"
     ]
    }
   ],
   "source": [
    "rounds2_df.info()"
   ]
  },
  {
   "cell_type": "code",
   "execution_count": 11,
   "id": "075837e3-dcfc-4d3c-bc8a-7215fa337490",
   "metadata": {},
   "outputs": [
    {
     "data": {
      "text/plain": [
       "17.39"
      ]
     },
     "execution_count": 11,
     "metadata": {},
     "output_type": "execute_result"
    }
   ],
   "source": [
    "# percentage of missing value in raised_amount_usd\n",
    "round(sum(rounds2_df.raised_amount_usd.isnull())/len(rounds2_df)*100, 2)"
   ]
  },
  {
   "cell_type": "code",
   "execution_count": 12,
   "id": "1551f485-6287-4184-b796-98879e9976b1",
   "metadata": {},
   "outputs": [
    {
     "data": {
      "text/plain": [
       "72.91"
      ]
     },
     "execution_count": 12,
     "metadata": {},
     "output_type": "execute_result"
    }
   ],
   "source": [
    "# percentage of missing value in funding_round_code\n",
    "round(sum(rounds2_df.funding_round_code.isnull())/len(rounds2_df)*100, 2)"
   ]
  },
  {
   "cell_type": "markdown",
   "id": "242ee393-f9e9-44da-817c-65f160d14367",
   "metadata": {},
   "source": [
    "As per the above analysis, we find that\n",
    "- there are 114949 entries in the dataframe\n",
    "- no missing values in company_permalink\n",
    "- no missing values in funding_round_type\n",
    "- funding_round_code has ~73% missing values\n",
    "- raised_amount_usd has ~17% missing values"
   ]
  },
  {
   "cell_type": "markdown",
   "id": "f334c39b-6385-4cd8-8512-14531048cc44",
   "metadata": {},
   "source": [
    "### Treating missing values - rounds2"
   ]
  },
  {
   "cell_type": "markdown",
   "id": "95f8ee19-fff0-45bb-8c34-092e82af9e04",
   "metadata": {},
   "source": [
    "##### As more than 70% data is missing in `funding_round_code`, we will drop this column from the dataset"
   ]
  },
  {
   "cell_type": "code",
   "execution_count": 13,
   "id": "5cebc650-9a62-4929-b18e-075a1ae39934",
   "metadata": {},
   "outputs": [],
   "source": [
    "rounds2_df_treated = rounds2_df.drop(['funding_round_code'], axis=1)\n",
    "# rounds2_df_treated.head()"
   ]
  },
  {
   "cell_type": "code",
   "execution_count": 14,
   "id": "dfc8895d-208a-4b2a-96ba-db80f6e738a3",
   "metadata": {},
   "outputs": [
    {
     "data": {
      "text/html": [
       "<div>\n",
       "<style scoped>\n",
       "    .dataframe tbody tr th:only-of-type {\n",
       "        vertical-align: middle;\n",
       "    }\n",
       "\n",
       "    .dataframe tbody tr th {\n",
       "        vertical-align: top;\n",
       "    }\n",
       "\n",
       "    .dataframe thead th {\n",
       "        text-align: right;\n",
       "    }\n",
       "</style>\n",
       "<table border=\"1\" class=\"dataframe\">\n",
       "  <thead>\n",
       "    <tr style=\"text-align: right;\">\n",
       "      <th></th>\n",
       "      <th>company_permalink</th>\n",
       "      <th>funding_round_type</th>\n",
       "      <th>raised_amount_usd</th>\n",
       "    </tr>\n",
       "  </thead>\n",
       "  <tbody>\n",
       "    <tr>\n",
       "      <th>0</th>\n",
       "      <td>/organization/-fame</td>\n",
       "      <td>venture</td>\n",
       "      <td>10000000.0</td>\n",
       "    </tr>\n",
       "    <tr>\n",
       "      <th>1</th>\n",
       "      <td>/ORGANIZATION/-QOUNTER</td>\n",
       "      <td>venture</td>\n",
       "      <td>NaN</td>\n",
       "    </tr>\n",
       "    <tr>\n",
       "      <th>2</th>\n",
       "      <td>/organization/-qounter</td>\n",
       "      <td>seed</td>\n",
       "      <td>700000.0</td>\n",
       "    </tr>\n",
       "    <tr>\n",
       "      <th>3</th>\n",
       "      <td>/ORGANIZATION/-THE-ONE-OF-THEM-INC-</td>\n",
       "      <td>venture</td>\n",
       "      <td>3406878.0</td>\n",
       "    </tr>\n",
       "    <tr>\n",
       "      <th>4</th>\n",
       "      <td>/organization/0-6-com</td>\n",
       "      <td>venture</td>\n",
       "      <td>2000000.0</td>\n",
       "    </tr>\n",
       "  </tbody>\n",
       "</table>\n",
       "</div>"
      ],
      "text/plain": [
       "                     company_permalink funding_round_type  raised_amount_usd\n",
       "0                  /organization/-fame            venture         10000000.0\n",
       "1               /ORGANIZATION/-QOUNTER            venture                NaN\n",
       "2               /organization/-qounter               seed           700000.0\n",
       "3  /ORGANIZATION/-THE-ONE-OF-THEM-INC-            venture          3406878.0\n",
       "4                /organization/0-6-com            venture          2000000.0"
      ]
     },
     "execution_count": 14,
     "metadata": {},
     "output_type": "execute_result"
    }
   ],
   "source": [
    "rounds2_df_treated.head()"
   ]
  },
  {
   "cell_type": "markdown",
   "id": "07a2cf9f-d869-447b-8238-f9103d116aca",
   "metadata": {},
   "source": [
    "##### Raised amount USD is an important feature and has about 17% missing values, hence we should fill the missing values"
   ]
  },
  {
   "cell_type": "code",
   "execution_count": 15,
   "id": "72c630a9-791d-4810-807b-fd2d41e6e5b6",
   "metadata": {},
   "outputs": [
    {
     "data": {
      "text/plain": [
       "count    9.495900e+04\n",
       "mean     1.042687e+07\n",
       "std      1.148212e+08\n",
       "min      0.000000e+00\n",
       "25%      3.225000e+05\n",
       "50%      1.680511e+06\n",
       "75%      7.000000e+06\n",
       "max      2.127194e+10\n",
       "Name: raised_amount_usd, dtype: float64"
      ]
     },
     "execution_count": 15,
     "metadata": {},
     "output_type": "execute_result"
    }
   ],
   "source": [
    "rounds2_df_treated.raised_amount_usd.describe()"
   ]
  },
  {
   "cell_type": "markdown",
   "id": "4768295c-360a-4135-9316-27c2779f3832",
   "metadata": {},
   "source": [
    "<a id='raised_amount_usd_boxplot'></a>\n",
    "\n",
    "\n",
    "### Boxplot to perform outlier analysis for `raised_amount_usd` column"
   ]
  },
  {
   "cell_type": "code",
   "execution_count": 16,
   "id": "07b89314-bdbd-44a5-affd-d4aa7575f8b6",
   "metadata": {},
   "outputs": [
    {
     "data": {
      "image/png": "[encoded data removed]",
      "text/plain": [
       "<Figure size 432x288 with 1 Axes>"
      ]
     },
     "metadata": {},
     "output_type": "display_data"
    }
   ],
   "source": [
    "sns.set_style(\"whitegrid\")\n",
    "amount_box_plot = sns.boxplot(x = 'raised_amount_usd', data=rounds2_df_treated)\n",
    "amount_box_plot.set(xlabel='Amount in USD (x1000 Million)')\n",
    "plt.show()"
   ]
  },
  {
   "cell_type": "markdown",
   "id": "97e93f18-8530-47fa-8580-8e598eef5c49",
   "metadata": {},
   "source": [
    "As we can see from the plot above, \n",
    "- there are outliers in the dataset to the far right (top most values)\n",
    "- moreover, a lot of values are NaN (i.e. missing)  \n",
    "\n",
    "We will remove these values for better visualization.  \n",
    "To remove, we will select all values below the 95th percentile"
   ]
  },
  {
   "cell_type": "code",
   "execution_count": 17,
   "id": "53dbf44a-d6b7-46d2-8009-5a3851bfc585",
   "metadata": {},
   "outputs": [
    {
     "data": {
      "image/png": "[encoded data removed]",
      "text/plain": [
       "<Figure size 432x288 with 1 Axes>"
      ]
     },
     "metadata": {},
     "output_type": "display_data"
    }
   ],
   "source": [
    "rounds2_df_outlier_removed = rounds2_df_treated[rounds2_df_treated.raised_amount_usd < rounds2_df_treated.raised_amount_usd.quantile(q=0.95)]\n",
    "amount_box_plot = sns.boxplot(x = 'raised_amount_usd', data=rounds2_df_outlier_removed)\n",
    "amount_box_plot.set(xlabel='Amount in USD (x10 Million)')\n",
    "plt.show()"
   ]
  },
  {
   "cell_type": "code",
   "execution_count": 18,
   "id": "46ebf6ff-a639-4354-8a69-4195c4f111b6",
   "metadata": {},
   "outputs": [
    {
     "data": {
      "text/html": [
       "<div>\n",
       "<style scoped>\n",
       "    .dataframe tbody tr th:only-of-type {\n",
       "        vertical-align: middle;\n",
       "    }\n",
       "\n",
       "    .dataframe tbody tr th {\n",
       "        vertical-align: top;\n",
       "    }\n",
       "\n",
       "    .dataframe thead th {\n",
       "        text-align: right;\n",
       "    }\n",
       "</style>\n",
       "<table border=\"1\" class=\"dataframe\">\n",
       "  <thead>\n",
       "    <tr style=\"text-align: right;\">\n",
       "      <th></th>\n",
       "      <th>raised_amount_usd</th>\n",
       "    </tr>\n",
       "  </thead>\n",
       "  <tbody>\n",
       "    <tr>\n",
       "      <th>count</th>\n",
       "      <td>9.016400e+04</td>\n",
       "    </tr>\n",
       "    <tr>\n",
       "      <th>mean</th>\n",
       "      <td>4.373364e+06</td>\n",
       "    </tr>\n",
       "    <tr>\n",
       "      <th>std</th>\n",
       "      <td>6.419298e+06</td>\n",
       "    </tr>\n",
       "    <tr>\n",
       "      <th>min</th>\n",
       "      <td>0.000000e+00</td>\n",
       "    </tr>\n",
       "    <tr>\n",
       "      <th>25%</th>\n",
       "      <td>3.000000e+05</td>\n",
       "    </tr>\n",
       "    <tr>\n",
       "      <th>50%</th>\n",
       "      <td>1.500000e+06</td>\n",
       "    </tr>\n",
       "    <tr>\n",
       "      <th>75%</th>\n",
       "      <td>5.527561e+06</td>\n",
       "    </tr>\n",
       "    <tr>\n",
       "      <th>max</th>\n",
       "      <td>3.293696e+07</td>\n",
       "    </tr>\n",
       "  </tbody>\n",
       "</table>\n",
       "</div>"
      ],
      "text/plain": [
       "       raised_amount_usd\n",
       "count       9.016400e+04\n",
       "mean        4.373364e+06\n",
       "std         6.419298e+06\n",
       "min         0.000000e+00\n",
       "25%         3.000000e+05\n",
       "50%         1.500000e+06\n",
       "75%         5.527561e+06\n",
       "max         3.293696e+07"
      ]
     },
     "execution_count": 18,
     "metadata": {},
     "output_type": "execute_result"
    }
   ],
   "source": [
    "rounds2_df_outlier_removed.describe()"
   ]
  },
  {
   "cell_type": "markdown",
   "id": "20d97644-a669-4f79-a16d-0f2459dbaa03",
   "metadata": {},
   "source": [
    "After removing outliers, (& NaN values, as that is default behavior of quantile selection in pandas [see #1](https://stackoverflow.com/a/24047916))\n",
    "- The mean has come down significantly (from 10 Million, to 4.3 Million)\n",
    "- The boxplot is plotted such that we can see that the median is somewhere in 1-2 million (near to 1.5 Million), which is what we saw earlier as well\n",
    "- There are many values above the upper-fence, however, they concentrated and form a line, so these values are acc\n",
    "\n",
    "##### Given this information, it is clear that median will be a better approximation for filling missing values\n",
    "\n",
    "#### Note: We aren't removing outliers from the dataset, the above process was followed for visualization only"
   ]
  },
  {
   "cell_type": "markdown",
   "id": "10d0025e-6abb-49c9-81f4-557a21450d6b",
   "metadata": {},
   "source": [
    "Further, we try to find median for each type of funding"
   ]
  },
  {
   "cell_type": "code",
   "execution_count": 19,
   "id": "2e9ddd3c-ecf3-407c-9445-015191bdfa52",
   "metadata": {},
   "outputs": [
    {
     "data": {
      "text/html": [
       "<div>\n",
       "<style scoped>\n",
       "    .dataframe tbody tr th:only-of-type {\n",
       "        vertical-align: middle;\n",
       "    }\n",
       "\n",
       "    .dataframe tbody tr th {\n",
       "        vertical-align: top;\n",
       "    }\n",
       "\n",
       "    .dataframe thead th {\n",
       "        text-align: right;\n",
       "    }\n",
       "</style>\n",
       "<table border=\"1\" class=\"dataframe\">\n",
       "  <thead>\n",
       "    <tr style=\"text-align: right;\">\n",
       "      <th></th>\n",
       "      <th>raised_amount_usd</th>\n",
       "    </tr>\n",
       "    <tr>\n",
       "      <th>funding_round_type</th>\n",
       "      <th></th>\n",
       "    </tr>\n",
       "  </thead>\n",
       "  <tbody>\n",
       "    <tr>\n",
       "      <th>angel</th>\n",
       "      <td>400000.0</td>\n",
       "    </tr>\n",
       "    <tr>\n",
       "      <th>convertible_note</th>\n",
       "      <td>272000.0</td>\n",
       "    </tr>\n",
       "    <tr>\n",
       "      <th>debt_financing</th>\n",
       "      <td>1100000.0</td>\n",
       "    </tr>\n",
       "    <tr>\n",
       "      <th>equity_crowdfunding</th>\n",
       "      <td>100000.0</td>\n",
       "    </tr>\n",
       "    <tr>\n",
       "      <th>grant</th>\n",
       "      <td>201684.0</td>\n",
       "    </tr>\n",
       "    <tr>\n",
       "      <th>non_equity_assistance</th>\n",
       "      <td>60000.0</td>\n",
       "    </tr>\n",
       "    <tr>\n",
       "      <th>post_ipo_debt</th>\n",
       "      <td>19950000.0</td>\n",
       "    </tr>\n",
       "    <tr>\n",
       "      <th>post_ipo_equity</th>\n",
       "      <td>12262852.5</td>\n",
       "    </tr>\n",
       "    <tr>\n",
       "      <th>private_equity</th>\n",
       "      <td>20000000.0</td>\n",
       "    </tr>\n",
       "    <tr>\n",
       "      <th>product_crowdfunding</th>\n",
       "      <td>183915.0</td>\n",
       "    </tr>\n",
       "    <tr>\n",
       "      <th>secondary_market</th>\n",
       "      <td>32600000.0</td>\n",
       "    </tr>\n",
       "    <tr>\n",
       "      <th>seed</th>\n",
       "      <td>275000.0</td>\n",
       "    </tr>\n",
       "    <tr>\n",
       "      <th>undisclosed</th>\n",
       "      <td>1018680.0</td>\n",
       "    </tr>\n",
       "    <tr>\n",
       "      <th>venture</th>\n",
       "      <td>5000000.0</td>\n",
       "    </tr>\n",
       "  </tbody>\n",
       "</table>\n",
       "</div>"
      ],
      "text/plain": [
       "                       raised_amount_usd\n",
       "funding_round_type                      \n",
       "angel                           400000.0\n",
       "convertible_note                272000.0\n",
       "debt_financing                 1100000.0\n",
       "equity_crowdfunding             100000.0\n",
       "grant                           201684.0\n",
       "non_equity_assistance            60000.0\n",
       "post_ipo_debt                 19950000.0\n",
       "post_ipo_equity               12262852.5\n",
       "private_equity                20000000.0\n",
       "product_crowdfunding            183915.0\n",
       "secondary_market              32600000.0\n",
       "seed                            275000.0\n",
       "undisclosed                    1018680.0\n",
       "venture                        5000000.0"
      ]
     },
     "execution_count": 19,
     "metadata": {},
     "output_type": "execute_result"
    }
   ],
   "source": [
    "# Pivot Table to see median grouped by funding_round_type\n",
    "rounds2_df_treated.pivot_table(\n",
    "    index = 'funding_round_type',\n",
    "    values = 'raised_amount_usd',\n",
    "    aggfunc = 'median'\n",
    ")"
   ]
  },
  {
   "cell_type": "markdown",
   "id": "ab57a1e0-f585-4bdc-9235-68a79f67da6d",
   "metadata": {},
   "source": [
    "We are choosing to fill missing values based on round_type, instead of the general median, since the raised amount is directly linked with what type of round it is."
   ]
  },
  {
   "cell_type": "code",
   "execution_count": 20,
   "id": "a1b9f1e4-3d62-4703-b5e8-16c72c1449c9",
   "metadata": {},
   "outputs": [],
   "source": [
    "rounds2_df_treated.raised_amount_usd = rounds2_df_treated.raised_amount_usd.fillna(rounds2_df_treated.groupby('funding_round_type').raised_amount_usd.transform('median'))\n",
    "# rounds2_df_treated.head()"
   ]
  },
  {
   "cell_type": "markdown",
   "id": "be165612-2bdc-45df-b4b6-c45305b37a90",
   "metadata": {},
   "source": [
    "#### rounds2 missing values treated"
   ]
  },
  {
   "cell_type": "code",
   "execution_count": 21,
   "id": "2f11d5f0-52c7-4e16-9f09-5557b665b4dc",
   "metadata": {},
   "outputs": [
    {
     "name": "stdout",
     "output_type": "stream",
     "text": [
      "<class 'pandas.core.frame.DataFrame'>\n",
      "RangeIndex: 114949 entries, 0 to 114948\n",
      "Data columns (total 3 columns):\n",
      " #   Column              Non-Null Count   Dtype  \n",
      "---  ------              --------------   -----  \n",
      " 0   company_permalink   114949 non-null  object \n",
      " 1   funding_round_type  114949 non-null  object \n",
      " 2   raised_amount_usd   114949 non-null  float64\n",
      "dtypes: float64(1), object(2)\n",
      "memory usage: 2.6+ MB\n"
     ]
    }
   ],
   "source": [
    "rounds2_df_treated.info()"
   ]
  },
  {
   "cell_type": "code",
   "execution_count": 22,
   "id": "b8639b3e-e8dd-4a2d-ab29-ece63b25b4af",
   "metadata": {},
   "outputs": [],
   "source": [
    "# converting company_permalink to lowercase\n",
    "rounds2_df_treated.company_permalink = rounds2_df_treated.company_permalink.apply(lambda x: str(x).lower())"
   ]
  },
  {
   "cell_type": "code",
   "execution_count": 23,
   "id": "d5821dc7-141c-4000-8ae2-f2379531ce5b",
   "metadata": {},
   "outputs": [
    {
     "data": {
      "text/plain": [
       "count                       114949\n",
       "unique                       66373\n",
       "top       /organization/solarflare\n",
       "freq                            19\n",
       "Name: company_permalink, dtype: object"
      ]
     },
     "execution_count": 23,
     "metadata": {},
     "output_type": "execute_result"
    }
   ],
   "source": [
    "rounds2_df_treated.company_permalink.describe()"
   ]
  },
  {
   "cell_type": "markdown",
   "id": "0b84af78-d18d-4eba-a605-8f7ae72a5da9",
   "metadata": {},
   "source": [
    "### Null Value Analysis - Companies"
   ]
  },
  {
   "cell_type": "code",
   "execution_count": 24,
   "id": "fc1d9b79-61c6-4336-8cea-324464c8fa85",
   "metadata": {},
   "outputs": [
    {
     "name": "stdout",
     "output_type": "stream",
     "text": [
      "<class 'pandas.core.frame.DataFrame'>\n",
      "RangeIndex: 66368 entries, 0 to 66367\n",
      "Data columns (total 3 columns):\n",
      " #   Column         Non-Null Count  Dtype \n",
      "---  ------         --------------  ----- \n",
      " 0   permalink      66368 non-null  object\n",
      " 1   category_list  63220 non-null  object\n",
      " 2   country_code   59410 non-null  object\n",
      "dtypes: object(3)\n",
      "memory usage: 1.5+ MB\n"
     ]
    }
   ],
   "source": [
    "companies_df.info()"
   ]
  },
  {
   "cell_type": "code",
   "execution_count": 25,
   "id": "a15d7ac9-7d9f-4d74-9397-c2bbb1881de2",
   "metadata": {},
   "outputs": [
    {
     "data": {
      "text/plain": [
       "4.74"
      ]
     },
     "execution_count": 25,
     "metadata": {},
     "output_type": "execute_result"
    }
   ],
   "source": [
    "# percentage of missing value in category_list\n",
    "round(sum(companies_df.category_list.isnull())/len(companies_df)*100, 2)"
   ]
  },
  {
   "cell_type": "code",
   "execution_count": 26,
   "id": "eeeff5ba-7058-4fc7-9f53-3a3a842fe40b",
   "metadata": {},
   "outputs": [
    {
     "data": {
      "text/plain": [
       "10.48"
      ]
     },
     "execution_count": 26,
     "metadata": {},
     "output_type": "execute_result"
    }
   ],
   "source": [
    "# percentage of missing value in country_code\n",
    "round(sum(companies_df.country_code.isnull())/len(companies_df)*100, 2)"
   ]
  },
  {
   "cell_type": "markdown",
   "id": "1e52044e-5a78-4f7e-a1ad-41e32970e952",
   "metadata": {},
   "source": [
    "As per the above analysis, we find that\n",
    "- there are 66368 entries in the dataframe\n",
    "- no missing values in permalink\n",
    "- category_list has ~5% missing values\n",
    "- country_code has ~10% missing values"
   ]
  },
  {
   "cell_type": "markdown",
   "id": "2303c416-2f16-47fe-9a14-125c649038ac",
   "metadata": {},
   "source": [
    "### Treating missing values - companies"
   ]
  },
  {
   "cell_type": "markdown",
   "id": "443752b1-d0a0-434a-bd13-4b76f7884622",
   "metadata": {},
   "source": [
    "##### As 5% data is missing in category_list, we can choose the most prominent category (mode) and fill the missing values with it. \n",
    "- Filling Mode for NaN values [see #2](https://stackoverflow.com/a/42789818/7048915)"
   ]
  },
  {
   "cell_type": "code",
   "execution_count": 27,
   "id": "2b098a66-1ec1-4dad-8de2-107011bb12bf",
   "metadata": {},
   "outputs": [
    {
     "data": {
      "text/plain": [
       "'Software'"
      ]
     },
     "execution_count": 27,
     "metadata": {},
     "output_type": "execute_result"
    }
   ],
   "source": [
    "companies_df.category_list.mode()[0]"
   ]
  },
  {
   "cell_type": "code",
   "execution_count": 28,
   "id": "a2916cfb-c7ae-477f-a878-58dfdd2df4b8",
   "metadata": {},
   "outputs": [],
   "source": [
    "companies_df_treated = companies_df.copy()"
   ]
  },
  {
   "cell_type": "code",
   "execution_count": 29,
   "id": "b277ca6d-b7d2-4a20-9177-73719fc75107",
   "metadata": {},
   "outputs": [],
   "source": [
    "companies_df_treated.category_list = companies_df_treated.category_list.fillna(companies_df_treated.category_list.mode()[0])\n",
    "#companies_df_treated.head()"
   ]
  },
  {
   "cell_type": "code",
   "execution_count": 30,
   "id": "9b231558-8140-4fe0-b1cd-de9569232189",
   "metadata": {},
   "outputs": [],
   "source": [
    "#companies_df[companies_df.category_list.isnull()]"
   ]
  },
  {
   "cell_type": "code",
   "execution_count": 31,
   "id": "ffa39742-565e-4c00-b688-4274f6223106",
   "metadata": {},
   "outputs": [
    {
     "data": {
      "text/html": [
       "<div>\n",
       "<style scoped>\n",
       "    .dataframe tbody tr th:only-of-type {\n",
       "        vertical-align: middle;\n",
       "    }\n",
       "\n",
       "    .dataframe tbody tr th {\n",
       "        vertical-align: top;\n",
       "    }\n",
       "\n",
       "    .dataframe thead th {\n",
       "        text-align: right;\n",
       "    }\n",
       "</style>\n",
       "<table border=\"1\" class=\"dataframe\">\n",
       "  <thead>\n",
       "    <tr style=\"text-align: right;\">\n",
       "      <th></th>\n",
       "      <th>permalink</th>\n",
       "      <th>category_list</th>\n",
       "      <th>country_code</th>\n",
       "    </tr>\n",
       "  </thead>\n",
       "  <tbody>\n",
       "  </tbody>\n",
       "</table>\n",
       "</div>"
      ],
      "text/plain": [
       "Empty DataFrame\n",
       "Columns: [permalink, category_list, country_code]\n",
       "Index: []"
      ]
     },
     "execution_count": 31,
     "metadata": {},
     "output_type": "execute_result"
    }
   ],
   "source": [
    "companies_df_treated[companies_df_treated.category_list.isnull()]"
   ]
  },
  {
   "cell_type": "markdown",
   "id": "d5bfef43-51f2-4f93-8f17-2d707224d607",
   "metadata": {},
   "source": [
    "##### As 10% data is missing from country_code, we are choosing to fill it with this with the mode (most prominent value) of this column."
   ]
  },
  {
   "cell_type": "code",
   "execution_count": 32,
   "id": "4d54494c-cb67-4233-9190-0d3cad39902d",
   "metadata": {},
   "outputs": [
    {
     "data": {
      "text/plain": [
       "'USA'"
      ]
     },
     "execution_count": 32,
     "metadata": {},
     "output_type": "execute_result"
    }
   ],
   "source": [
    "companies_df_treated.country_code.mode()[0]"
   ]
  },
  {
   "cell_type": "code",
   "execution_count": 33,
   "id": "6dd2b00a-4c8c-4b89-9de6-6350362ea02e",
   "metadata": {},
   "outputs": [],
   "source": [
    "companies_df_treated.country_code = companies_df_treated.country_code.fillna(companies_df_treated.country_code.mode()[0])\n",
    "# companies_df.head()"
   ]
  },
  {
   "cell_type": "markdown",
   "id": "f5646d2a-f35c-4f50-b30c-66ee2f1d750e",
   "metadata": {},
   "source": [
    "#### companies missing values treated"
   ]
  },
  {
   "cell_type": "code",
   "execution_count": 34,
   "id": "c960a2fa-eae5-4346-8faa-3d2bc79b43da",
   "metadata": {},
   "outputs": [
    {
     "name": "stdout",
     "output_type": "stream",
     "text": [
      "<class 'pandas.core.frame.DataFrame'>\n",
      "RangeIndex: 66368 entries, 0 to 66367\n",
      "Data columns (total 3 columns):\n",
      " #   Column         Non-Null Count  Dtype \n",
      "---  ------         --------------  ----- \n",
      " 0   permalink      66368 non-null  object\n",
      " 1   category_list  66368 non-null  object\n",
      " 2   country_code   66368 non-null  object\n",
      "dtypes: object(3)\n",
      "memory usage: 1.5+ MB\n"
     ]
    }
   ],
   "source": [
    "companies_df_treated.info()"
   ]
  },
  {
   "cell_type": "code",
   "execution_count": 35,
   "id": "58d2272b-7337-4035-9cd6-ae1cfa5d57a3",
   "metadata": {},
   "outputs": [
    {
     "data": {
      "text/html": [
       "<div>\n",
       "<style scoped>\n",
       "    .dataframe tbody tr th:only-of-type {\n",
       "        vertical-align: middle;\n",
       "    }\n",
       "\n",
       "    .dataframe tbody tr th {\n",
       "        vertical-align: top;\n",
       "    }\n",
       "\n",
       "    .dataframe thead th {\n",
       "        text-align: right;\n",
       "    }\n",
       "</style>\n",
       "<table border=\"1\" class=\"dataframe\">\n",
       "  <thead>\n",
       "    <tr style=\"text-align: right;\">\n",
       "      <th></th>\n",
       "      <th>permalink</th>\n",
       "      <th>category_list</th>\n",
       "      <th>country_code</th>\n",
       "    </tr>\n",
       "  </thead>\n",
       "  <tbody>\n",
       "    <tr>\n",
       "      <th>0</th>\n",
       "      <td>/organization/-fame</td>\n",
       "      <td>Media</td>\n",
       "      <td>IND</td>\n",
       "    </tr>\n",
       "    <tr>\n",
       "      <th>1</th>\n",
       "      <td>/organization/-qounter</td>\n",
       "      <td>Application Platforms|Real Time|Social Network...</td>\n",
       "      <td>USA</td>\n",
       "    </tr>\n",
       "    <tr>\n",
       "      <th>2</th>\n",
       "      <td>/organization/-the-one-of-them-inc-</td>\n",
       "      <td>Apps|Games|Mobile</td>\n",
       "      <td>USA</td>\n",
       "    </tr>\n",
       "    <tr>\n",
       "      <th>3</th>\n",
       "      <td>/organization/0-6-com</td>\n",
       "      <td>Curated Web</td>\n",
       "      <td>CHN</td>\n",
       "    </tr>\n",
       "    <tr>\n",
       "      <th>4</th>\n",
       "      <td>/organization/004-technologies</td>\n",
       "      <td>Software</td>\n",
       "      <td>USA</td>\n",
       "    </tr>\n",
       "  </tbody>\n",
       "</table>\n",
       "</div>"
      ],
      "text/plain": [
       "                             permalink  \\\n",
       "0                  /organization/-fame   \n",
       "1               /organization/-qounter   \n",
       "2  /organization/-the-one-of-them-inc-   \n",
       "3                /organization/0-6-com   \n",
       "4       /organization/004-technologies   \n",
       "\n",
       "                                       category_list country_code  \n",
       "0                                              Media          IND  \n",
       "1  Application Platforms|Real Time|Social Network...          USA  \n",
       "2                                  Apps|Games|Mobile          USA  \n",
       "3                                        Curated Web          CHN  \n",
       "4                                           Software          USA  "
      ]
     },
     "execution_count": 35,
     "metadata": {},
     "output_type": "execute_result"
    }
   ],
   "source": [
    "# converting company_permalink to lowercase\n",
    "companies_df_treated.permalink = companies_df_treated.permalink.apply(lambda x: str(x).lower())\n",
    "companies_df_treated.head()"
   ]
  },
  {
   "cell_type": "markdown",
   "id": "7d7a6248-54c9-484a-a210-1a92d825a13d",
   "metadata": {},
   "source": [
    "### Permalink Anlysis - rounds2 vs companies"
   ]
  },
  {
   "cell_type": "code",
   "execution_count": 36,
   "id": "397f02ed-6572-41c0-a7d3-50bbd3e2779d",
   "metadata": {},
   "outputs": [
    {
     "name": "stdout",
     "output_type": "stream",
     "text": [
      "<class 'pandas.core.frame.DataFrame'>\n",
      "RangeIndex: 114949 entries, 0 to 114948\n",
      "Data columns (total 3 columns):\n",
      " #   Column              Non-Null Count   Dtype  \n",
      "---  ------              --------------   -----  \n",
      " 0   company_permalink   114949 non-null  object \n",
      " 1   funding_round_type  114949 non-null  object \n",
      " 2   raised_amount_usd   114949 non-null  float64\n",
      "dtypes: float64(1), object(2)\n",
      "memory usage: 2.6+ MB\n"
     ]
    }
   ],
   "source": [
    "rounds2_df_treated.info()"
   ]
  },
  {
   "cell_type": "code",
   "execution_count": 37,
   "id": "3fe92903-1a67-4301-8928-cbe1d2344384",
   "metadata": {},
   "outputs": [
    {
     "data": {
      "text/plain": [
       "count                       114949\n",
       "unique                       66373\n",
       "top       /organization/solarflare\n",
       "freq                            19\n",
       "Name: company_permalink, dtype: object"
      ]
     },
     "execution_count": 37,
     "metadata": {},
     "output_type": "execute_result"
    }
   ],
   "source": [
    "rounds2_df_treated.company_permalink.describe()"
   ]
  },
  {
   "cell_type": "code",
   "execution_count": 38,
   "id": "d46a1f80-9d5c-44f8-aa17-f51459d60d2c",
   "metadata": {},
   "outputs": [
    {
     "data": {
      "text/plain": [
       "count                     66368\n",
       "unique                    66368\n",
       "top       /organization/maxcart\n",
       "freq                          1\n",
       "Name: permalink, dtype: object"
      ]
     },
     "execution_count": 38,
     "metadata": {},
     "output_type": "execute_result"
    }
   ],
   "source": [
    "companies_df_treated.permalink.describe()"
   ]
  },
  {
   "cell_type": "code",
   "execution_count": 39,
   "id": "953b9e70-995f-4fba-8012-c89b18beb7e6",
   "metadata": {},
   "outputs": [
    {
     "data": {
      "text/plain": [
       "{'/organization/affluent-attaché-club-2',\n",
       " '/organization/asiansbook\\x84�',\n",
       " '/organization/boréal-bikes-incorporated',\n",
       " '/organization/bricoprivé-com',\n",
       " '/organization/capptú',\n",
       " '/organization/crème-ciseaux',\n",
       " '/organization/e-cêbica',\n",
       " '/organization/energystone-games-ǁ�ǟ�ƹ�ƈ�',\n",
       " '/organization/etool-io\\x94',\n",
       " '/organization/gráfica-en-línea',\n",
       " '/organization/huizuche-com-惠��车',\n",
       " '/organization/ignia-bienes-raíces',\n",
       " '/organization/inveno-英威诺',\n",
       " '/organization/iproof---the-foundation-for-the-internet-of-things\\x84�',\n",
       " '/organization/it\\x80�s-all-about-me',\n",
       " '/organization/jean-pütz-produkte',\n",
       " '/organization/jiwu-吉屋网',\n",
       " '/organization/know\\x80�n\\x80�act',\n",
       " '/organization/k��k',\n",
       " '/organization/lawpàdí',\n",
       " '/organization/magnet-tech-ǣ�ǟ�ǧ�ɗ�',\n",
       " '/organization/magnet-tech-磁���科暀',\n",
       " '/organization/monnier-frères',\n",
       " '/organization/médica-santa-carmen-2',\n",
       " '/organization/patrofi̇n',\n",
       " '/organization/proděti-cz',\n",
       " '/organization/prześwietl-pl',\n",
       " '/organization/salão-vip',\n",
       " '/organization/talentsigned\\x84�',\n",
       " '/organization/thế-giới-di-�ộng',\n",
       " '/organization/tipcat-interactive-沙��信息科暀',\n",
       " '/organization/tío-conejo',\n",
       " '/organization/vá-de-táxi',\n",
       " '/organization/weiche-tech-ŗ�ƚ�ǧ�ɗ�',\n",
       " '/organization/weiche-tech-喂车科暀',\n",
       " '/organization/whodat\\x80�s-spaces',\n",
       " '/organization/zengame-ǧ�ƹ�ǧ�ɗ�',\n",
       " '/organization/�eron',\n",
       " '/organization/�novatiff-reklam-ve-tan�t�m-hizmetleri-tic'}"
      ]
     },
     "execution_count": 39,
     "metadata": {},
     "output_type": "execute_result"
    }
   ],
   "source": [
    "set(rounds2_df_treated.company_permalink) - set(companies_df_treated.permalink)"
   ]
  },
  {
   "cell_type": "markdown",
   "id": "9f3a58eb-124c-40dd-bb58-e2cca4eec91a",
   "metadata": {},
   "source": [
    "##### Remove non Ascii Characters from permalink - [see #4](https://stackoverflow.com/a/56744855/7048915)"
   ]
  },
  {
   "cell_type": "code",
   "execution_count": 40,
   "id": "80b38de1-4a3a-41ac-9fcb-45594521d0e8",
   "metadata": {},
   "outputs": [
    {
     "data": {
      "text/html": [
       "<div>\n",
       "<style scoped>\n",
       "    .dataframe tbody tr th:only-of-type {\n",
       "        vertical-align: middle;\n",
       "    }\n",
       "\n",
       "    .dataframe tbody tr th {\n",
       "        vertical-align: top;\n",
       "    }\n",
       "\n",
       "    .dataframe thead th {\n",
       "        text-align: right;\n",
       "    }\n",
       "</style>\n",
       "<table border=\"1\" class=\"dataframe\">\n",
       "  <thead>\n",
       "    <tr style=\"text-align: right;\">\n",
       "      <th></th>\n",
       "      <th>permalink</th>\n",
       "      <th>category_list</th>\n",
       "      <th>country_code</th>\n",
       "    </tr>\n",
       "  </thead>\n",
       "  <tbody>\n",
       "    <tr>\n",
       "      <th>0</th>\n",
       "      <td>/organization/-fame</td>\n",
       "      <td>Media</td>\n",
       "      <td>IND</td>\n",
       "    </tr>\n",
       "    <tr>\n",
       "      <th>1</th>\n",
       "      <td>/organization/-qounter</td>\n",
       "      <td>Application Platforms|Real Time|Social Network...</td>\n",
       "      <td>USA</td>\n",
       "    </tr>\n",
       "    <tr>\n",
       "      <th>2</th>\n",
       "      <td>/organization/-the-one-of-them-inc-</td>\n",
       "      <td>Apps|Games|Mobile</td>\n",
       "      <td>USA</td>\n",
       "    </tr>\n",
       "    <tr>\n",
       "      <th>3</th>\n",
       "      <td>/organization/0-6-com</td>\n",
       "      <td>Curated Web</td>\n",
       "      <td>CHN</td>\n",
       "    </tr>\n",
       "    <tr>\n",
       "      <th>4</th>\n",
       "      <td>/organization/004-technologies</td>\n",
       "      <td>Software</td>\n",
       "      <td>USA</td>\n",
       "    </tr>\n",
       "  </tbody>\n",
       "</table>\n",
       "</div>"
      ],
      "text/plain": [
       "                             permalink  \\\n",
       "0                  /organization/-fame   \n",
       "1               /organization/-qounter   \n",
       "2  /organization/-the-one-of-them-inc-   \n",
       "3                /organization/0-6-com   \n",
       "4       /organization/004-technologies   \n",
       "\n",
       "                                       category_list country_code  \n",
       "0                                              Media          IND  \n",
       "1  Application Platforms|Real Time|Social Network...          USA  \n",
       "2                                  Apps|Games|Mobile          USA  \n",
       "3                                        Curated Web          CHN  \n",
       "4                                           Software          USA  "
      ]
     },
     "execution_count": 40,
     "metadata": {},
     "output_type": "execute_result"
    }
   ],
   "source": [
    "companies_df_treated.permalink = companies_df_treated['permalink'].str.encode('ascii', 'ignore').str.decode('ascii')\n",
    "companies_df_treated.head()"
   ]
  },
  {
   "cell_type": "code",
   "execution_count": 41,
   "id": "b90d2110-2888-478b-9288-13f999b58d9c",
   "metadata": {},
   "outputs": [
    {
     "data": {
      "text/html": [
       "<div>\n",
       "<style scoped>\n",
       "    .dataframe tbody tr th:only-of-type {\n",
       "        vertical-align: middle;\n",
       "    }\n",
       "\n",
       "    .dataframe tbody tr th {\n",
       "        vertical-align: top;\n",
       "    }\n",
       "\n",
       "    .dataframe thead th {\n",
       "        text-align: right;\n",
       "    }\n",
       "</style>\n",
       "<table border=\"1\" class=\"dataframe\">\n",
       "  <thead>\n",
       "    <tr style=\"text-align: right;\">\n",
       "      <th></th>\n",
       "      <th>company_permalink</th>\n",
       "      <th>funding_round_type</th>\n",
       "      <th>raised_amount_usd</th>\n",
       "    </tr>\n",
       "  </thead>\n",
       "  <tbody>\n",
       "    <tr>\n",
       "      <th>0</th>\n",
       "      <td>/organization/-fame</td>\n",
       "      <td>venture</td>\n",
       "      <td>10000000.0</td>\n",
       "    </tr>\n",
       "    <tr>\n",
       "      <th>1</th>\n",
       "      <td>/organization/-qounter</td>\n",
       "      <td>venture</td>\n",
       "      <td>5000000.0</td>\n",
       "    </tr>\n",
       "    <tr>\n",
       "      <th>2</th>\n",
       "      <td>/organization/-qounter</td>\n",
       "      <td>seed</td>\n",
       "      <td>700000.0</td>\n",
       "    </tr>\n",
       "    <tr>\n",
       "      <th>3</th>\n",
       "      <td>/organization/-the-one-of-them-inc-</td>\n",
       "      <td>venture</td>\n",
       "      <td>3406878.0</td>\n",
       "    </tr>\n",
       "    <tr>\n",
       "      <th>4</th>\n",
       "      <td>/organization/0-6-com</td>\n",
       "      <td>venture</td>\n",
       "      <td>2000000.0</td>\n",
       "    </tr>\n",
       "  </tbody>\n",
       "</table>\n",
       "</div>"
      ],
      "text/plain": [
       "                     company_permalink funding_round_type  raised_amount_usd\n",
       "0                  /organization/-fame            venture         10000000.0\n",
       "1               /organization/-qounter            venture          5000000.0\n",
       "2               /organization/-qounter               seed           700000.0\n",
       "3  /organization/-the-one-of-them-inc-            venture          3406878.0\n",
       "4                /organization/0-6-com            venture          2000000.0"
      ]
     },
     "execution_count": 41,
     "metadata": {},
     "output_type": "execute_result"
    }
   ],
   "source": [
    "rounds2_df_treated['company_permalink'] = rounds2_df_treated['company_permalink'].str.encode('ascii', 'ignore').str.decode('ascii')\n",
    "rounds2_df_treated.head()"
   ]
  },
  {
   "cell_type": "code",
   "execution_count": 42,
   "id": "5c0acf82-e60e-4fff-b137-ab5a7178c29a",
   "metadata": {},
   "outputs": [
    {
     "data": {
      "text/plain": [
       "{'/organization/novatiff-reklam-ve-tantm-hizmetleri-tic',\n",
       " '/organization/patrofin'}"
      ]
     },
     "execution_count": 42,
     "metadata": {},
     "output_type": "execute_result"
    }
   ],
   "source": [
    "set(rounds2_df_treated['company_permalink']) - set(companies_df_treated['permalink'])"
   ]
  },
  {
   "cell_type": "code",
   "execution_count": 43,
   "id": "d9724528-e72b-472e-a357-b18d3c53b8fe",
   "metadata": {},
   "outputs": [
    {
     "data": {
      "text/plain": [
       "{'/organization/inovatiff-reklam-ve-tantm-hizmetleri-tic',\n",
       " '/organization/patrofn'}"
      ]
     },
     "execution_count": 43,
     "metadata": {},
     "output_type": "execute_result"
    }
   ],
   "source": [
    "set(companies_df_treated['permalink']) - set(rounds2_df_treated['company_permalink'])"
   ]
  },
  {
   "cell_type": "markdown",
   "id": "d0d7f0f6-89d9-4a76-a8ed-a489b72dce40",
   "metadata": {},
   "source": [
    "##### Partial Match to verify if strings are same - [see #3](https://stackoverflow.com/a/56744855/7048915)"
   ]
  },
  {
   "cell_type": "code",
   "execution_count": 44,
   "id": "3575c744-47cd-4501-838d-d44cbdd676e9",
   "metadata": {},
   "outputs": [
    {
     "data": {
      "text/html": [
       "<div>\n",
       "<style scoped>\n",
       "    .dataframe tbody tr th:only-of-type {\n",
       "        vertical-align: middle;\n",
       "    }\n",
       "\n",
       "    .dataframe tbody tr th {\n",
       "        vertical-align: top;\n",
       "    }\n",
       "\n",
       "    .dataframe thead th {\n",
       "        text-align: right;\n",
       "    }\n",
       "</style>\n",
       "<table border=\"1\" class=\"dataframe\">\n",
       "  <thead>\n",
       "    <tr style=\"text-align: right;\">\n",
       "      <th></th>\n",
       "      <th>permalink</th>\n",
       "      <th>category_list</th>\n",
       "      <th>country_code</th>\n",
       "    </tr>\n",
       "  </thead>\n",
       "  <tbody>\n",
       "    <tr>\n",
       "      <th>42529</th>\n",
       "      <td>/Organization/Patrof�N</td>\n",
       "      <td>Software</td>\n",
       "      <td>TUR</td>\n",
       "    </tr>\n",
       "    <tr>\n",
       "      <th>42530</th>\n",
       "      <td>/Organization/Patron-Technology</td>\n",
       "      <td>Art|CRM|Enterprise Software|Music|Sports|Techn...</td>\n",
       "      <td>USA</td>\n",
       "    </tr>\n",
       "    <tr>\n",
       "      <th>42531</th>\n",
       "      <td>/Organization/Patronpath</td>\n",
       "      <td>Software</td>\n",
       "      <td>USA</td>\n",
       "    </tr>\n",
       "    <tr>\n",
       "      <th>42532</th>\n",
       "      <td>/Organization/Patronus-Medical</td>\n",
       "      <td>Medical</td>\n",
       "      <td>USA</td>\n",
       "    </tr>\n",
       "  </tbody>\n",
       "</table>\n",
       "</div>"
      ],
      "text/plain": [
       "                             permalink  \\\n",
       "42529           /Organization/Patrof�N   \n",
       "42530  /Organization/Patron-Technology   \n",
       "42531         /Organization/Patronpath   \n",
       "42532   /Organization/Patronus-Medical   \n",
       "\n",
       "                                           category_list country_code  \n",
       "42529                                           Software          TUR  \n",
       "42530  Art|CRM|Enterprise Software|Music|Sports|Techn...          USA  \n",
       "42531                                           Software          USA  \n",
       "42532                                            Medical          USA  "
      ]
     },
     "execution_count": 44,
     "metadata": {},
     "output_type": "execute_result"
    }
   ],
   "source": [
    "companies_df[companies_df['permalink'].str.contains('/Organization/Patro')]"
   ]
  },
  {
   "cell_type": "code",
   "execution_count": 45,
   "id": "2aaa4579-eebd-4ac9-8f90-0482fc0e3f3a",
   "metadata": {},
   "outputs": [
    {
     "data": {
      "text/html": [
       "<div>\n",
       "<style scoped>\n",
       "    .dataframe tbody tr th:only-of-type {\n",
       "        vertical-align: middle;\n",
       "    }\n",
       "\n",
       "    .dataframe tbody tr th {\n",
       "        vertical-align: top;\n",
       "    }\n",
       "\n",
       "    .dataframe thead th {\n",
       "        text-align: right;\n",
       "    }\n",
       "</style>\n",
       "<table border=\"1\" class=\"dataframe\">\n",
       "  <thead>\n",
       "    <tr style=\"text-align: right;\">\n",
       "      <th></th>\n",
       "      <th>permalink</th>\n",
       "      <th>category_list</th>\n",
       "      <th>country_code</th>\n",
       "    </tr>\n",
       "  </thead>\n",
       "  <tbody>\n",
       "    <tr>\n",
       "      <th>42529</th>\n",
       "      <td>/organization/patrofn</td>\n",
       "      <td>Software</td>\n",
       "      <td>TUR</td>\n",
       "    </tr>\n",
       "    <tr>\n",
       "      <th>42530</th>\n",
       "      <td>/organization/patron-technology</td>\n",
       "      <td>Art|CRM|Enterprise Software|Music|Sports|Techn...</td>\n",
       "      <td>USA</td>\n",
       "    </tr>\n",
       "    <tr>\n",
       "      <th>42531</th>\n",
       "      <td>/organization/patronpath</td>\n",
       "      <td>Software</td>\n",
       "      <td>USA</td>\n",
       "    </tr>\n",
       "    <tr>\n",
       "      <th>42532</th>\n",
       "      <td>/organization/patronus-medical</td>\n",
       "      <td>Medical</td>\n",
       "      <td>USA</td>\n",
       "    </tr>\n",
       "  </tbody>\n",
       "</table>\n",
       "</div>"
      ],
      "text/plain": [
       "                             permalink  \\\n",
       "42529            /organization/patrofn   \n",
       "42530  /organization/patron-technology   \n",
       "42531         /organization/patronpath   \n",
       "42532   /organization/patronus-medical   \n",
       "\n",
       "                                           category_list country_code  \n",
       "42529                                           Software          TUR  \n",
       "42530  Art|CRM|Enterprise Software|Music|Sports|Techn...          USA  \n",
       "42531                                           Software          USA  \n",
       "42532                                            Medical          USA  "
      ]
     },
     "execution_count": 45,
     "metadata": {},
     "output_type": "execute_result"
    }
   ],
   "source": [
    "companies_df_treated[companies_df_treated['permalink'].str.contains('/organization/patro')]"
   ]
  },
  {
   "cell_type": "code",
   "execution_count": 46,
   "id": "6e33f5e7-f3f8-4ced-8cef-c5447f9c5058",
   "metadata": {},
   "outputs": [
    {
     "data": {
      "text/html": [
       "<div>\n",
       "<style scoped>\n",
       "    .dataframe tbody tr th:only-of-type {\n",
       "        vertical-align: middle;\n",
       "    }\n",
       "\n",
       "    .dataframe tbody tr th {\n",
       "        vertical-align: top;\n",
       "    }\n",
       "\n",
       "    .dataframe thead th {\n",
       "        text-align: right;\n",
       "    }\n",
       "</style>\n",
       "<table border=\"1\" class=\"dataframe\">\n",
       "  <thead>\n",
       "    <tr style=\"text-align: right;\">\n",
       "      <th></th>\n",
       "      <th>company_permalink</th>\n",
       "      <th>funding_round_type</th>\n",
       "      <th>raised_amount_usd</th>\n",
       "    </tr>\n",
       "  </thead>\n",
       "  <tbody>\n",
       "    <tr>\n",
       "      <th>73633</th>\n",
       "      <td>/organization/patrofin</td>\n",
       "      <td>grant</td>\n",
       "      <td>42607.0</td>\n",
       "    </tr>\n",
       "    <tr>\n",
       "      <th>73634</th>\n",
       "      <td>/organization/patron-technology</td>\n",
       "      <td>angel</td>\n",
       "      <td>2500000.0</td>\n",
       "    </tr>\n",
       "    <tr>\n",
       "      <th>73635</th>\n",
       "      <td>/organization/patron-technology</td>\n",
       "      <td>debt_financing</td>\n",
       "      <td>600000.0</td>\n",
       "    </tr>\n",
       "    <tr>\n",
       "      <th>73636</th>\n",
       "      <td>/organization/patronpath</td>\n",
       "      <td>venture</td>\n",
       "      <td>700000.0</td>\n",
       "    </tr>\n",
       "    <tr>\n",
       "      <th>73637</th>\n",
       "      <td>/organization/patronus-medical</td>\n",
       "      <td>venture</td>\n",
       "      <td>1000000.0</td>\n",
       "    </tr>\n",
       "  </tbody>\n",
       "</table>\n",
       "</div>"
      ],
      "text/plain": [
       "                     company_permalink funding_round_type  raised_amount_usd\n",
       "73633           /organization/patrofin              grant            42607.0\n",
       "73634  /organization/patron-technology              angel          2500000.0\n",
       "73635  /organization/patron-technology     debt_financing           600000.0\n",
       "73636         /organization/patronpath            venture           700000.0\n",
       "73637   /organization/patronus-medical            venture          1000000.0"
      ]
     },
     "execution_count": 46,
     "metadata": {},
     "output_type": "execute_result"
    }
   ],
   "source": [
    "rounds2_df_treated[rounds2_df_treated['company_permalink'].str.contains('/organization/patro')]"
   ]
  },
  {
   "cell_type": "code",
   "execution_count": 47,
   "id": "c177e6f6-7b04-4a81-821d-c33c02f9f856",
   "metadata": {},
   "outputs": [
    {
     "data": {
      "text/plain": [
       "'/organization/inovatiff-reklam-ve-tantm-hizmetleri-tic'"
      ]
     },
     "execution_count": 47,
     "metadata": {},
     "output_type": "execute_result"
    }
   ],
   "source": [
    "companies_df_treated[companies_df_treated['permalink'].str.contains('reklam')]['permalink'][66367]"
   ]
  },
  {
   "cell_type": "code",
   "execution_count": 48,
   "id": "77f42b92-1f62-4abc-8829-ebd599ac7660",
   "metadata": {},
   "outputs": [
    {
     "data": {
      "text/plain": [
       "'/organization/novatiff-reklam-ve-tantm-hizmetleri-tic'"
      ]
     },
     "execution_count": 48,
     "metadata": {},
     "output_type": "execute_result"
    }
   ],
   "source": [
    "rounds2_df_treated[rounds2_df_treated['company_permalink'].str.contains('reklam')]['company_permalink'][114948]"
   ]
  },
  {
   "cell_type": "markdown",
   "id": "96535b5c-6f8a-44c1-a07c-722b9437a836",
   "metadata": {},
   "source": [
    "We can see that the permalinks are for same company, but character 'i' is encoded a bit differently in rounds2. \n",
    "We will fix these 2 entries manually"
   ]
  },
  {
   "cell_type": "code",
   "execution_count": 49,
   "id": "a73c9dce-6d92-473b-bf7e-54cd224908f4",
   "metadata": {},
   "outputs": [
    {
     "data": {
      "text/plain": [
       "'/organization/inovatiff-reklam-ve-tantm-hizmetleri-tic'"
      ]
     },
     "execution_count": 49,
     "metadata": {},
     "output_type": "execute_result"
    }
   ],
   "source": [
    "rounds2_df_treated.loc[[114948], 'company_permalink'] = '/organization/inovatiff-reklam-ve-tantm-hizmetleri-tic'\n",
    "rounds2_df_treated[rounds2_df_treated['company_permalink'].str.contains('reklam')]['company_permalink'][114948]"
   ]
  },
  {
   "cell_type": "code",
   "execution_count": 50,
   "id": "f8c6d244-65ee-426e-a926-1b90e12fedad",
   "metadata": {},
   "outputs": [
    {
     "data": {
      "text/html": [
       "<div>\n",
       "<style scoped>\n",
       "    .dataframe tbody tr th:only-of-type {\n",
       "        vertical-align: middle;\n",
       "    }\n",
       "\n",
       "    .dataframe tbody tr th {\n",
       "        vertical-align: top;\n",
       "    }\n",
       "\n",
       "    .dataframe thead th {\n",
       "        text-align: right;\n",
       "    }\n",
       "</style>\n",
       "<table border=\"1\" class=\"dataframe\">\n",
       "  <thead>\n",
       "    <tr style=\"text-align: right;\">\n",
       "      <th></th>\n",
       "      <th>permalink</th>\n",
       "      <th>category_list</th>\n",
       "      <th>country_code</th>\n",
       "    </tr>\n",
       "  </thead>\n",
       "  <tbody>\n",
       "    <tr>\n",
       "      <th>42529</th>\n",
       "      <td>/organization/patrofin</td>\n",
       "      <td>Software</td>\n",
       "      <td>TUR</td>\n",
       "    </tr>\n",
       "  </tbody>\n",
       "</table>\n",
       "</div>"
      ],
      "text/plain": [
       "                    permalink category_list country_code\n",
       "42529  /organization/patrofin      Software          TUR"
      ]
     },
     "execution_count": 50,
     "metadata": {},
     "output_type": "execute_result"
    }
   ],
   "source": [
    "companies_df_treated.loc[[42529], 'permalink'] = '/organization/patrofin'\n",
    "companies_df_treated[companies_df_treated['permalink'].str.contains('/organization/patrof')]"
   ]
  },
  {
   "cell_type": "markdown",
   "id": "350bf39c-76d7-4e78-b7be-41a2f2a3b591",
   "metadata": {},
   "source": [
    "#### Permalink values have been cleaned and normalized for both dataframes"
   ]
  },
  {
   "cell_type": "code",
   "execution_count": 51,
   "id": "e43b44db-9989-404a-a751-5591dd34e253",
   "metadata": {
    "tags": []
   },
   "outputs": [
    {
     "data": {
      "text/plain": [
       "set()"
      ]
     },
     "execution_count": 51,
     "metadata": {},
     "output_type": "execute_result"
    }
   ],
   "source": [
    "set(rounds2_df_treated['company_permalink']) - set(companies_df_treated['permalink'])"
   ]
  },
  {
   "cell_type": "code",
   "execution_count": 52,
   "id": "f745f174-f8d5-4ad8-9185-687788334827",
   "metadata": {},
   "outputs": [
    {
     "data": {
      "text/plain": [
       "count                       114949\n",
       "unique                       66368\n",
       "top       /organization/solarflare\n",
       "freq                            19\n",
       "Name: company_permalink, dtype: object"
      ]
     },
     "execution_count": 52,
     "metadata": {},
     "output_type": "execute_result"
    }
   ],
   "source": [
    "rounds2_df_treated.company_permalink.describe()"
   ]
  },
  {
   "cell_type": "code",
   "execution_count": 53,
   "id": "e9c83a9b-eb83-43d4-928c-f60a865086d7",
   "metadata": {},
   "outputs": [
    {
     "data": {
      "text/plain": [
       "count                     66368\n",
       "unique                    66368\n",
       "top       /organization/maxcart\n",
       "freq                          1\n",
       "Name: permalink, dtype: object"
      ]
     },
     "execution_count": 53,
     "metadata": {},
     "output_type": "execute_result"
    }
   ],
   "source": [
    "companies_df_treated.permalink.describe()"
   ]
  },
  {
   "cell_type": "markdown",
   "id": "bec4b43a-a7a0-46b4-a564-e7513c079845",
   "metadata": {},
   "source": [
    "#### We find out that both frames contain the same unique permalinks"
   ]
  },
  {
   "cell_type": "markdown",
   "id": "893d01c0-3db9-4f3a-b16e-30b1453a85aa",
   "metadata": {},
   "source": [
    "---\n",
    "### Merging rounds2 & companies dataframes after treatment"
   ]
  },
  {
   "cell_type": "code",
   "execution_count": 54,
   "id": "0716eb3d-d0b3-4be1-89d3-008329079613",
   "metadata": {},
   "outputs": [
    {
     "data": {
      "text/html": [
       "<div>\n",
       "<style scoped>\n",
       "    .dataframe tbody tr th:only-of-type {\n",
       "        vertical-align: middle;\n",
       "    }\n",
       "\n",
       "    .dataframe tbody tr th {\n",
       "        vertical-align: top;\n",
       "    }\n",
       "\n",
       "    .dataframe thead th {\n",
       "        text-align: right;\n",
       "    }\n",
       "</style>\n",
       "<table border=\"1\" class=\"dataframe\">\n",
       "  <thead>\n",
       "    <tr style=\"text-align: right;\">\n",
       "      <th></th>\n",
       "      <th>permalink</th>\n",
       "      <th>funding_round_type</th>\n",
       "      <th>raised_amount_usd</th>\n",
       "    </tr>\n",
       "  </thead>\n",
       "  <tbody>\n",
       "    <tr>\n",
       "      <th>0</th>\n",
       "      <td>/organization/-fame</td>\n",
       "      <td>venture</td>\n",
       "      <td>10000000.0</td>\n",
       "    </tr>\n",
       "    <tr>\n",
       "      <th>1</th>\n",
       "      <td>/organization/-qounter</td>\n",
       "      <td>venture</td>\n",
       "      <td>5000000.0</td>\n",
       "    </tr>\n",
       "    <tr>\n",
       "      <th>2</th>\n",
       "      <td>/organization/-qounter</td>\n",
       "      <td>seed</td>\n",
       "      <td>700000.0</td>\n",
       "    </tr>\n",
       "    <tr>\n",
       "      <th>3</th>\n",
       "      <td>/organization/-the-one-of-them-inc-</td>\n",
       "      <td>venture</td>\n",
       "      <td>3406878.0</td>\n",
       "    </tr>\n",
       "    <tr>\n",
       "      <th>4</th>\n",
       "      <td>/organization/0-6-com</td>\n",
       "      <td>venture</td>\n",
       "      <td>2000000.0</td>\n",
       "    </tr>\n",
       "  </tbody>\n",
       "</table>\n",
       "</div>"
      ],
      "text/plain": [
       "                             permalink funding_round_type  raised_amount_usd\n",
       "0                  /organization/-fame            venture         10000000.0\n",
       "1               /organization/-qounter            venture          5000000.0\n",
       "2               /organization/-qounter               seed           700000.0\n",
       "3  /organization/-the-one-of-them-inc-            venture          3406878.0\n",
       "4                /organization/0-6-com            venture          2000000.0"
      ]
     },
     "execution_count": 54,
     "metadata": {},
     "output_type": "execute_result"
    }
   ],
   "source": [
    "# changing name of column from company_permalink to permalink in rounds2 dataframe\n",
    "rounds2_df_treated = rounds2_df_treated.rename(columns={'company_permalink': 'permalink'})\n",
    "rounds2_df_treated.head()"
   ]
  },
  {
   "cell_type": "code",
   "execution_count": 55,
   "id": "95ee7355-e0e3-4438-ae96-c6d8b568d9eb",
   "metadata": {},
   "outputs": [],
   "source": [
    "master_frame = pd.merge(rounds2_df_treated, companies_df_treated, on='permalink')"
   ]
  },
  {
   "cell_type": "code",
   "execution_count": 56,
   "id": "bdd88929-ed31-4540-ae61-7b5e5bbae8c2",
   "metadata": {},
   "outputs": [
    {
     "data": {
      "text/html": [
       "<div>\n",
       "<style scoped>\n",
       "    .dataframe tbody tr th:only-of-type {\n",
       "        vertical-align: middle;\n",
       "    }\n",
       "\n",
       "    .dataframe tbody tr th {\n",
       "        vertical-align: top;\n",
       "    }\n",
       "\n",
       "    .dataframe thead th {\n",
       "        text-align: right;\n",
       "    }\n",
       "</style>\n",
       "<table border=\"1\" class=\"dataframe\">\n",
       "  <thead>\n",
       "    <tr style=\"text-align: right;\">\n",
       "      <th></th>\n",
       "      <th>permalink</th>\n",
       "      <th>funding_round_type</th>\n",
       "      <th>raised_amount_usd</th>\n",
       "      <th>category_list</th>\n",
       "      <th>country_code</th>\n",
       "    </tr>\n",
       "  </thead>\n",
       "  <tbody>\n",
       "    <tr>\n",
       "      <th>0</th>\n",
       "      <td>/organization/-fame</td>\n",
       "      <td>venture</td>\n",
       "      <td>10000000.0</td>\n",
       "      <td>Media</td>\n",
       "      <td>IND</td>\n",
       "    </tr>\n",
       "    <tr>\n",
       "      <th>1</th>\n",
       "      <td>/organization/-qounter</td>\n",
       "      <td>venture</td>\n",
       "      <td>5000000.0</td>\n",
       "      <td>Application Platforms|Real Time|Social Network...</td>\n",
       "      <td>USA</td>\n",
       "    </tr>\n",
       "    <tr>\n",
       "      <th>2</th>\n",
       "      <td>/organization/-qounter</td>\n",
       "      <td>seed</td>\n",
       "      <td>700000.0</td>\n",
       "      <td>Application Platforms|Real Time|Social Network...</td>\n",
       "      <td>USA</td>\n",
       "    </tr>\n",
       "    <tr>\n",
       "      <th>3</th>\n",
       "      <td>/organization/-the-one-of-them-inc-</td>\n",
       "      <td>venture</td>\n",
       "      <td>3406878.0</td>\n",
       "      <td>Apps|Games|Mobile</td>\n",
       "      <td>USA</td>\n",
       "    </tr>\n",
       "    <tr>\n",
       "      <th>4</th>\n",
       "      <td>/organization/0-6-com</td>\n",
       "      <td>venture</td>\n",
       "      <td>2000000.0</td>\n",
       "      <td>Curated Web</td>\n",
       "      <td>CHN</td>\n",
       "    </tr>\n",
       "  </tbody>\n",
       "</table>\n",
       "</div>"
      ],
      "text/plain": [
       "                             permalink funding_round_type  raised_amount_usd  \\\n",
       "0                  /organization/-fame            venture         10000000.0   \n",
       "1               /organization/-qounter            venture          5000000.0   \n",
       "2               /organization/-qounter               seed           700000.0   \n",
       "3  /organization/-the-one-of-them-inc-            venture          3406878.0   \n",
       "4                /organization/0-6-com            venture          2000000.0   \n",
       "\n",
       "                                       category_list country_code  \n",
       "0                                              Media          IND  \n",
       "1  Application Platforms|Real Time|Social Network...          USA  \n",
       "2  Application Platforms|Real Time|Social Network...          USA  \n",
       "3                                  Apps|Games|Mobile          USA  \n",
       "4                                        Curated Web          CHN  "
      ]
     },
     "execution_count": 56,
     "metadata": {},
     "output_type": "execute_result"
    }
   ],
   "source": [
    "master_frame.head()"
   ]
  },
  {
   "cell_type": "code",
   "execution_count": 57,
   "id": "5c743d42-87d4-44d2-9cab-ff808381baa3",
   "metadata": {},
   "outputs": [
    {
     "name": "stdout",
     "output_type": "stream",
     "text": [
      "<class 'pandas.core.frame.DataFrame'>\n",
      "Int64Index: 114949 entries, 0 to 114948\n",
      "Data columns (total 5 columns):\n",
      " #   Column              Non-Null Count   Dtype  \n",
      "---  ------              --------------   -----  \n",
      " 0   permalink           114949 non-null  object \n",
      " 1   funding_round_type  114949 non-null  object \n",
      " 2   raised_amount_usd   114949 non-null  float64\n",
      " 3   category_list       114949 non-null  object \n",
      " 4   country_code        114949 non-null  object \n",
      "dtypes: float64(1), object(4)\n",
      "memory usage: 5.3+ MB\n"
     ]
    }
   ],
   "source": [
    "master_frame.info()"
   ]
  },
  {
   "cell_type": "markdown",
   "id": "4418a563-96f4-4f49-82d4-0eb678bcb93a",
   "metadata": {},
   "source": [
    "### Understand the Data Set\n",
    "| Description                    | Value             |\n",
    "|--------------------------------|-------------------|\n",
    "| unique companies in rounds2    | 66368             |\n",
    "| unique companies in companies  | 66368             |\n",
    "| unique key in companies        | permalink         |\n",
    "| unique key in rounds2          | company_permalink |\n",
    "| permalink rounds2 - permalink companies  | 0 entries - all entries in rounds2 permalink are present in company permalink & vice versa        |\n",
    "| total observations after merge | 114949            | \n"
   ]
  },
  {
   "cell_type": "markdown",
   "id": "421c882e-efdd-4eb6-b158-f03ab32a343d",
   "metadata": {},
   "source": [
    "---"
   ]
  },
  {
   "cell_type": "markdown",
   "id": "5bd5d0bb-99f4-4d86-89f6-07995b9d4488",
   "metadata": {},
   "source": [
    "<a id='funding_analysis'></a>\n",
    "\n",
    "## Funding Analysis"
   ]
  },
  {
   "cell_type": "code",
   "execution_count": 58,
   "id": "8e330169-f1a9-4367-bd4c-1a4abe5e8f98",
   "metadata": {},
   "outputs": [
    {
     "data": {
      "text/html": [
       "<div>\n",
       "<style scoped>\n",
       "    .dataframe tbody tr th:only-of-type {\n",
       "        vertical-align: middle;\n",
       "    }\n",
       "\n",
       "    .dataframe tbody tr th {\n",
       "        vertical-align: top;\n",
       "    }\n",
       "\n",
       "    .dataframe thead th {\n",
       "        text-align: right;\n",
       "    }\n",
       "</style>\n",
       "<table border=\"1\" class=\"dataframe\">\n",
       "  <thead>\n",
       "    <tr style=\"text-align: right;\">\n",
       "      <th></th>\n",
       "      <th>permalink</th>\n",
       "      <th>funding_round_type</th>\n",
       "      <th>raised_amount_usd</th>\n",
       "      <th>category_list</th>\n",
       "      <th>country_code</th>\n",
       "    </tr>\n",
       "  </thead>\n",
       "  <tbody>\n",
       "    <tr>\n",
       "      <th>0</th>\n",
       "      <td>/organization/-fame</td>\n",
       "      <td>venture</td>\n",
       "      <td>10000000.0</td>\n",
       "      <td>Media</td>\n",
       "      <td>IND</td>\n",
       "    </tr>\n",
       "    <tr>\n",
       "      <th>1</th>\n",
       "      <td>/organization/-qounter</td>\n",
       "      <td>venture</td>\n",
       "      <td>5000000.0</td>\n",
       "      <td>Application Platforms|Real Time|Social Network...</td>\n",
       "      <td>USA</td>\n",
       "    </tr>\n",
       "    <tr>\n",
       "      <th>2</th>\n",
       "      <td>/organization/-qounter</td>\n",
       "      <td>seed</td>\n",
       "      <td>700000.0</td>\n",
       "      <td>Application Platforms|Real Time|Social Network...</td>\n",
       "      <td>USA</td>\n",
       "    </tr>\n",
       "    <tr>\n",
       "      <th>3</th>\n",
       "      <td>/organization/-the-one-of-them-inc-</td>\n",
       "      <td>venture</td>\n",
       "      <td>3406878.0</td>\n",
       "      <td>Apps|Games|Mobile</td>\n",
       "      <td>USA</td>\n",
       "    </tr>\n",
       "    <tr>\n",
       "      <th>4</th>\n",
       "      <td>/organization/0-6-com</td>\n",
       "      <td>venture</td>\n",
       "      <td>2000000.0</td>\n",
       "      <td>Curated Web</td>\n",
       "      <td>CHN</td>\n",
       "    </tr>\n",
       "  </tbody>\n",
       "</table>\n",
       "</div>"
      ],
      "text/plain": [
       "                             permalink funding_round_type  raised_amount_usd  \\\n",
       "0                  /organization/-fame            venture         10000000.0   \n",
       "1               /organization/-qounter            venture          5000000.0   \n",
       "2               /organization/-qounter               seed           700000.0   \n",
       "3  /organization/-the-one-of-them-inc-            venture          3406878.0   \n",
       "4                /organization/0-6-com            venture          2000000.0   \n",
       "\n",
       "                                       category_list country_code  \n",
       "0                                              Media          IND  \n",
       "1  Application Platforms|Real Time|Social Network...          USA  \n",
       "2  Application Platforms|Real Time|Social Network...          USA  \n",
       "3                                  Apps|Games|Mobile          USA  \n",
       "4                                        Curated Web          CHN  "
      ]
     },
     "execution_count": 58,
     "metadata": {},
     "output_type": "execute_result"
    }
   ],
   "source": [
    "master_frame.head()"
   ]
  },
  {
   "cell_type": "markdown",
   "id": "7bad19b4-483f-4ce2-8d4e-8e9127addeb8",
   "metadata": {},
   "source": [
    "#### We are only interested in Venture, Angel, Seed & Private Equity funding rounds\n",
    "- dropping the rest"
   ]
  },
  {
   "cell_type": "code",
   "execution_count": 59,
   "id": "7c06e436-8df4-4adc-9fc6-87bcc5cd22ae",
   "metadata": {},
   "outputs": [
    {
     "data": {
      "text/html": [
       "<div>\n",
       "<style scoped>\n",
       "    .dataframe tbody tr th:only-of-type {\n",
       "        vertical-align: middle;\n",
       "    }\n",
       "\n",
       "    .dataframe tbody tr th {\n",
       "        vertical-align: top;\n",
       "    }\n",
       "\n",
       "    .dataframe thead th {\n",
       "        text-align: right;\n",
       "    }\n",
       "</style>\n",
       "<table border=\"1\" class=\"dataframe\">\n",
       "  <thead>\n",
       "    <tr style=\"text-align: right;\">\n",
       "      <th></th>\n",
       "      <th>permalink</th>\n",
       "      <th>funding_round_type</th>\n",
       "      <th>raised_amount_usd</th>\n",
       "      <th>category_list</th>\n",
       "      <th>country_code</th>\n",
       "    </tr>\n",
       "  </thead>\n",
       "  <tbody>\n",
       "    <tr>\n",
       "      <th>0</th>\n",
       "      <td>/organization/-fame</td>\n",
       "      <td>venture</td>\n",
       "      <td>10000000.0</td>\n",
       "      <td>Media</td>\n",
       "      <td>IND</td>\n",
       "    </tr>\n",
       "    <tr>\n",
       "      <th>1</th>\n",
       "      <td>/organization/-qounter</td>\n",
       "      <td>venture</td>\n",
       "      <td>5000000.0</td>\n",
       "      <td>Application Platforms|Real Time|Social Network...</td>\n",
       "      <td>USA</td>\n",
       "    </tr>\n",
       "    <tr>\n",
       "      <th>2</th>\n",
       "      <td>/organization/-qounter</td>\n",
       "      <td>seed</td>\n",
       "      <td>700000.0</td>\n",
       "      <td>Application Platforms|Real Time|Social Network...</td>\n",
       "      <td>USA</td>\n",
       "    </tr>\n",
       "    <tr>\n",
       "      <th>3</th>\n",
       "      <td>/organization/-the-one-of-them-inc-</td>\n",
       "      <td>venture</td>\n",
       "      <td>3406878.0</td>\n",
       "      <td>Apps|Games|Mobile</td>\n",
       "      <td>USA</td>\n",
       "    </tr>\n",
       "    <tr>\n",
       "      <th>4</th>\n",
       "      <td>/organization/0-6-com</td>\n",
       "      <td>venture</td>\n",
       "      <td>2000000.0</td>\n",
       "      <td>Curated Web</td>\n",
       "      <td>CHN</td>\n",
       "    </tr>\n",
       "  </tbody>\n",
       "</table>\n",
       "</div>"
      ],
      "text/plain": [
       "                             permalink funding_round_type  raised_amount_usd  \\\n",
       "0                  /organization/-fame            venture         10000000.0   \n",
       "1               /organization/-qounter            venture          5000000.0   \n",
       "2               /organization/-qounter               seed           700000.0   \n",
       "3  /organization/-the-one-of-them-inc-            venture          3406878.0   \n",
       "4                /organization/0-6-com            venture          2000000.0   \n",
       "\n",
       "                                       category_list country_code  \n",
       "0                                              Media          IND  \n",
       "1  Application Platforms|Real Time|Social Network...          USA  \n",
       "2  Application Platforms|Real Time|Social Network...          USA  \n",
       "3                                  Apps|Games|Mobile          USA  \n",
       "4                                        Curated Web          CHN  "
      ]
     },
     "execution_count": 59,
     "metadata": {},
     "output_type": "execute_result"
    }
   ],
   "source": [
    "required_investment_types = ['venture', 'seed', 'private_equity', 'angel']\n",
    "master_frame = master_frame[master_frame['funding_round_type'].isin(required_investment_types)]\n",
    "master_frame.head()"
   ]
  },
  {
   "cell_type": "code",
   "execution_count": 60,
   "id": "54dcc4ff-7ddd-44e7-b738-87709298655d",
   "metadata": {},
   "outputs": [
    {
     "name": "stdout",
     "output_type": "stream",
     "text": [
      "<class 'pandas.core.frame.DataFrame'>\n",
      "Int64Index: 94397 entries, 0 to 114947\n",
      "Data columns (total 5 columns):\n",
      " #   Column              Non-Null Count  Dtype  \n",
      "---  ------              --------------  -----  \n",
      " 0   permalink           94397 non-null  object \n",
      " 1   funding_round_type  94397 non-null  object \n",
      " 2   raised_amount_usd   94397 non-null  float64\n",
      " 3   category_list       94397 non-null  object \n",
      " 4   country_code        94397 non-null  object \n",
      "dtypes: float64(1), object(4)\n",
      "memory usage: 4.3+ MB\n"
     ]
    }
   ],
   "source": [
    "master_frame.info()"
   ]
  },
  {
   "cell_type": "markdown",
   "id": "688f047d-15e5-40c4-9e3f-4c0c5c37889c",
   "metadata": {},
   "source": [
    "##### Observation: about 17% data is removed. \n",
    "- (114949-94397)/114949*100"
   ]
  },
  {
   "cell_type": "markdown",
   "id": "1cbd6a8f-7b61-4ea8-879c-15b26f0fe29c",
   "metadata": {},
   "source": [
    "#### Calculating count, mean and median of raised_amount_usd per investment type"
   ]
  },
  {
   "cell_type": "code",
   "execution_count": 61,
   "id": "f4ad9189-a7bb-413b-a683-97e9444648b3",
   "metadata": {},
   "outputs": [
    {
     "data": {
      "text/html": [
       "<div>\n",
       "<style scoped>\n",
       "    .dataframe tbody tr th:only-of-type {\n",
       "        vertical-align: middle;\n",
       "    }\n",
       "\n",
       "    .dataframe tbody tr th {\n",
       "        vertical-align: top;\n",
       "    }\n",
       "\n",
       "    .dataframe thead th {\n",
       "        text-align: right;\n",
       "    }\n",
       "</style>\n",
       "<table border=\"1\" class=\"dataframe\">\n",
       "  <thead>\n",
       "    <tr style=\"text-align: right;\">\n",
       "      <th></th>\n",
       "      <th>count</th>\n",
       "      <th>mean</th>\n",
       "      <th>median</th>\n",
       "    </tr>\n",
       "    <tr>\n",
       "      <th>funding_round_type</th>\n",
       "      <th></th>\n",
       "      <th></th>\n",
       "      <th></th>\n",
       "    </tr>\n",
       "  </thead>\n",
       "  <tbody>\n",
       "    <tr>\n",
       "      <th>angel</th>\n",
       "      <td>6094</td>\n",
       "      <td>8.455620e+05</td>\n",
       "      <td>400000.0</td>\n",
       "    </tr>\n",
       "    <tr>\n",
       "      <th>private_equity</th>\n",
       "      <td>2285</td>\n",
       "      <td>6.516649e+07</td>\n",
       "      <td>20000000.0</td>\n",
       "    </tr>\n",
       "    <tr>\n",
       "      <th>seed</th>\n",
       "      <td>30524</td>\n",
       "      <td>6.189601e+05</td>\n",
       "      <td>275000.0</td>\n",
       "    </tr>\n",
       "    <tr>\n",
       "      <th>venture</th>\n",
       "      <td>55494</td>\n",
       "      <td>1.110852e+07</td>\n",
       "      <td>5000000.0</td>\n",
       "    </tr>\n",
       "  </tbody>\n",
       "</table>\n",
       "</div>"
      ],
      "text/plain": [
       "                    count          mean      median\n",
       "funding_round_type                                 \n",
       "angel                6094  8.455620e+05    400000.0\n",
       "private_equity       2285  6.516649e+07  20000000.0\n",
       "seed                30524  6.189601e+05    275000.0\n",
       "venture             55494  1.110852e+07   5000000.0"
      ]
     },
     "execution_count": 61,
     "metadata": {},
     "output_type": "execute_result"
    }
   ],
   "source": [
    "master_frame.groupby(['funding_round_type'])['raised_amount_usd'].agg(['count','mean','median'])"
   ]
  },
  {
   "cell_type": "code",
   "execution_count": 62,
   "id": "dc7bf944-d1de-4f7b-a27b-536aab800480",
   "metadata": {},
   "outputs": [],
   "source": [
    "# Pivot Table grouped by round type & aggregated over median of raised_amount_usd\n",
    "median_piv = master_frame.pivot_table(\n",
    "    index='funding_round_type',\n",
    "    values='raised_amount_usd',\n",
    "    aggfunc='median'\n",
    ")"
   ]
  },
  {
   "cell_type": "code",
   "execution_count": 63,
   "id": "1ac9e509-ca5e-4e3e-a270-38a5972a7df5",
   "metadata": {},
   "outputs": [
    {
     "data": {
      "image/png": "[encoded data removed]",
      "text/plain": [
       "<Figure size 360x288 with 1 Axes>"
      ]
     },
     "metadata": {},
     "output_type": "display_data"
    }
   ],
   "source": [
    "# Bar Plot for each funding type\n",
    "fig, ax = plt.subplots(figsize=(5,4))\n",
    "median_piv.plot(kind='bar', ax=ax)\n",
    "ax.set_xticklabels(ax.get_xticklabels(), rotation=0)\n",
    "ax.set_xlabel('Funding Round Type')\n",
    "ax.legend(['Raised Amount USD'])\n",
    "plt.savefig('median_investment_funding_type_barplot.png')\n",
    "plt.show()"
   ]
  },
  {
   "cell_type": "code",
   "execution_count": 64,
   "id": "c974e53d-57e5-4943-9950-3015c5c5de7c",
   "metadata": {},
   "outputs": [
    {
     "data": {
      "image/png": "[encoded data removed]",
      "text/plain": [
       "<Figure size 432x288 with 1 Axes>"
      ]
     },
     "metadata": {},
     "output_type": "display_data"
    }
   ],
   "source": [
    "# Box Plot of raised_amount_usd after removing outliers\n",
    "rounds2_df_outlier_removed = rounds2_df_treated[rounds2_df_treated.raised_amount_usd < rounds2_df_treated.raised_amount_usd.quantile(q=0.95)]\n",
    "amount_box_plot = sns.boxplot(x = 'raised_amount_usd', data=rounds2_df_outlier_removed)\n",
    "amount_box_plot.set(xlabel='Amount in USD (x10 Million)')\n",
    "plt.title('Box Plot - Raised Amount')\n",
    "plt.savefig('boxplot_outlier_removed_raised_amount_usd.png')\n",
    "plt.show()"
   ]
  },
  {
   "cell_type": "markdown",
   "id": "c706e074-ee9c-48fc-bf84-1145419ab186",
   "metadata": {},
   "source": [
    "##### Analyzing funding data based on round code\n",
    "We know that apart from funding round type, funding round code (Series A, B, C..) also influences the amount of investment received.  \n",
    "It is known that 70% data is missing for round code, we just want to see if there is any pattern in the data which does exist  \n",
    "To get a rough idea, \n",
    "- we will use the original dataset (rounds2), \n",
    "- to see median investments of each investment type, '\n",
    "- further categorized by round code "
   ]
  },
  {
   "cell_type": "code",
   "execution_count": 65,
   "id": "957fd863-f295-450c-83c2-d6ffa7cc2917",
   "metadata": {},
   "outputs": [
    {
     "data": {
      "image/png": "[encoded data removed]",
      "text/plain": [
       "<Figure size 720x360 with 1 Axes>"
      ]
     },
     "metadata": {},
     "output_type": "display_data"
    }
   ],
   "source": [
    "fig, ax1 = plt.subplots()\n",
    "rounds2_funding_round_type = rounds2[rounds2['funding_round_type'].isin(required_investment_types)]\n",
    "rounds2_funding_round_type.head()\n",
    "\n",
    "median_piv_rounds2_df = rounds2_funding_round_type.pivot_table(\n",
    "    index='funding_round_type',\n",
    "    values='raised_amount_usd',\n",
    "    columns='funding_round_code',\n",
    "    aggfunc='median'\n",
    ")\n",
    "median_piv_rounds2_df.loc[:, :].plot(kind='bar', figsize=(10,5), legend=True, ax=ax1)\n",
    "plt.suptitle('Median Investment grouped by Funding Rounds in 4 sectors')\n",
    "ax1.set_ylabel('Funding Amount (x 10 Million)')\n",
    "ax1.set_xlabel('')\n",
    "ax1.set_xticklabels(['Angel', 'Private Equity', 'Seed', 'Venture'], rotation=0)\n",
    "plt.yticks(np.arange(0, max(ax1.get_yticks()), 5000000))\n",
    "plt.axhline(y=15000000, color='r', linestyle='-')\n",
    "plt.axhline(y=5000000, color='g', linestyle='-')\n",
    "plt.text(1.35, 6000000, '5 Million', fontsize = 12)\n",
    "plt.text(1.3, 16000000, '15 Million', fontsize = 12)\n",
    "ax1.legend(title='Funding Round')\n",
    "ax1.annotate('15 Million', xy=(5, 5))\n",
    "\n",
    "plt.savefig('median_investments_by_rounds_from_original_rounds_df.png')\n",
    "plt.show()"
   ]
  },
  {
   "cell_type": "markdown",
   "id": "40b12a31-98c3-43d5-8453-fd652495b8e6",
   "metadata": {},
   "source": [
    "##### Observation: We can see that Round B & and Round C median investments lie in the 5-15 million bracket set by Spark Funds"
   ]
  },
  {
   "cell_type": "markdown",
   "id": "68fb15ed-0fa6-47fb-9b6a-27441e4b0aed",
   "metadata": {},
   "source": [
    "Combining the information from [outlier anlysis for raised amount usd](#raised_amount_usd_boxplot), & [Funding Analysis](#funding_analysis) we conclude that,\n",
    "- `Median` is a better representative for this particular dataset.\n",
    "- As per business requirement, (5-15 Million USD investment per round), `Venture Funding` is the most appropriate type of funding for Spark Funds"
   ]
  },
  {
   "cell_type": "markdown",
   "id": "d10646b4-ce8a-4fe6-bbec-68fd3f1ed6b8",
   "metadata": {},
   "source": [
    "### Representative Values of Investments for Each of these Funding Types\n",
    "\n",
    "| Description                                          | Value           |\n",
    "|------------------------------------------------------|-----------------|\n",
    "| Representative funding amount of venture type        | 5000000         |\n",
    "| Representative funding amount of angel type          | 400000          |\n",
    "| Representative funding amount of seed type           | 275000          |\n",
    "| Representative funding amount of private equity type | 20000000        |\n",
    "| Best Funding type for Range between 5-15 Million     | Venture Funding |\n"
   ]
  },
  {
   "cell_type": "markdown",
   "id": "6c8814fe-255e-4404-9092-485bcdb08ec5",
   "metadata": {},
   "source": [
    "---\n",
    "\n",
    "### Filtering data frame to only contain `Venture` funding"
   ]
  },
  {
   "cell_type": "code",
   "execution_count": 66,
   "id": "7a11e529-93a1-4811-96a8-bc3bc653639a",
   "metadata": {},
   "outputs": [
    {
     "data": {
      "text/html": [
       "<div>\n",
       "<style scoped>\n",
       "    .dataframe tbody tr th:only-of-type {\n",
       "        vertical-align: middle;\n",
       "    }\n",
       "\n",
       "    .dataframe tbody tr th {\n",
       "        vertical-align: top;\n",
       "    }\n",
       "\n",
       "    .dataframe thead th {\n",
       "        text-align: right;\n",
       "    }\n",
       "</style>\n",
       "<table border=\"1\" class=\"dataframe\">\n",
       "  <thead>\n",
       "    <tr style=\"text-align: right;\">\n",
       "      <th></th>\n",
       "      <th>permalink</th>\n",
       "      <th>funding_round_type</th>\n",
       "      <th>raised_amount_usd</th>\n",
       "      <th>category_list</th>\n",
       "      <th>country_code</th>\n",
       "    </tr>\n",
       "  </thead>\n",
       "  <tbody>\n",
       "    <tr>\n",
       "      <th>0</th>\n",
       "      <td>/organization/-fame</td>\n",
       "      <td>venture</td>\n",
       "      <td>10000000.0</td>\n",
       "      <td>Media</td>\n",
       "      <td>IND</td>\n",
       "    </tr>\n",
       "    <tr>\n",
       "      <th>1</th>\n",
       "      <td>/organization/-qounter</td>\n",
       "      <td>venture</td>\n",
       "      <td>5000000.0</td>\n",
       "      <td>Application Platforms|Real Time|Social Network...</td>\n",
       "      <td>USA</td>\n",
       "    </tr>\n",
       "    <tr>\n",
       "      <th>3</th>\n",
       "      <td>/organization/-the-one-of-them-inc-</td>\n",
       "      <td>venture</td>\n",
       "      <td>3406878.0</td>\n",
       "      <td>Apps|Games|Mobile</td>\n",
       "      <td>USA</td>\n",
       "    </tr>\n",
       "    <tr>\n",
       "      <th>4</th>\n",
       "      <td>/organization/0-6-com</td>\n",
       "      <td>venture</td>\n",
       "      <td>2000000.0</td>\n",
       "      <td>Curated Web</td>\n",
       "      <td>CHN</td>\n",
       "    </tr>\n",
       "    <tr>\n",
       "      <th>5</th>\n",
       "      <td>/organization/004-technologies</td>\n",
       "      <td>venture</td>\n",
       "      <td>5000000.0</td>\n",
       "      <td>Software</td>\n",
       "      <td>USA</td>\n",
       "    </tr>\n",
       "  </tbody>\n",
       "</table>\n",
       "</div>"
      ],
      "text/plain": [
       "                             permalink funding_round_type  raised_amount_usd  \\\n",
       "0                  /organization/-fame            venture         10000000.0   \n",
       "1               /organization/-qounter            venture          5000000.0   \n",
       "3  /organization/-the-one-of-them-inc-            venture          3406878.0   \n",
       "4                /organization/0-6-com            venture          2000000.0   \n",
       "5       /organization/004-technologies            venture          5000000.0   \n",
       "\n",
       "                                       category_list country_code  \n",
       "0                                              Media          IND  \n",
       "1  Application Platforms|Real Time|Social Network...          USA  \n",
       "3                                  Apps|Games|Mobile          USA  \n",
       "4                                        Curated Web          CHN  \n",
       "5                                           Software          USA  "
      ]
     },
     "execution_count": 66,
     "metadata": {},
     "output_type": "execute_result"
    }
   ],
   "source": [
    "venture_fund = master_frame[master_frame.funding_round_type == 'venture']\n",
    "venture_fund.head()"
   ]
  },
  {
   "cell_type": "markdown",
   "id": "b161ec94-c5f3-4191-ba7d-33116ef42c1b",
   "metadata": {},
   "source": [
    "##### Since we have only picked venture funding type for futhere analysis, we can drop `funding_round_type` column from this data frame"
   ]
  },
  {
   "cell_type": "code",
   "execution_count": 67,
   "id": "286f31ef-4cd6-4e88-9ea3-3d6f5f6ab1fc",
   "metadata": {},
   "outputs": [],
   "source": [
    "venture_fund = venture_fund.drop('funding_round_type', axis=1)"
   ]
  },
  {
   "cell_type": "code",
   "execution_count": 68,
   "id": "80cb1dfc-5c7f-4bf8-a39e-58a93fc28a45",
   "metadata": {},
   "outputs": [
    {
     "data": {
      "text/html": [
       "<div>\n",
       "<style scoped>\n",
       "    .dataframe tbody tr th:only-of-type {\n",
       "        vertical-align: middle;\n",
       "    }\n",
       "\n",
       "    .dataframe tbody tr th {\n",
       "        vertical-align: top;\n",
       "    }\n",
       "\n",
       "    .dataframe thead th {\n",
       "        text-align: right;\n",
       "    }\n",
       "</style>\n",
       "<table border=\"1\" class=\"dataframe\">\n",
       "  <thead>\n",
       "    <tr style=\"text-align: right;\">\n",
       "      <th></th>\n",
       "      <th>permalink</th>\n",
       "      <th>raised_amount_usd</th>\n",
       "      <th>category_list</th>\n",
       "      <th>country_code</th>\n",
       "    </tr>\n",
       "  </thead>\n",
       "  <tbody>\n",
       "    <tr>\n",
       "      <th>0</th>\n",
       "      <td>/organization/-fame</td>\n",
       "      <td>10000000.0</td>\n",
       "      <td>Media</td>\n",
       "      <td>IND</td>\n",
       "    </tr>\n",
       "    <tr>\n",
       "      <th>1</th>\n",
       "      <td>/organization/-qounter</td>\n",
       "      <td>5000000.0</td>\n",
       "      <td>Application Platforms|Real Time|Social Network...</td>\n",
       "      <td>USA</td>\n",
       "    </tr>\n",
       "    <tr>\n",
       "      <th>3</th>\n",
       "      <td>/organization/-the-one-of-them-inc-</td>\n",
       "      <td>3406878.0</td>\n",
       "      <td>Apps|Games|Mobile</td>\n",
       "      <td>USA</td>\n",
       "    </tr>\n",
       "    <tr>\n",
       "      <th>4</th>\n",
       "      <td>/organization/0-6-com</td>\n",
       "      <td>2000000.0</td>\n",
       "      <td>Curated Web</td>\n",
       "      <td>CHN</td>\n",
       "    </tr>\n",
       "    <tr>\n",
       "      <th>5</th>\n",
       "      <td>/organization/004-technologies</td>\n",
       "      <td>5000000.0</td>\n",
       "      <td>Software</td>\n",
       "      <td>USA</td>\n",
       "    </tr>\n",
       "  </tbody>\n",
       "</table>\n",
       "</div>"
      ],
      "text/plain": [
       "                             permalink  raised_amount_usd  \\\n",
       "0                  /organization/-fame         10000000.0   \n",
       "1               /organization/-qounter          5000000.0   \n",
       "3  /organization/-the-one-of-them-inc-          3406878.0   \n",
       "4                /organization/0-6-com          2000000.0   \n",
       "5       /organization/004-technologies          5000000.0   \n",
       "\n",
       "                                       category_list country_code  \n",
       "0                                              Media          IND  \n",
       "1  Application Platforms|Real Time|Social Network...          USA  \n",
       "3                                  Apps|Games|Mobile          USA  \n",
       "4                                        Curated Web          CHN  \n",
       "5                                           Software          USA  "
      ]
     },
     "execution_count": 68,
     "metadata": {},
     "output_type": "execute_result"
    }
   ],
   "source": [
    "venture_fund.head()"
   ]
  },
  {
   "cell_type": "code",
   "execution_count": 69,
   "id": "f2584ef8-643f-499d-8bee-23f092a667e5",
   "metadata": {},
   "outputs": [
    {
     "name": "stdout",
     "output_type": "stream",
     "text": [
      "<class 'pandas.core.frame.DataFrame'>\n",
      "Int64Index: 55494 entries, 0 to 114946\n",
      "Data columns (total 4 columns):\n",
      " #   Column             Non-Null Count  Dtype  \n",
      "---  ------             --------------  -----  \n",
      " 0   permalink          55494 non-null  object \n",
      " 1   raised_amount_usd  55494 non-null  float64\n",
      " 2   category_list      55494 non-null  object \n",
      " 3   country_code       55494 non-null  object \n",
      "dtypes: float64(1), object(3)\n",
      "memory usage: 2.1+ MB\n"
     ]
    }
   ],
   "source": [
    "venture_fund.info()"
   ]
  },
  {
   "cell_type": "code",
   "execution_count": 70,
   "id": "9ecb2886-0744-4356-aa10-7401ea777dbb",
   "metadata": {},
   "outputs": [
    {
     "data": {
      "text/html": [
       "<div>\n",
       "<style scoped>\n",
       "    .dataframe tbody tr th:only-of-type {\n",
       "        vertical-align: middle;\n",
       "    }\n",
       "\n",
       "    .dataframe tbody tr th {\n",
       "        vertical-align: top;\n",
       "    }\n",
       "\n",
       "    .dataframe thead th {\n",
       "        text-align: right;\n",
       "    }\n",
       "</style>\n",
       "<table border=\"1\" class=\"dataframe\">\n",
       "  <thead>\n",
       "    <tr style=\"text-align: right;\">\n",
       "      <th></th>\n",
       "      <th>raised_amount_usd</th>\n",
       "    </tr>\n",
       "  </thead>\n",
       "  <tbody>\n",
       "    <tr>\n",
       "      <th>count</th>\n",
       "      <td>5.549400e+04</td>\n",
       "    </tr>\n",
       "    <tr>\n",
       "      <th>mean</th>\n",
       "      <td>1.110852e+07</td>\n",
       "    </tr>\n",
       "    <tr>\n",
       "      <th>std</th>\n",
       "      <td>8.217658e+07</td>\n",
       "    </tr>\n",
       "    <tr>\n",
       "      <th>min</th>\n",
       "      <td>0.000000e+00</td>\n",
       "    </tr>\n",
       "    <tr>\n",
       "      <th>25%</th>\n",
       "      <td>2.000000e+06</td>\n",
       "    </tr>\n",
       "    <tr>\n",
       "      <th>50%</th>\n",
       "      <td>5.000000e+06</td>\n",
       "    </tr>\n",
       "    <tr>\n",
       "      <th>75%</th>\n",
       "      <td>1.050000e+07</td>\n",
       "    </tr>\n",
       "    <tr>\n",
       "      <th>max</th>\n",
       "      <td>1.760000e+10</td>\n",
       "    </tr>\n",
       "  </tbody>\n",
       "</table>\n",
       "</div>"
      ],
      "text/plain": [
       "       raised_amount_usd\n",
       "count       5.549400e+04\n",
       "mean        1.110852e+07\n",
       "std         8.217658e+07\n",
       "min         0.000000e+00\n",
       "25%         2.000000e+06\n",
       "50%         5.000000e+06\n",
       "75%         1.050000e+07\n",
       "max         1.760000e+10"
      ]
     },
     "execution_count": 70,
     "metadata": {},
     "output_type": "execute_result"
    }
   ],
   "source": [
    "venture_fund.describe()"
   ]
  },
  {
   "cell_type": "markdown",
   "id": "320a8c67-d29c-4253-9d6b-baaebcb7bdd3",
   "metadata": {},
   "source": [
    "---\n",
    "\n",
    "## Country Analysis"
   ]
  },
  {
   "cell_type": "code",
   "execution_count": 71,
   "id": "5f45e05f-4abe-4a1f-bc71-4c20e4174c3e",
   "metadata": {},
   "outputs": [
    {
     "data": {
      "text/html": [
       "<div>\n",
       "<style scoped>\n",
       "    .dataframe tbody tr th:only-of-type {\n",
       "        vertical-align: middle;\n",
       "    }\n",
       "\n",
       "    .dataframe tbody tr th {\n",
       "        vertical-align: top;\n",
       "    }\n",
       "\n",
       "    .dataframe thead th {\n",
       "        text-align: right;\n",
       "    }\n",
       "</style>\n",
       "<table border=\"1\" class=\"dataframe\">\n",
       "  <thead>\n",
       "    <tr style=\"text-align: right;\">\n",
       "      <th></th>\n",
       "      <th>permalink</th>\n",
       "      <th>raised_amount_usd</th>\n",
       "      <th>category_list</th>\n",
       "      <th>country_code</th>\n",
       "    </tr>\n",
       "  </thead>\n",
       "  <tbody>\n",
       "    <tr>\n",
       "      <th>0</th>\n",
       "      <td>/organization/-fame</td>\n",
       "      <td>10000000.0</td>\n",
       "      <td>Media</td>\n",
       "      <td>IND</td>\n",
       "    </tr>\n",
       "    <tr>\n",
       "      <th>1</th>\n",
       "      <td>/organization/-qounter</td>\n",
       "      <td>5000000.0</td>\n",
       "      <td>Application Platforms|Real Time|Social Network...</td>\n",
       "      <td>USA</td>\n",
       "    </tr>\n",
       "    <tr>\n",
       "      <th>3</th>\n",
       "      <td>/organization/-the-one-of-them-inc-</td>\n",
       "      <td>3406878.0</td>\n",
       "      <td>Apps|Games|Mobile</td>\n",
       "      <td>USA</td>\n",
       "    </tr>\n",
       "    <tr>\n",
       "      <th>4</th>\n",
       "      <td>/organization/0-6-com</td>\n",
       "      <td>2000000.0</td>\n",
       "      <td>Curated Web</td>\n",
       "      <td>CHN</td>\n",
       "    </tr>\n",
       "    <tr>\n",
       "      <th>5</th>\n",
       "      <td>/organization/004-technologies</td>\n",
       "      <td>5000000.0</td>\n",
       "      <td>Software</td>\n",
       "      <td>USA</td>\n",
       "    </tr>\n",
       "  </tbody>\n",
       "</table>\n",
       "</div>"
      ],
      "text/plain": [
       "                             permalink  raised_amount_usd  \\\n",
       "0                  /organization/-fame         10000000.0   \n",
       "1               /organization/-qounter          5000000.0   \n",
       "3  /organization/-the-one-of-them-inc-          3406878.0   \n",
       "4                /organization/0-6-com          2000000.0   \n",
       "5       /organization/004-technologies          5000000.0   \n",
       "\n",
       "                                       category_list country_code  \n",
       "0                                              Media          IND  \n",
       "1  Application Platforms|Real Time|Social Network...          USA  \n",
       "3                                  Apps|Games|Mobile          USA  \n",
       "4                                        Curated Web          CHN  \n",
       "5                                           Software          USA  "
      ]
     },
     "execution_count": 71,
     "metadata": {},
     "output_type": "execute_result"
    }
   ],
   "source": [
    "venture_fund.head()"
   ]
  },
  {
   "cell_type": "markdown",
   "id": "adde3bd8-f554-413d-95fc-cc093887a5f9",
   "metadata": {},
   "source": [
    "### Countries which received the Highest Investment \n",
    "- Group by `country_code`\n",
    "- Aggreate over `raised_amount_usd` to get Total Funding received by Country\n",
    "- Sort Values from highest total funding to lowest"
   ]
  },
  {
   "cell_type": "code",
   "execution_count": 72,
   "id": "d4ea8751-d4b0-4c1a-8c09-307c13bcee95",
   "metadata": {},
   "outputs": [
    {
     "data": {
      "text/html": [
       "<div>\n",
       "<style scoped>\n",
       "    .dataframe tbody tr th:only-of-type {\n",
       "        vertical-align: middle;\n",
       "    }\n",
       "\n",
       "    .dataframe tbody tr th {\n",
       "        vertical-align: top;\n",
       "    }\n",
       "\n",
       "    .dataframe thead th {\n",
       "        text-align: right;\n",
       "    }\n",
       "</style>\n",
       "<table border=\"1\" class=\"dataframe\">\n",
       "  <thead>\n",
       "    <tr style=\"text-align: right;\">\n",
       "      <th></th>\n",
       "      <th>count</th>\n",
       "      <th>sum</th>\n",
       "    </tr>\n",
       "    <tr>\n",
       "      <th>country_code</th>\n",
       "      <th></th>\n",
       "      <th></th>\n",
       "    </tr>\n",
       "  </thead>\n",
       "  <tbody>\n",
       "    <tr>\n",
       "      <th>USA</th>\n",
       "      <td>41247</td>\n",
       "      <td>4.629720e+11</td>\n",
       "    </tr>\n",
       "    <tr>\n",
       "      <th>CHN</th>\n",
       "      <td>2087</td>\n",
       "      <td>4.245042e+10</td>\n",
       "    </tr>\n",
       "    <tr>\n",
       "      <th>GBR</th>\n",
       "      <td>2303</td>\n",
       "      <td>2.148563e+10</td>\n",
       "    </tr>\n",
       "    <tr>\n",
       "      <th>IND</th>\n",
       "      <td>992</td>\n",
       "      <td>1.523186e+10</td>\n",
       "    </tr>\n",
       "    <tr>\n",
       "      <th>CAN</th>\n",
       "      <td>1346</td>\n",
       "      <td>1.003333e+10</td>\n",
       "    </tr>\n",
       "    <tr>\n",
       "      <th>FRA</th>\n",
       "      <td>985</td>\n",
       "      <td>7.599537e+09</td>\n",
       "    </tr>\n",
       "    <tr>\n",
       "      <th>DEU</th>\n",
       "      <td>786</td>\n",
       "      <td>7.486960e+09</td>\n",
       "    </tr>\n",
       "    <tr>\n",
       "      <th>ISR</th>\n",
       "      <td>910</td>\n",
       "      <td>7.477515e+09</td>\n",
       "    </tr>\n",
       "    <tr>\n",
       "      <th>JPN</th>\n",
       "      <td>318</td>\n",
       "      <td>3.583677e+09</td>\n",
       "    </tr>\n",
       "  </tbody>\n",
       "</table>\n",
       "</div>"
      ],
      "text/plain": [
       "              count           sum\n",
       "country_code                     \n",
       "USA           41247  4.629720e+11\n",
       "CHN            2087  4.245042e+10\n",
       "GBR            2303  2.148563e+10\n",
       "IND             992  1.523186e+10\n",
       "CAN            1346  1.003333e+10\n",
       "FRA             985  7.599537e+09\n",
       "DEU             786  7.486960e+09\n",
       "ISR             910  7.477515e+09\n",
       "JPN             318  3.583677e+09"
      ]
     },
     "execution_count": 72,
     "metadata": {},
     "output_type": "execute_result"
    }
   ],
   "source": [
    "top_9_countries = venture_fund.groupby(['country_code'])['raised_amount_usd'].agg(['count', 'sum']).sort_values(by='sum', ascending=False)[0:9]\n",
    "top_9_countries"
   ]
  },
  {
   "cell_type": "markdown",
   "id": "06158c43-9060-4113-9799-2bd0e3c2e5de",
   "metadata": {},
   "source": [
    "##### Observation: The top 9 most heavily invested countries (in terms of Total Amount Invested) are USA, China, United Kingdom, India, Canada, France, Germany, Israel and Japan. "
   ]
  },
  {
   "cell_type": "markdown",
   "id": "43081140-a791-4042-add0-46eddea0c11d",
   "metadata": {},
   "source": [
    "We need to identify the top 3 English speaking countries so that Spark Funds can communicate with companies easily.  \n",
    "As per [this reference](https://en.wikipedia.org/wiki/List_of_countries_and_territories_where_English_is_an_official_language), we can add a column to identify English Speaking countryies."
   ]
  },
  {
   "cell_type": "code",
   "execution_count": 73,
   "id": "5bdbd317-fec9-4cf8-a39b-3cbadc91c08f",
   "metadata": {},
   "outputs": [],
   "source": [
    "top_9_countries['English'] = [True, False, True, True, True, False, False, True,  False]"
   ]
  },
  {
   "cell_type": "code",
   "execution_count": 74,
   "id": "64865ab0-2963-4c62-9bdd-4aaeb9308945",
   "metadata": {},
   "outputs": [
    {
     "data": {
      "text/html": [
       "<div>\n",
       "<style scoped>\n",
       "    .dataframe tbody tr th:only-of-type {\n",
       "        vertical-align: middle;\n",
       "    }\n",
       "\n",
       "    .dataframe tbody tr th {\n",
       "        vertical-align: top;\n",
       "    }\n",
       "\n",
       "    .dataframe thead th {\n",
       "        text-align: right;\n",
       "    }\n",
       "</style>\n",
       "<table border=\"1\" class=\"dataframe\">\n",
       "  <thead>\n",
       "    <tr style=\"text-align: right;\">\n",
       "      <th></th>\n",
       "      <th>count</th>\n",
       "      <th>sum</th>\n",
       "      <th>English</th>\n",
       "    </tr>\n",
       "    <tr>\n",
       "      <th>country_code</th>\n",
       "      <th></th>\n",
       "      <th></th>\n",
       "      <th></th>\n",
       "    </tr>\n",
       "  </thead>\n",
       "  <tbody>\n",
       "    <tr>\n",
       "      <th>USA</th>\n",
       "      <td>41247</td>\n",
       "      <td>4.629720e+11</td>\n",
       "      <td>True</td>\n",
       "    </tr>\n",
       "    <tr>\n",
       "      <th>CHN</th>\n",
       "      <td>2087</td>\n",
       "      <td>4.245042e+10</td>\n",
       "      <td>False</td>\n",
       "    </tr>\n",
       "    <tr>\n",
       "      <th>GBR</th>\n",
       "      <td>2303</td>\n",
       "      <td>2.148563e+10</td>\n",
       "      <td>True</td>\n",
       "    </tr>\n",
       "    <tr>\n",
       "      <th>IND</th>\n",
       "      <td>992</td>\n",
       "      <td>1.523186e+10</td>\n",
       "      <td>True</td>\n",
       "    </tr>\n",
       "    <tr>\n",
       "      <th>CAN</th>\n",
       "      <td>1346</td>\n",
       "      <td>1.003333e+10</td>\n",
       "      <td>True</td>\n",
       "    </tr>\n",
       "    <tr>\n",
       "      <th>FRA</th>\n",
       "      <td>985</td>\n",
       "      <td>7.599537e+09</td>\n",
       "      <td>False</td>\n",
       "    </tr>\n",
       "    <tr>\n",
       "      <th>DEU</th>\n",
       "      <td>786</td>\n",
       "      <td>7.486960e+09</td>\n",
       "      <td>False</td>\n",
       "    </tr>\n",
       "    <tr>\n",
       "      <th>ISR</th>\n",
       "      <td>910</td>\n",
       "      <td>7.477515e+09</td>\n",
       "      <td>True</td>\n",
       "    </tr>\n",
       "    <tr>\n",
       "      <th>JPN</th>\n",
       "      <td>318</td>\n",
       "      <td>3.583677e+09</td>\n",
       "      <td>False</td>\n",
       "    </tr>\n",
       "  </tbody>\n",
       "</table>\n",
       "</div>"
      ],
      "text/plain": [
       "              count           sum  English\n",
       "country_code                              \n",
       "USA           41247  4.629720e+11     True\n",
       "CHN            2087  4.245042e+10    False\n",
       "GBR            2303  2.148563e+10     True\n",
       "IND             992  1.523186e+10     True\n",
       "CAN            1346  1.003333e+10     True\n",
       "FRA             985  7.599537e+09    False\n",
       "DEU             786  7.486960e+09    False\n",
       "ISR             910  7.477515e+09     True\n",
       "JPN             318  3.583677e+09    False"
      ]
     },
     "execution_count": 74,
     "metadata": {},
     "output_type": "execute_result"
    }
   ],
   "source": [
    "top_9_countries"
   ]
  },
  {
   "cell_type": "code",
   "execution_count": 75,
   "id": "7b55670e-2572-4ad7-b9cb-09db0d3645a9",
   "metadata": {},
   "outputs": [
    {
     "data": {
      "text/html": [
       "<div>\n",
       "<style scoped>\n",
       "    .dataframe tbody tr th:only-of-type {\n",
       "        vertical-align: middle;\n",
       "    }\n",
       "\n",
       "    .dataframe tbody tr th {\n",
       "        vertical-align: top;\n",
       "    }\n",
       "\n",
       "    .dataframe thead th {\n",
       "        text-align: right;\n",
       "    }\n",
       "</style>\n",
       "<table border=\"1\" class=\"dataframe\">\n",
       "  <thead>\n",
       "    <tr style=\"text-align: right;\">\n",
       "      <th></th>\n",
       "      <th>count</th>\n",
       "      <th>sum</th>\n",
       "      <th>English</th>\n",
       "    </tr>\n",
       "    <tr>\n",
       "      <th>country_code</th>\n",
       "      <th></th>\n",
       "      <th></th>\n",
       "      <th></th>\n",
       "    </tr>\n",
       "  </thead>\n",
       "  <tbody>\n",
       "    <tr>\n",
       "      <th>USA</th>\n",
       "      <td>41247</td>\n",
       "      <td>4.629720e+11</td>\n",
       "      <td>True</td>\n",
       "    </tr>\n",
       "    <tr>\n",
       "      <th>GBR</th>\n",
       "      <td>2303</td>\n",
       "      <td>2.148563e+10</td>\n",
       "      <td>True</td>\n",
       "    </tr>\n",
       "    <tr>\n",
       "      <th>IND</th>\n",
       "      <td>992</td>\n",
       "      <td>1.523186e+10</td>\n",
       "      <td>True</td>\n",
       "    </tr>\n",
       "    <tr>\n",
       "      <th>CAN</th>\n",
       "      <td>1346</td>\n",
       "      <td>1.003333e+10</td>\n",
       "      <td>True</td>\n",
       "    </tr>\n",
       "    <tr>\n",
       "      <th>ISR</th>\n",
       "      <td>910</td>\n",
       "      <td>7.477515e+09</td>\n",
       "      <td>True</td>\n",
       "    </tr>\n",
       "  </tbody>\n",
       "</table>\n",
       "</div>"
      ],
      "text/plain": [
       "              count           sum  English\n",
       "country_code                              \n",
       "USA           41247  4.629720e+11     True\n",
       "GBR            2303  2.148563e+10     True\n",
       "IND             992  1.523186e+10     True\n",
       "CAN            1346  1.003333e+10     True\n",
       "ISR             910  7.477515e+09     True"
      ]
     },
     "execution_count": 75,
     "metadata": {},
     "output_type": "execute_result"
    }
   ],
   "source": [
    "top_9_countries[top_9_countries['English'] == True]"
   ]
  },
  {
   "cell_type": "markdown",
   "id": "225ea0c3-f2d6-4c59-9a40-0ccb2e32e512",
   "metadata": {},
   "source": [
    "### Plot - Total Investment in Country"
   ]
  },
  {
   "cell_type": "code",
   "execution_count": 76,
   "id": "f230f642-b988-4063-a4fa-506c3ce77386",
   "metadata": {},
   "outputs": [
    {
     "data": {
      "image/png": "[encoded data removed]",
      "text/plain": [
       "<Figure size 1080x432 with 2 Axes>"
      ]
     },
     "metadata": {},
     "output_type": "display_data"
    }
   ],
   "source": [
    "fig, (ax1, ax2) = plt.subplots(1, 2, figsize=(15,6))\n",
    "\n",
    "plt.suptitle('Distribution of Total Investment per Country')\n",
    "top_9_countries['sum'].plot(kind='pie', ax=ax1)\n",
    "ax2 = sns.barplot(x='country_code', y='sum', hue='English', data=top_9_countries[1:].reset_index(), dodge=False)\n",
    "ax1.set_ylabel('')\n",
    "ax2.set_xlabel('Countries (excluding USA)')\n",
    "ax2.set_xticklabels(['China', 'UK', 'India', 'Canada', 'France', 'Germany', 'Israel', 'Japan'])\n",
    "ax2.set_ylabel('Total Investment (x 10 Million)')\n",
    "fig.savefig('total_investment_distribution.png')\n",
    "plt.show()"
   ]
  },
  {
   "cell_type": "code",
   "execution_count": 77,
   "id": "b5071d81-bd3e-4746-9265-85d0bdcfebf0",
   "metadata": {},
   "outputs": [
    {
     "data": {
      "text/plain": [
       "['USA', 'GBR', 'IND']"
      ]
     },
     "execution_count": 77,
     "metadata": {},
     "output_type": "execute_result"
    }
   ],
   "source": [
    "top3_countries = top_9_countries[top_9_countries['English'] == True][:3].index.tolist()\n",
    "top3_countries"
   ]
  },
  {
   "cell_type": "markdown",
   "id": "6e2bfd34-af07-4e57-866b-955b1d72953b",
   "metadata": {},
   "source": [
    "##### Observation: The top3 English Speaking countries based on highest total investment amount are\n",
    "- United States of America (USA)\n",
    "- United Kingdom (UK)\n",
    "- India (IND)"
   ]
  },
  {
   "cell_type": "markdown",
   "id": "b768c719-3c8f-40c1-bb04-4bb1b4624a89",
   "metadata": {},
   "source": [
    "#### Analysing the Top 3 English-Speaking Countries\n",
    "\n",
    "| Description                     | Value |\n",
    "|---------------------------------|-------|\n",
    "| Top English speaking country    | USA   |\n",
    "| Second English speaking country | UK    |\n",
    "| Third English speaking country  | IND   |\n"
   ]
  },
  {
   "cell_type": "markdown",
   "id": "9054923f-7d48-4de2-bcdf-04500c97183f",
   "metadata": {},
   "source": [
    "---"
   ]
  },
  {
   "cell_type": "markdown",
   "id": "09c2bf6f-857c-4c1e-a826-cc76f43b1749",
   "metadata": {},
   "source": [
    "### Mapping Primary Category to Main Sector"
   ]
  },
  {
   "cell_type": "markdown",
   "id": "1b485d08-614d-487d-be29-78caeb15caf3",
   "metadata": {},
   "source": [
    "##### Loading and understanding the mapping dataset"
   ]
  },
  {
   "cell_type": "code",
   "execution_count": 78,
   "id": "70f7f954-148f-4953-b601-81bcbcf88bfd",
   "metadata": {},
   "outputs": [
    {
     "data": {
      "text/html": [
       "<div>\n",
       "<style scoped>\n",
       "    .dataframe tbody tr th:only-of-type {\n",
       "        vertical-align: middle;\n",
       "    }\n",
       "\n",
       "    .dataframe tbody tr th {\n",
       "        vertical-align: top;\n",
       "    }\n",
       "\n",
       "    .dataframe thead th {\n",
       "        text-align: right;\n",
       "    }\n",
       "</style>\n",
       "<table border=\"1\" class=\"dataframe\">\n",
       "  <thead>\n",
       "    <tr style=\"text-align: right;\">\n",
       "      <th></th>\n",
       "      <th>category_list</th>\n",
       "      <th>Automotive &amp; Sports</th>\n",
       "      <th>Blanks</th>\n",
       "      <th>Cleantech / Semiconductors</th>\n",
       "      <th>Entertainment</th>\n",
       "      <th>Health</th>\n",
       "      <th>Manufacturing</th>\n",
       "      <th>News, Search and Messaging</th>\n",
       "      <th>Others</th>\n",
       "      <th>Social, Finance, Analytics, Advertising</th>\n",
       "    </tr>\n",
       "  </thead>\n",
       "  <tbody>\n",
       "    <tr>\n",
       "      <th>0</th>\n",
       "      <td>NaN</td>\n",
       "      <td>0</td>\n",
       "      <td>1</td>\n",
       "      <td>0</td>\n",
       "      <td>0</td>\n",
       "      <td>0</td>\n",
       "      <td>0</td>\n",
       "      <td>0</td>\n",
       "      <td>0</td>\n",
       "      <td>0</td>\n",
       "    </tr>\n",
       "    <tr>\n",
       "      <th>1</th>\n",
       "      <td>3D</td>\n",
       "      <td>0</td>\n",
       "      <td>0</td>\n",
       "      <td>0</td>\n",
       "      <td>0</td>\n",
       "      <td>0</td>\n",
       "      <td>1</td>\n",
       "      <td>0</td>\n",
       "      <td>0</td>\n",
       "      <td>0</td>\n",
       "    </tr>\n",
       "    <tr>\n",
       "      <th>2</th>\n",
       "      <td>3D Printing</td>\n",
       "      <td>0</td>\n",
       "      <td>0</td>\n",
       "      <td>0</td>\n",
       "      <td>0</td>\n",
       "      <td>0</td>\n",
       "      <td>1</td>\n",
       "      <td>0</td>\n",
       "      <td>0</td>\n",
       "      <td>0</td>\n",
       "    </tr>\n",
       "    <tr>\n",
       "      <th>3</th>\n",
       "      <td>3D Technology</td>\n",
       "      <td>0</td>\n",
       "      <td>0</td>\n",
       "      <td>0</td>\n",
       "      <td>0</td>\n",
       "      <td>0</td>\n",
       "      <td>1</td>\n",
       "      <td>0</td>\n",
       "      <td>0</td>\n",
       "      <td>0</td>\n",
       "    </tr>\n",
       "    <tr>\n",
       "      <th>4</th>\n",
       "      <td>Accounting</td>\n",
       "      <td>0</td>\n",
       "      <td>0</td>\n",
       "      <td>0</td>\n",
       "      <td>0</td>\n",
       "      <td>0</td>\n",
       "      <td>0</td>\n",
       "      <td>0</td>\n",
       "      <td>0</td>\n",
       "      <td>1</td>\n",
       "    </tr>\n",
       "  </tbody>\n",
       "</table>\n",
       "</div>"
      ],
      "text/plain": [
       "   category_list  Automotive & Sports  Blanks  Cleantech / Semiconductors  \\\n",
       "0            NaN                    0       1                           0   \n",
       "1             3D                    0       0                           0   \n",
       "2    3D Printing                    0       0                           0   \n",
       "3  3D Technology                    0       0                           0   \n",
       "4     Accounting                    0       0                           0   \n",
       "\n",
       "   Entertainment  Health  Manufacturing  News, Search and Messaging  Others  \\\n",
       "0              0       0              0                           0       0   \n",
       "1              0       0              1                           0       0   \n",
       "2              0       0              1                           0       0   \n",
       "3              0       0              1                           0       0   \n",
       "4              0       0              0                           0       0   \n",
       "\n",
       "   Social, Finance, Analytics, Advertising  \n",
       "0                                        0  \n",
       "1                                        0  \n",
       "2                                        0  \n",
       "3                                        0  \n",
       "4                                        1  "
      ]
     },
     "execution_count": 78,
     "metadata": {},
     "output_type": "execute_result"
    }
   ],
   "source": [
    "mapping = pd.read_csv('mapping.csv')\n",
    "mapping.head()"
   ]
  },
  {
   "cell_type": "code",
   "execution_count": 79,
   "id": "dcadc6dd-df2f-4874-b519-387c5f161b77",
   "metadata": {},
   "outputs": [
    {
     "name": "stdout",
     "output_type": "stream",
     "text": [
      "<class 'pandas.core.frame.DataFrame'>\n",
      "RangeIndex: 688 entries, 0 to 687\n",
      "Data columns (total 10 columns):\n",
      " #   Column                                   Non-Null Count  Dtype \n",
      "---  ------                                   --------------  ----- \n",
      " 0   category_list                            687 non-null    object\n",
      " 1   Automotive & Sports                      688 non-null    int64 \n",
      " 2   Blanks                                   688 non-null    int64 \n",
      " 3   Cleantech / Semiconductors               688 non-null    int64 \n",
      " 4   Entertainment                            688 non-null    int64 \n",
      " 5   Health                                   688 non-null    int64 \n",
      " 6   Manufacturing                            688 non-null    int64 \n",
      " 7   News, Search and Messaging               688 non-null    int64 \n",
      " 8   Others                                   688 non-null    int64 \n",
      " 9   Social, Finance, Analytics, Advertising  688 non-null    int64 \n",
      "dtypes: int64(9), object(1)\n",
      "memory usage: 53.9+ KB\n"
     ]
    }
   ],
   "source": [
    "mapping.info()"
   ]
  },
  {
   "cell_type": "code",
   "execution_count": 80,
   "id": "b77913cb-cced-4421-b43a-e15afdfc8fd5",
   "metadata": {},
   "outputs": [
    {
     "data": {
      "text/plain": [
       "False"
      ]
     },
     "execution_count": 80,
     "metadata": {},
     "output_type": "execute_result"
    }
   ],
   "source": [
    "# checking if multiple sectors belong to a category\n",
    "any(mapping.sum(axis=1) > 1)"
   ]
  },
  {
   "cell_type": "code",
   "execution_count": 81,
   "id": "d3087b14-1839-408a-9c66-88f7f35f5573",
   "metadata": {},
   "outputs": [
    {
     "data": {
      "text/plain": [
       "688"
      ]
     },
     "execution_count": 81,
     "metadata": {},
     "output_type": "execute_result"
    }
   ],
   "source": [
    "# checking if there are any rows where no column has true value\n",
    "sum(mapping.sum(axis=1))"
   ]
  },
  {
   "cell_type": "markdown",
   "id": "2855df3c-a279-4611-98ca-3308186df4f9",
   "metadata": {},
   "source": [
    "From the dataset, we can see that\n",
    "- Each sector has one category\n",
    "- If a category belongs to a main sector, the cell value is set to 1 Else it is set to 0  \n",
    "- The data is in Wide Format [see #6](https://discuss.analyticsvidhya.com/t/difference-between-wide-and-long-data-format/8110)\n",
    "\n",
    "Since we need to map the categories to respective sectors, we can convert it to long format and only keep entries where the value is one."
   ]
  },
  {
   "cell_type": "code",
   "execution_count": 82,
   "id": "6b0178d8-66ee-4b6d-a952-5c53366ced3b",
   "metadata": {},
   "outputs": [],
   "source": [
    "# Extracting value & id list\n",
    "value_vars = list(mapping.columns[1:])\n",
    "id_vars = list(np.setdiff1d(mapping.columns, value_vars))\n",
    "\n",
    "# print(value_vars, ':', id_vars)\n",
    "\n",
    "# using pd.melt to convert from wide to long format (see #7)\n",
    "category_sector_mapping = pd.melt(mapping, id_vars = id_vars, value_vars=value_vars)"
   ]
  },
  {
   "cell_type": "code",
   "execution_count": 83,
   "id": "9ef07865-012c-4edf-9786-65802dd2f73b",
   "metadata": {},
   "outputs": [
    {
     "data": {
      "text/html": [
       "<div>\n",
       "<style scoped>\n",
       "    .dataframe tbody tr th:only-of-type {\n",
       "        vertical-align: middle;\n",
       "    }\n",
       "\n",
       "    .dataframe tbody tr th {\n",
       "        vertical-align: top;\n",
       "    }\n",
       "\n",
       "    .dataframe thead th {\n",
       "        text-align: right;\n",
       "    }\n",
       "</style>\n",
       "<table border=\"1\" class=\"dataframe\">\n",
       "  <thead>\n",
       "    <tr style=\"text-align: right;\">\n",
       "      <th></th>\n",
       "      <th>category_list</th>\n",
       "      <th>variable</th>\n",
       "      <th>value</th>\n",
       "    </tr>\n",
       "  </thead>\n",
       "  <tbody>\n",
       "    <tr>\n",
       "      <th>0</th>\n",
       "      <td>NaN</td>\n",
       "      <td>Automotive &amp; Sports</td>\n",
       "      <td>0</td>\n",
       "    </tr>\n",
       "    <tr>\n",
       "      <th>1</th>\n",
       "      <td>3D</td>\n",
       "      <td>Automotive &amp; Sports</td>\n",
       "      <td>0</td>\n",
       "    </tr>\n",
       "    <tr>\n",
       "      <th>2</th>\n",
       "      <td>3D Printing</td>\n",
       "      <td>Automotive &amp; Sports</td>\n",
       "      <td>0</td>\n",
       "    </tr>\n",
       "    <tr>\n",
       "      <th>3</th>\n",
       "      <td>3D Technology</td>\n",
       "      <td>Automotive &amp; Sports</td>\n",
       "      <td>0</td>\n",
       "    </tr>\n",
       "    <tr>\n",
       "      <th>4</th>\n",
       "      <td>Accounting</td>\n",
       "      <td>Automotive &amp; Sports</td>\n",
       "      <td>0</td>\n",
       "    </tr>\n",
       "    <tr>\n",
       "      <th>5</th>\n",
       "      <td>Active Lifestyle</td>\n",
       "      <td>Automotive &amp; Sports</td>\n",
       "      <td>0</td>\n",
       "    </tr>\n",
       "    <tr>\n",
       "      <th>6</th>\n",
       "      <td>Ad Targeting</td>\n",
       "      <td>Automotive &amp; Sports</td>\n",
       "      <td>0</td>\n",
       "    </tr>\n",
       "    <tr>\n",
       "      <th>7</th>\n",
       "      <td>Advanced Materials</td>\n",
       "      <td>Automotive &amp; Sports</td>\n",
       "      <td>0</td>\n",
       "    </tr>\n",
       "    <tr>\n",
       "      <th>8</th>\n",
       "      <td>Adventure Travel</td>\n",
       "      <td>Automotive &amp; Sports</td>\n",
       "      <td>1</td>\n",
       "    </tr>\n",
       "  </tbody>\n",
       "</table>\n",
       "</div>"
      ],
      "text/plain": [
       "        category_list             variable  value\n",
       "0                 NaN  Automotive & Sports      0\n",
       "1                  3D  Automotive & Sports      0\n",
       "2         3D Printing  Automotive & Sports      0\n",
       "3       3D Technology  Automotive & Sports      0\n",
       "4          Accounting  Automotive & Sports      0\n",
       "5    Active Lifestyle  Automotive & Sports      0\n",
       "6        Ad Targeting  Automotive & Sports      0\n",
       "7  Advanced Materials  Automotive & Sports      0\n",
       "8    Adventure Travel  Automotive & Sports      1"
      ]
     },
     "execution_count": 83,
     "metadata": {},
     "output_type": "execute_result"
    }
   ],
   "source": [
    "category_sector_mapping.head(9)"
   ]
  },
  {
   "cell_type": "code",
   "execution_count": 84,
   "id": "d514aaf1-0980-408a-9fab-33626979e3b9",
   "metadata": {},
   "outputs": [],
   "source": [
    "# keeping only those entries where value is one\n",
    "category_sector_mapping = category_sector_mapping[category_sector_mapping.value == 1]"
   ]
  },
  {
   "cell_type": "code",
   "execution_count": 85,
   "id": "fbf8d6e4-699f-460b-a6d4-cb34c3ed3bd4",
   "metadata": {},
   "outputs": [
    {
     "data": {
      "text/html": [
       "<div>\n",
       "<style scoped>\n",
       "    .dataframe tbody tr th:only-of-type {\n",
       "        vertical-align: middle;\n",
       "    }\n",
       "\n",
       "    .dataframe tbody tr th {\n",
       "        vertical-align: top;\n",
       "    }\n",
       "\n",
       "    .dataframe thead th {\n",
       "        text-align: right;\n",
       "    }\n",
       "</style>\n",
       "<table border=\"1\" class=\"dataframe\">\n",
       "  <thead>\n",
       "    <tr style=\"text-align: right;\">\n",
       "      <th></th>\n",
       "      <th>category_list</th>\n",
       "      <th>variable</th>\n",
       "      <th>value</th>\n",
       "    </tr>\n",
       "  </thead>\n",
       "  <tbody>\n",
       "    <tr>\n",
       "      <th>8</th>\n",
       "      <td>Adventure Travel</td>\n",
       "      <td>Automotive &amp; Sports</td>\n",
       "      <td>1</td>\n",
       "    </tr>\n",
       "    <tr>\n",
       "      <th>14</th>\n",
       "      <td>Aerospace</td>\n",
       "      <td>Automotive &amp; Sports</td>\n",
       "      <td>1</td>\n",
       "    </tr>\n",
       "    <tr>\n",
       "      <th>45</th>\n",
       "      <td>Auto</td>\n",
       "      <td>Automotive &amp; Sports</td>\n",
       "      <td>1</td>\n",
       "    </tr>\n",
       "    <tr>\n",
       "      <th>46</th>\n",
       "      <td>Automated Kiosk</td>\n",
       "      <td>Automotive &amp; Sports</td>\n",
       "      <td>1</td>\n",
       "    </tr>\n",
       "    <tr>\n",
       "      <th>47</th>\n",
       "      <td>Automotive</td>\n",
       "      <td>Automotive &amp; Sports</td>\n",
       "      <td>1</td>\n",
       "    </tr>\n",
       "  </tbody>\n",
       "</table>\n",
       "</div>"
      ],
      "text/plain": [
       "       category_list             variable  value\n",
       "8   Adventure Travel  Automotive & Sports      1\n",
       "14         Aerospace  Automotive & Sports      1\n",
       "45              Auto  Automotive & Sports      1\n",
       "46   Automated Kiosk  Automotive & Sports      1\n",
       "47        Automotive  Automotive & Sports      1"
      ]
     },
     "execution_count": 85,
     "metadata": {},
     "output_type": "execute_result"
    }
   ],
   "source": [
    "category_sector_mapping.head()"
   ]
  },
  {
   "cell_type": "code",
   "execution_count": 86,
   "id": "aaf78f49-2646-457f-9aad-9550a4f39127",
   "metadata": {},
   "outputs": [
    {
     "data": {
      "text/html": [
       "<div>\n",
       "<style scoped>\n",
       "    .dataframe tbody tr th:only-of-type {\n",
       "        vertical-align: middle;\n",
       "    }\n",
       "\n",
       "    .dataframe tbody tr th {\n",
       "        vertical-align: top;\n",
       "    }\n",
       "\n",
       "    .dataframe thead th {\n",
       "        text-align: right;\n",
       "    }\n",
       "</style>\n",
       "<table border=\"1\" class=\"dataframe\">\n",
       "  <thead>\n",
       "    <tr style=\"text-align: right;\">\n",
       "      <th></th>\n",
       "      <th>category_list</th>\n",
       "      <th>variable</th>\n",
       "    </tr>\n",
       "  </thead>\n",
       "  <tbody>\n",
       "    <tr>\n",
       "      <th>8</th>\n",
       "      <td>Adventure Travel</td>\n",
       "      <td>Automotive &amp; Sports</td>\n",
       "    </tr>\n",
       "    <tr>\n",
       "      <th>14</th>\n",
       "      <td>Aerospace</td>\n",
       "      <td>Automotive &amp; Sports</td>\n",
       "    </tr>\n",
       "    <tr>\n",
       "      <th>45</th>\n",
       "      <td>Auto</td>\n",
       "      <td>Automotive &amp; Sports</td>\n",
       "    </tr>\n",
       "    <tr>\n",
       "      <th>46</th>\n",
       "      <td>Automated Kiosk</td>\n",
       "      <td>Automotive &amp; Sports</td>\n",
       "    </tr>\n",
       "    <tr>\n",
       "      <th>47</th>\n",
       "      <td>Automotive</td>\n",
       "      <td>Automotive &amp; Sports</td>\n",
       "    </tr>\n",
       "  </tbody>\n",
       "</table>\n",
       "</div>"
      ],
      "text/plain": [
       "       category_list             variable\n",
       "8   Adventure Travel  Automotive & Sports\n",
       "14         Aerospace  Automotive & Sports\n",
       "45              Auto  Automotive & Sports\n",
       "46   Automated Kiosk  Automotive & Sports\n",
       "47        Automotive  Automotive & Sports"
      ]
     },
     "execution_count": 86,
     "metadata": {},
     "output_type": "execute_result"
    }
   ],
   "source": [
    "# dropping value column\n",
    "category_sector_mapping.drop('value', axis=1, inplace=True)\n",
    "category_sector_mapping.head()"
   ]
  },
  {
   "cell_type": "code",
   "execution_count": 87,
   "id": "6c1d3ccc-38ef-4655-970c-22a60893abb4",
   "metadata": {},
   "outputs": [],
   "source": [
    "category_sector_mapping.rename(columns={'variable': 'sector'}, inplace=True)"
   ]
  },
  {
   "cell_type": "code",
   "execution_count": 88,
   "id": "860c2894-4f8d-45a9-b58c-22cf11b25743",
   "metadata": {},
   "outputs": [
    {
     "data": {
      "text/html": [
       "<div>\n",
       "<style scoped>\n",
       "    .dataframe tbody tr th:only-of-type {\n",
       "        vertical-align: middle;\n",
       "    }\n",
       "\n",
       "    .dataframe tbody tr th {\n",
       "        vertical-align: top;\n",
       "    }\n",
       "\n",
       "    .dataframe thead th {\n",
       "        text-align: right;\n",
       "    }\n",
       "</style>\n",
       "<table border=\"1\" class=\"dataframe\">\n",
       "  <thead>\n",
       "    <tr style=\"text-align: right;\">\n",
       "      <th></th>\n",
       "      <th>category_list</th>\n",
       "      <th>sector</th>\n",
       "    </tr>\n",
       "  </thead>\n",
       "  <tbody>\n",
       "    <tr>\n",
       "      <th>8</th>\n",
       "      <td>Adventure Travel</td>\n",
       "      <td>Automotive &amp; Sports</td>\n",
       "    </tr>\n",
       "    <tr>\n",
       "      <th>14</th>\n",
       "      <td>Aerospace</td>\n",
       "      <td>Automotive &amp; Sports</td>\n",
       "    </tr>\n",
       "    <tr>\n",
       "      <th>45</th>\n",
       "      <td>Auto</td>\n",
       "      <td>Automotive &amp; Sports</td>\n",
       "    </tr>\n",
       "    <tr>\n",
       "      <th>46</th>\n",
       "      <td>Automated Kiosk</td>\n",
       "      <td>Automotive &amp; Sports</td>\n",
       "    </tr>\n",
       "    <tr>\n",
       "      <th>47</th>\n",
       "      <td>Automotive</td>\n",
       "      <td>Automotive &amp; Sports</td>\n",
       "    </tr>\n",
       "  </tbody>\n",
       "</table>\n",
       "</div>"
      ],
      "text/plain": [
       "       category_list               sector\n",
       "8   Adventure Travel  Automotive & Sports\n",
       "14         Aerospace  Automotive & Sports\n",
       "45              Auto  Automotive & Sports\n",
       "46   Automated Kiosk  Automotive & Sports\n",
       "47        Automotive  Automotive & Sports"
      ]
     },
     "execution_count": 88,
     "metadata": {},
     "output_type": "execute_result"
    }
   ],
   "source": [
    "category_sector_mapping.head()"
   ]
  },
  {
   "cell_type": "markdown",
   "id": "fd8fe78c-c382-4900-a079-00c4ef80f556",
   "metadata": {},
   "source": [
    "##### Sectors have been mapped to respective Category"
   ]
  },
  {
   "cell_type": "code",
   "execution_count": 89,
   "id": "cf33e095-f6b5-4e57-a587-be8ce1396a79",
   "metadata": {},
   "outputs": [
    {
     "data": {
      "text/html": [
       "<div>\n",
       "<style scoped>\n",
       "    .dataframe tbody tr th:only-of-type {\n",
       "        vertical-align: middle;\n",
       "    }\n",
       "\n",
       "    .dataframe tbody tr th {\n",
       "        vertical-align: top;\n",
       "    }\n",
       "\n",
       "    .dataframe thead th {\n",
       "        text-align: right;\n",
       "    }\n",
       "</style>\n",
       "<table border=\"1\" class=\"dataframe\">\n",
       "  <thead>\n",
       "    <tr style=\"text-align: right;\">\n",
       "      <th></th>\n",
       "      <th>permalink</th>\n",
       "      <th>raised_amount_usd</th>\n",
       "      <th>category_list</th>\n",
       "      <th>country_code</th>\n",
       "    </tr>\n",
       "  </thead>\n",
       "  <tbody>\n",
       "    <tr>\n",
       "      <th>0</th>\n",
       "      <td>/organization/-fame</td>\n",
       "      <td>10000000.0</td>\n",
       "      <td>Media</td>\n",
       "      <td>IND</td>\n",
       "    </tr>\n",
       "    <tr>\n",
       "      <th>1</th>\n",
       "      <td>/organization/-qounter</td>\n",
       "      <td>5000000.0</td>\n",
       "      <td>Application Platforms|Real Time|Social Network...</td>\n",
       "      <td>USA</td>\n",
       "    </tr>\n",
       "    <tr>\n",
       "      <th>3</th>\n",
       "      <td>/organization/-the-one-of-them-inc-</td>\n",
       "      <td>3406878.0</td>\n",
       "      <td>Apps|Games|Mobile</td>\n",
       "      <td>USA</td>\n",
       "    </tr>\n",
       "    <tr>\n",
       "      <th>4</th>\n",
       "      <td>/organization/0-6-com</td>\n",
       "      <td>2000000.0</td>\n",
       "      <td>Curated Web</td>\n",
       "      <td>CHN</td>\n",
       "    </tr>\n",
       "    <tr>\n",
       "      <th>5</th>\n",
       "      <td>/organization/004-technologies</td>\n",
       "      <td>5000000.0</td>\n",
       "      <td>Software</td>\n",
       "      <td>USA</td>\n",
       "    </tr>\n",
       "  </tbody>\n",
       "</table>\n",
       "</div>"
      ],
      "text/plain": [
       "                             permalink  raised_amount_usd  \\\n",
       "0                  /organization/-fame         10000000.0   \n",
       "1               /organization/-qounter          5000000.0   \n",
       "3  /organization/-the-one-of-them-inc-          3406878.0   \n",
       "4                /organization/0-6-com          2000000.0   \n",
       "5       /organization/004-technologies          5000000.0   \n",
       "\n",
       "                                       category_list country_code  \n",
       "0                                              Media          IND  \n",
       "1  Application Platforms|Real Time|Social Network...          USA  \n",
       "3                                  Apps|Games|Mobile          USA  \n",
       "4                                        Curated Web          CHN  \n",
       "5                                           Software          USA  "
      ]
     },
     "execution_count": 89,
     "metadata": {},
     "output_type": "execute_result"
    }
   ],
   "source": [
    "venture_fund.head()"
   ]
  },
  {
   "cell_type": "markdown",
   "id": "5b81f59b-f2d7-4ce2-960d-d3f6b409a600",
   "metadata": {},
   "source": [
    "##### Normalizing category_list\n",
    "We can see that our funding dataset contains a category_list which has multiple categories in it separated by `|`.  \n",
    "As per the business rule given by Spark Funds, we will only keep the primary category. "
   ]
  },
  {
   "cell_type": "code",
   "execution_count": 90,
   "id": "0b16022c-7499-4de3-b7e4-e744dbdbe964",
   "metadata": {},
   "outputs": [
    {
     "data": {
      "text/html": [
       "<div>\n",
       "<style scoped>\n",
       "    .dataframe tbody tr th:only-of-type {\n",
       "        vertical-align: middle;\n",
       "    }\n",
       "\n",
       "    .dataframe tbody tr th {\n",
       "        vertical-align: top;\n",
       "    }\n",
       "\n",
       "    .dataframe thead th {\n",
       "        text-align: right;\n",
       "    }\n",
       "</style>\n",
       "<table border=\"1\" class=\"dataframe\">\n",
       "  <thead>\n",
       "    <tr style=\"text-align: right;\">\n",
       "      <th></th>\n",
       "      <th>permalink</th>\n",
       "      <th>raised_amount_usd</th>\n",
       "      <th>category_list</th>\n",
       "      <th>country_code</th>\n",
       "    </tr>\n",
       "  </thead>\n",
       "  <tbody>\n",
       "    <tr>\n",
       "      <th>0</th>\n",
       "      <td>/organization/-fame</td>\n",
       "      <td>10000000.0</td>\n",
       "      <td>media</td>\n",
       "      <td>IND</td>\n",
       "    </tr>\n",
       "    <tr>\n",
       "      <th>1</th>\n",
       "      <td>/organization/-qounter</td>\n",
       "      <td>5000000.0</td>\n",
       "      <td>application platforms</td>\n",
       "      <td>USA</td>\n",
       "    </tr>\n",
       "    <tr>\n",
       "      <th>3</th>\n",
       "      <td>/organization/-the-one-of-them-inc-</td>\n",
       "      <td>3406878.0</td>\n",
       "      <td>apps</td>\n",
       "      <td>USA</td>\n",
       "    </tr>\n",
       "    <tr>\n",
       "      <th>4</th>\n",
       "      <td>/organization/0-6-com</td>\n",
       "      <td>2000000.0</td>\n",
       "      <td>curated web</td>\n",
       "      <td>CHN</td>\n",
       "    </tr>\n",
       "    <tr>\n",
       "      <th>5</th>\n",
       "      <td>/organization/004-technologies</td>\n",
       "      <td>5000000.0</td>\n",
       "      <td>software</td>\n",
       "      <td>USA</td>\n",
       "    </tr>\n",
       "  </tbody>\n",
       "</table>\n",
       "</div>"
      ],
      "text/plain": [
       "                             permalink  raised_amount_usd  \\\n",
       "0                  /organization/-fame         10000000.0   \n",
       "1               /organization/-qounter          5000000.0   \n",
       "3  /organization/-the-one-of-them-inc-          3406878.0   \n",
       "4                /organization/0-6-com          2000000.0   \n",
       "5       /organization/004-technologies          5000000.0   \n",
       "\n",
       "           category_list country_code  \n",
       "0                  media          IND  \n",
       "1  application platforms          USA  \n",
       "3                   apps          USA  \n",
       "4            curated web          CHN  \n",
       "5               software          USA  "
      ]
     },
     "execution_count": 90,
     "metadata": {},
     "output_type": "execute_result"
    }
   ],
   "source": [
    "venture_fund.category_list = venture_fund.category_list.apply(lambda x: str(x).lower().split('|')[0])\n",
    "venture_fund.head()"
   ]
  },
  {
   "cell_type": "code",
   "execution_count": 91,
   "id": "507339d5-f151-4bfa-8cc7-dcd262b3c5fc",
   "metadata": {},
   "outputs": [],
   "source": [
    "category_sector_mapping.category_list = category_sector_mapping.category_list.apply(lambda x: str(x).lower())"
   ]
  },
  {
   "cell_type": "code",
   "execution_count": 92,
   "id": "cf6c3aae-86c6-4b2e-bbf6-a80cf663c137",
   "metadata": {},
   "outputs": [
    {
     "data": {
      "text/html": [
       "<div>\n",
       "<style scoped>\n",
       "    .dataframe tbody tr th:only-of-type {\n",
       "        vertical-align: middle;\n",
       "    }\n",
       "\n",
       "    .dataframe tbody tr th {\n",
       "        vertical-align: top;\n",
       "    }\n",
       "\n",
       "    .dataframe thead th {\n",
       "        text-align: right;\n",
       "    }\n",
       "</style>\n",
       "<table border=\"1\" class=\"dataframe\">\n",
       "  <thead>\n",
       "    <tr style=\"text-align: right;\">\n",
       "      <th></th>\n",
       "      <th>category_list</th>\n",
       "      <th>sector</th>\n",
       "    </tr>\n",
       "  </thead>\n",
       "  <tbody>\n",
       "    <tr>\n",
       "      <th>8</th>\n",
       "      <td>adventure travel</td>\n",
       "      <td>Automotive &amp; Sports</td>\n",
       "    </tr>\n",
       "    <tr>\n",
       "      <th>14</th>\n",
       "      <td>aerospace</td>\n",
       "      <td>Automotive &amp; Sports</td>\n",
       "    </tr>\n",
       "    <tr>\n",
       "      <th>45</th>\n",
       "      <td>auto</td>\n",
       "      <td>Automotive &amp; Sports</td>\n",
       "    </tr>\n",
       "    <tr>\n",
       "      <th>46</th>\n",
       "      <td>automated kiosk</td>\n",
       "      <td>Automotive &amp; Sports</td>\n",
       "    </tr>\n",
       "    <tr>\n",
       "      <th>47</th>\n",
       "      <td>automotive</td>\n",
       "      <td>Automotive &amp; Sports</td>\n",
       "    </tr>\n",
       "  </tbody>\n",
       "</table>\n",
       "</div>"
      ],
      "text/plain": [
       "       category_list               sector\n",
       "8   adventure travel  Automotive & Sports\n",
       "14         aerospace  Automotive & Sports\n",
       "45              auto  Automotive & Sports\n",
       "46   automated kiosk  Automotive & Sports\n",
       "47        automotive  Automotive & Sports"
      ]
     },
     "execution_count": 92,
     "metadata": {},
     "output_type": "execute_result"
    }
   ],
   "source": [
    "category_sector_mapping.head()"
   ]
  },
  {
   "cell_type": "code",
   "execution_count": 93,
   "id": "0bd21efc-5d51-4b2b-895d-0d882c6da9e9",
   "metadata": {},
   "outputs": [
    {
     "data": {
      "text/plain": [
       "{'0notechnology',\n",
       " '0tural language processing',\n",
       " '0tural resources',\n",
       " '0vigation',\n",
       " 'a0lytics',\n",
       " 'alter0tive medicine',\n",
       " 'aquaculture',\n",
       " 'big data a0lytics',\n",
       " 'biomass power generation',\n",
       " 'boating industry',\n",
       " 'building owners',\n",
       " 'business a0lytics',\n",
       " 'can0bis',\n",
       " 'career ma0gement',\n",
       " 'casual games',\n",
       " 'charities',\n",
       " 'chi0 internet',\n",
       " 'cloud ma0gement',\n",
       " 'contact ma0gement',\n",
       " 'digital rights ma0gement',\n",
       " 'digital sig0ge',\n",
       " 'direct advertising',\n",
       " 'document ma0gement',\n",
       " 'educatio0l games',\n",
       " 'email newsletters',\n",
       " 'energy ma0gement',\n",
       " 'energy storage',\n",
       " 'event ma0gement',\n",
       " 'farmers market',\n",
       " 'fi0nce',\n",
       " 'fi0nce technology',\n",
       " 'fi0ncial exchanges',\n",
       " 'fi0ncial services',\n",
       " 'field support services',\n",
       " 'film distribution',\n",
       " 'flash sales',\n",
       " 'fleet ma0gement',\n",
       " 'flowers',\n",
       " 'fmcg',\n",
       " 'forums',\n",
       " 'fuel cells',\n",
       " 'funeral industry',\n",
       " 'gay & lesbian',\n",
       " 'gover0nce',\n",
       " 'green',\n",
       " 'group buying',\n",
       " 'handmade',\n",
       " 'hedge funds',\n",
       " 'homeless shelter',\n",
       " 'ict',\n",
       " 'identity ma0gement',\n",
       " 'impact investing',\n",
       " 'indians',\n",
       " 'innovation ma0gement',\n",
       " 'intellectual asset ma0gement',\n",
       " 'investment ma0gement',\n",
       " 'it ma0gement',\n",
       " 'jour0lism',\n",
       " 'k-12 education',\n",
       " 'knowledge ma0gement',\n",
       " 'landscaping',\n",
       " 'lead ma0gement',\n",
       " 'lifestyle products',\n",
       " 'low bid auctions',\n",
       " 'medical professio0ls',\n",
       " 'micro-enterprises',\n",
       " 'minerals',\n",
       " 'mobile a0lytics',\n",
       " 'mobile social',\n",
       " 'mobile video',\n",
       " 'monetization',\n",
       " 'moneymaking',\n",
       " 'multi-level marketing',\n",
       " 'musicians',\n",
       " 'nan',\n",
       " 'organic',\n",
       " 'performance marketing',\n",
       " 'perso0l branding',\n",
       " 'perso0l data',\n",
       " 'perso0l fi0nce',\n",
       " 'perso0l health',\n",
       " 'perso0lization',\n",
       " 'pervasive computing',\n",
       " 'postal and courier services',\n",
       " 'predictive a0lytics',\n",
       " 'private social networking',\n",
       " 'productivity',\n",
       " 'professio0l networking',\n",
       " 'professio0l services',\n",
       " 'project ma0gement',\n",
       " 'promotio0l',\n",
       " 'property ma0gement',\n",
       " 'q&a',\n",
       " 'realtors',\n",
       " 'renewable tech',\n",
       " 'risk ma0gement',\n",
       " 'shoes',\n",
       " 'smart grid',\n",
       " 'social media ma0gement',\n",
       " 'social media platforms',\n",
       " 'social recruiting',\n",
       " 'speech recognition',\n",
       " 'subscription service',\n",
       " 'supply chain ma0gement',\n",
       " 'task ma0gement',\n",
       " 'universities',\n",
       " 'university students',\n",
       " 'unmanned air systems',\n",
       " 'usability',\n",
       " 'user experience design',\n",
       " 'vending and concessions',\n",
       " 'veteri0ry',\n",
       " 'waste ma0gement',\n",
       " 'wholesale',\n",
       " 'women'}"
      ]
     },
     "execution_count": 93,
     "metadata": {},
     "output_type": "execute_result"
    }
   ],
   "source": [
    "set(category_sector_mapping.category_list) - set(venture_fund.category_list)"
   ]
  },
  {
   "cell_type": "markdown",
   "id": "2486c79b-eae5-409f-8d99-b7412bb9e9ec",
   "metadata": {},
   "source": [
    "We can see that there is some problem in category_list column of the mappings dataset.\n",
    "- the character `na` seems to have been replaced by `0`"
   ]
  },
  {
   "cell_type": "code",
   "execution_count": 94,
   "id": "fa17c2f7-9bc3-4a12-994d-147f2334b989",
   "metadata": {},
   "outputs": [
    {
     "data": {
      "text/html": [
       "<div>\n",
       "<style scoped>\n",
       "    .dataframe tbody tr th:only-of-type {\n",
       "        vertical-align: middle;\n",
       "    }\n",
       "\n",
       "    .dataframe tbody tr th {\n",
       "        vertical-align: top;\n",
       "    }\n",
       "\n",
       "    .dataframe thead th {\n",
       "        text-align: right;\n",
       "    }\n",
       "</style>\n",
       "<table border=\"1\" class=\"dataframe\">\n",
       "  <thead>\n",
       "    <tr style=\"text-align: right;\">\n",
       "      <th></th>\n",
       "      <th>category_list</th>\n",
       "      <th>sector</th>\n",
       "    </tr>\n",
       "  </thead>\n",
       "  <tbody>\n",
       "    <tr>\n",
       "      <th>1616</th>\n",
       "      <td>energy ma0gement</td>\n",
       "      <td>Cleantech / Semiconductors</td>\n",
       "    </tr>\n",
       "    <tr>\n",
       "      <th>1847</th>\n",
       "      <td>0notechnology</td>\n",
       "      <td>Cleantech / Semiconductors</td>\n",
       "    </tr>\n",
       "    <tr>\n",
       "      <th>1848</th>\n",
       "      <td>0tural language processing</td>\n",
       "      <td>Cleantech / Semiconductors</td>\n",
       "    </tr>\n",
       "    <tr>\n",
       "      <th>1849</th>\n",
       "      <td>0tural resources</td>\n",
       "      <td>Cleantech / Semiconductors</td>\n",
       "    </tr>\n",
       "    <tr>\n",
       "      <th>2048</th>\n",
       "      <td>waste ma0gement</td>\n",
       "      <td>Cleantech / Semiconductors</td>\n",
       "    </tr>\n",
       "    <tr>\n",
       "      <th>2262</th>\n",
       "      <td>digital rights ma0gement</td>\n",
       "      <td>Entertainment</td>\n",
       "    </tr>\n",
       "    <tr>\n",
       "      <th>2263</th>\n",
       "      <td>digital sig0ge</td>\n",
       "      <td>Entertainment</td>\n",
       "    </tr>\n",
       "    <tr>\n",
       "      <th>2287</th>\n",
       "      <td>educatio0l games</td>\n",
       "      <td>Entertainment</td>\n",
       "    </tr>\n",
       "    <tr>\n",
       "      <th>2320</th>\n",
       "      <td>event ma0gement</td>\n",
       "      <td>Entertainment</td>\n",
       "    </tr>\n",
       "    <tr>\n",
       "      <th>2772</th>\n",
       "      <td>alter0tive medicine</td>\n",
       "      <td>Health</td>\n",
       "    </tr>\n",
       "    <tr>\n",
       "      <th>2841</th>\n",
       "      <td>can0bis</td>\n",
       "      <td>Health</td>\n",
       "    </tr>\n",
       "    <tr>\n",
       "      <th>3189</th>\n",
       "      <td>medical professio0ls</td>\n",
       "      <td>Health</td>\n",
       "    </tr>\n",
       "    <tr>\n",
       "      <th>3269</th>\n",
       "      <td>perso0l health</td>\n",
       "      <td>Health</td>\n",
       "    </tr>\n",
       "    <tr>\n",
       "      <th>3416</th>\n",
       "      <td>veteri0ry</td>\n",
       "      <td>Health</td>\n",
       "    </tr>\n",
       "    <tr>\n",
       "      <th>4231</th>\n",
       "      <td>chi0 internet</td>\n",
       "      <td>News, Search and Messaging</td>\n",
       "    </tr>\n",
       "    <tr>\n",
       "      <th>4242</th>\n",
       "      <td>cloud ma0gement</td>\n",
       "      <td>News, Search and Messaging</td>\n",
       "    </tr>\n",
       "    <tr>\n",
       "      <th>4519</th>\n",
       "      <td>jour0lism</td>\n",
       "      <td>News, Search and Messaging</td>\n",
       "    </tr>\n",
       "    <tr>\n",
       "      <th>4602</th>\n",
       "      <td>0vigation</td>\n",
       "      <td>News, Search and Messaging</td>\n",
       "    </tr>\n",
       "    <tr>\n",
       "      <th>4674</th>\n",
       "      <td>professio0l networking</td>\n",
       "      <td>News, Search and Messaging</td>\n",
       "    </tr>\n",
       "    <tr>\n",
       "      <th>5026</th>\n",
       "      <td>document ma0gement</td>\n",
       "      <td>Others</td>\n",
       "    </tr>\n",
       "    <tr>\n",
       "      <th>5059</th>\n",
       "      <td>enterprise 2.0</td>\n",
       "      <td>Others</td>\n",
       "    </tr>\n",
       "    <tr>\n",
       "      <th>5097</th>\n",
       "      <td>fleet ma0gement</td>\n",
       "      <td>Others</td>\n",
       "    </tr>\n",
       "    <tr>\n",
       "      <th>5126</th>\n",
       "      <td>gover0nce</td>\n",
       "      <td>Others</td>\n",
       "    </tr>\n",
       "    <tr>\n",
       "      <th>5188</th>\n",
       "      <td>intellectual asset ma0gement</td>\n",
       "      <td>Others</td>\n",
       "    </tr>\n",
       "    <tr>\n",
       "      <th>5205</th>\n",
       "      <td>it ma0gement</td>\n",
       "      <td>Others</td>\n",
       "    </tr>\n",
       "    <tr>\n",
       "      <th>5210</th>\n",
       "      <td>knowledge ma0gement</td>\n",
       "      <td>Others</td>\n",
       "    </tr>\n",
       "    <tr>\n",
       "      <th>5216</th>\n",
       "      <td>lead ma0gement</td>\n",
       "      <td>Others</td>\n",
       "    </tr>\n",
       "    <tr>\n",
       "      <th>5331</th>\n",
       "      <td>perso0l data</td>\n",
       "      <td>Others</td>\n",
       "    </tr>\n",
       "    <tr>\n",
       "      <th>5334</th>\n",
       "      <td>perso0lization</td>\n",
       "      <td>Others</td>\n",
       "    </tr>\n",
       "    <tr>\n",
       "      <th>5363</th>\n",
       "      <td>professio0l services</td>\n",
       "      <td>Others</td>\n",
       "    </tr>\n",
       "    <tr>\n",
       "      <th>5364</th>\n",
       "      <td>project ma0gement</td>\n",
       "      <td>Others</td>\n",
       "    </tr>\n",
       "    <tr>\n",
       "      <th>5449</th>\n",
       "      <td>supply chain ma0gement</td>\n",
       "      <td>Others</td>\n",
       "    </tr>\n",
       "    <tr>\n",
       "      <th>5453</th>\n",
       "      <td>task ma0gement</td>\n",
       "      <td>Others</td>\n",
       "    </tr>\n",
       "    <tr>\n",
       "      <th>5526</th>\n",
       "      <td>a0lytics</td>\n",
       "      <td>Social, Finance, Analytics, Advertising</td>\n",
       "    </tr>\n",
       "    <tr>\n",
       "      <th>5563</th>\n",
       "      <td>big data a0lytics</td>\n",
       "      <td>Social, Finance, Analytics, Advertising</td>\n",
       "    </tr>\n",
       "    <tr>\n",
       "      <th>5583</th>\n",
       "      <td>business a0lytics</td>\n",
       "      <td>Social, Finance, Analytics, Advertising</td>\n",
       "    </tr>\n",
       "    <tr>\n",
       "      <th>5595</th>\n",
       "      <td>career ma0gement</td>\n",
       "      <td>Social, Finance, Analytics, Advertising</td>\n",
       "    </tr>\n",
       "    <tr>\n",
       "      <th>5649</th>\n",
       "      <td>contact ma0gement</td>\n",
       "      <td>Social, Finance, Analytics, Advertising</td>\n",
       "    </tr>\n",
       "    <tr>\n",
       "      <th>5777</th>\n",
       "      <td>fi0nce</td>\n",
       "      <td>Social, Finance, Analytics, Advertising</td>\n",
       "    </tr>\n",
       "    <tr>\n",
       "      <th>5778</th>\n",
       "      <td>fi0nce technology</td>\n",
       "      <td>Social, Finance, Analytics, Advertising</td>\n",
       "    </tr>\n",
       "    <tr>\n",
       "      <th>5779</th>\n",
       "      <td>fi0ncial exchanges</td>\n",
       "      <td>Social, Finance, Analytics, Advertising</td>\n",
       "    </tr>\n",
       "    <tr>\n",
       "      <th>5780</th>\n",
       "      <td>fi0ncial services</td>\n",
       "      <td>Social, Finance, Analytics, Advertising</td>\n",
       "    </tr>\n",
       "    <tr>\n",
       "      <th>5857</th>\n",
       "      <td>identity ma0gement</td>\n",
       "      <td>Social, Finance, Analytics, Advertising</td>\n",
       "    </tr>\n",
       "    <tr>\n",
       "      <th>5874</th>\n",
       "      <td>innovation ma0gement</td>\n",
       "      <td>Social, Finance, Analytics, Advertising</td>\n",
       "    </tr>\n",
       "    <tr>\n",
       "      <th>5888</th>\n",
       "      <td>investment ma0gement</td>\n",
       "      <td>Social, Finance, Analytics, Advertising</td>\n",
       "    </tr>\n",
       "    <tr>\n",
       "      <th>5952</th>\n",
       "      <td>mobile a0lytics</td>\n",
       "      <td>Social, Finance, Analytics, Advertising</td>\n",
       "    </tr>\n",
       "    <tr>\n",
       "      <th>6018</th>\n",
       "      <td>perso0l branding</td>\n",
       "      <td>Social, Finance, Analytics, Advertising</td>\n",
       "    </tr>\n",
       "    <tr>\n",
       "      <th>6020</th>\n",
       "      <td>perso0l fi0nce</td>\n",
       "      <td>Social, Finance, Analytics, Advertising</td>\n",
       "    </tr>\n",
       "    <tr>\n",
       "      <th>6038</th>\n",
       "      <td>predictive a0lytics</td>\n",
       "      <td>Social, Finance, Analytics, Advertising</td>\n",
       "    </tr>\n",
       "    <tr>\n",
       "      <th>6053</th>\n",
       "      <td>promotio0l</td>\n",
       "      <td>Social, Finance, Analytics, Advertising</td>\n",
       "    </tr>\n",
       "    <tr>\n",
       "      <th>6054</th>\n",
       "      <td>property ma0gement</td>\n",
       "      <td>Social, Finance, Analytics, Advertising</td>\n",
       "    </tr>\n",
       "    <tr>\n",
       "      <th>6079</th>\n",
       "      <td>risk ma0gement</td>\n",
       "      <td>Social, Finance, Analytics, Advertising</td>\n",
       "    </tr>\n",
       "    <tr>\n",
       "      <th>6116</th>\n",
       "      <td>social media ma0gement</td>\n",
       "      <td>Social, Finance, Analytics, Advertising</td>\n",
       "    </tr>\n",
       "  </tbody>\n",
       "</table>\n",
       "</div>"
      ],
      "text/plain": [
       "                     category_list                                   sector\n",
       "1616              energy ma0gement               Cleantech / Semiconductors\n",
       "1847                 0notechnology               Cleantech / Semiconductors\n",
       "1848    0tural language processing               Cleantech / Semiconductors\n",
       "1849              0tural resources               Cleantech / Semiconductors\n",
       "2048               waste ma0gement               Cleantech / Semiconductors\n",
       "2262      digital rights ma0gement                            Entertainment\n",
       "2263                digital sig0ge                            Entertainment\n",
       "2287              educatio0l games                            Entertainment\n",
       "2320               event ma0gement                            Entertainment\n",
       "2772           alter0tive medicine                                   Health\n",
       "2841                       can0bis                                   Health\n",
       "3189          medical professio0ls                                   Health\n",
       "3269                perso0l health                                   Health\n",
       "3416                     veteri0ry                                   Health\n",
       "4231                 chi0 internet               News, Search and Messaging\n",
       "4242               cloud ma0gement               News, Search and Messaging\n",
       "4519                     jour0lism               News, Search and Messaging\n",
       "4602                     0vigation               News, Search and Messaging\n",
       "4674        professio0l networking               News, Search and Messaging\n",
       "5026            document ma0gement                                   Others\n",
       "5059                enterprise 2.0                                   Others\n",
       "5097               fleet ma0gement                                   Others\n",
       "5126                     gover0nce                                   Others\n",
       "5188  intellectual asset ma0gement                                   Others\n",
       "5205                  it ma0gement                                   Others\n",
       "5210           knowledge ma0gement                                   Others\n",
       "5216                lead ma0gement                                   Others\n",
       "5331                  perso0l data                                   Others\n",
       "5334                perso0lization                                   Others\n",
       "5363          professio0l services                                   Others\n",
       "5364             project ma0gement                                   Others\n",
       "5449        supply chain ma0gement                                   Others\n",
       "5453                task ma0gement                                   Others\n",
       "5526                      a0lytics  Social, Finance, Analytics, Advertising\n",
       "5563             big data a0lytics  Social, Finance, Analytics, Advertising\n",
       "5583             business a0lytics  Social, Finance, Analytics, Advertising\n",
       "5595              career ma0gement  Social, Finance, Analytics, Advertising\n",
       "5649             contact ma0gement  Social, Finance, Analytics, Advertising\n",
       "5777                        fi0nce  Social, Finance, Analytics, Advertising\n",
       "5778             fi0nce technology  Social, Finance, Analytics, Advertising\n",
       "5779            fi0ncial exchanges  Social, Finance, Analytics, Advertising\n",
       "5780             fi0ncial services  Social, Finance, Analytics, Advertising\n",
       "5857            identity ma0gement  Social, Finance, Analytics, Advertising\n",
       "5874          innovation ma0gement  Social, Finance, Analytics, Advertising\n",
       "5888          investment ma0gement  Social, Finance, Analytics, Advertising\n",
       "5952               mobile a0lytics  Social, Finance, Analytics, Advertising\n",
       "6018              perso0l branding  Social, Finance, Analytics, Advertising\n",
       "6020                perso0l fi0nce  Social, Finance, Analytics, Advertising\n",
       "6038           predictive a0lytics  Social, Finance, Analytics, Advertising\n",
       "6053                    promotio0l  Social, Finance, Analytics, Advertising\n",
       "6054            property ma0gement  Social, Finance, Analytics, Advertising\n",
       "6079                risk ma0gement  Social, Finance, Analytics, Advertising\n",
       "6116        social media ma0gement  Social, Finance, Analytics, Advertising"
      ]
     },
     "execution_count": 94,
     "metadata": {},
     "output_type": "execute_result"
    }
   ],
   "source": [
    "category_sector_mapping[category_sector_mapping.category_list.str.contains('0')]"
   ]
  },
  {
   "cell_type": "markdown",
   "id": "335486a5-d44b-4f1a-81e0-f9c299ae226e",
   "metadata": {},
   "source": [
    "We can fix this problem by changing all `0`s back to `na`, except for the entry where the number is valid i.e Enterprise 2.0"
   ]
  },
  {
   "cell_type": "code",
   "execution_count": 95,
   "id": "dd2b4cf9-8e70-4b42-9198-d953d630d416",
   "metadata": {},
   "outputs": [
    {
     "data": {
      "text/html": [
       "<div>\n",
       "<style scoped>\n",
       "    .dataframe tbody tr th:only-of-type {\n",
       "        vertical-align: middle;\n",
       "    }\n",
       "\n",
       "    .dataframe tbody tr th {\n",
       "        vertical-align: top;\n",
       "    }\n",
       "\n",
       "    .dataframe thead th {\n",
       "        text-align: right;\n",
       "    }\n",
       "</style>\n",
       "<table border=\"1\" class=\"dataframe\">\n",
       "  <thead>\n",
       "    <tr style=\"text-align: right;\">\n",
       "      <th></th>\n",
       "      <th>category_list</th>\n",
       "      <th>sector</th>\n",
       "    </tr>\n",
       "  </thead>\n",
       "  <tbody>\n",
       "    <tr>\n",
       "      <th>8</th>\n",
       "      <td>adventure travel</td>\n",
       "      <td>Automotive &amp; Sports</td>\n",
       "    </tr>\n",
       "    <tr>\n",
       "      <th>14</th>\n",
       "      <td>aerospace</td>\n",
       "      <td>Automotive &amp; Sports</td>\n",
       "    </tr>\n",
       "    <tr>\n",
       "      <th>45</th>\n",
       "      <td>auto</td>\n",
       "      <td>Automotive &amp; Sports</td>\n",
       "    </tr>\n",
       "    <tr>\n",
       "      <th>46</th>\n",
       "      <td>automated kiosk</td>\n",
       "      <td>Automotive &amp; Sports</td>\n",
       "    </tr>\n",
       "    <tr>\n",
       "      <th>47</th>\n",
       "      <td>automotive</td>\n",
       "      <td>Automotive &amp; Sports</td>\n",
       "    </tr>\n",
       "  </tbody>\n",
       "</table>\n",
       "</div>"
      ],
      "text/plain": [
       "       category_list               sector\n",
       "8   adventure travel  Automotive & Sports\n",
       "14         aerospace  Automotive & Sports\n",
       "45              auto  Automotive & Sports\n",
       "46   automated kiosk  Automotive & Sports\n",
       "47        automotive  Automotive & Sports"
      ]
     },
     "execution_count": 95,
     "metadata": {},
     "output_type": "execute_result"
    }
   ],
   "source": [
    "category_sector_mapping.category_list = category_sector_mapping.category_list.apply(lambda x: str(x).replace(\"0\", 'na') if ('enterprise' not in str(x)) else x)\n",
    "category_sector_mapping.head()"
   ]
  },
  {
   "cell_type": "code",
   "execution_count": 96,
   "id": "38168fd8-dacf-478c-b52a-e060e5910b2a",
   "metadata": {},
   "outputs": [
    {
     "data": {
      "text/plain": [
       "{'adaptive equipment',\n",
       " 'biotechnology and semiconductor',\n",
       " 'english-speaking',\n",
       " 'enterprise hardware',\n",
       " 'greentech',\n",
       " 'natural gas uses',\n",
       " 'nightlife',\n",
       " 'product search',\n",
       " 'racing',\n",
       " 'rapidly expanding',\n",
       " 'retirement',\n",
       " 'specialty retail'}"
      ]
     },
     "execution_count": 96,
     "metadata": {},
     "output_type": "execute_result"
    }
   ],
   "source": [
    "# checking how many category list values cannot be mapped. \n",
    "set(venture_fund.category_list) - set(category_sector_mapping.category_list)"
   ]
  },
  {
   "cell_type": "markdown",
   "id": "63d71af3-3728-4236-8ded-d18adb416525",
   "metadata": {},
   "source": [
    "##### Categoy List has been cleaned and normalized in both the dataframes. \n",
    "### Merging mapping data to venture fund data further analysis"
   ]
  },
  {
   "cell_type": "code",
   "execution_count": 97,
   "id": "7d0d754a-d212-444c-81f1-cdae8d2e7810",
   "metadata": {},
   "outputs": [],
   "source": [
    "category_sector_df = pd.merge(venture_fund, category_sector_mapping, on='category_list')"
   ]
  },
  {
   "cell_type": "code",
   "execution_count": 98,
   "id": "e0c8a5f1-f1be-44c1-ae04-50dee3d35a61",
   "metadata": {},
   "outputs": [
    {
     "data": {
      "text/html": [
       "<div>\n",
       "<style scoped>\n",
       "    .dataframe tbody tr th:only-of-type {\n",
       "        vertical-align: middle;\n",
       "    }\n",
       "\n",
       "    .dataframe tbody tr th {\n",
       "        vertical-align: top;\n",
       "    }\n",
       "\n",
       "    .dataframe thead th {\n",
       "        text-align: right;\n",
       "    }\n",
       "</style>\n",
       "<table border=\"1\" class=\"dataframe\">\n",
       "  <thead>\n",
       "    <tr style=\"text-align: right;\">\n",
       "      <th></th>\n",
       "      <th>permalink</th>\n",
       "      <th>raised_amount_usd</th>\n",
       "      <th>category_list</th>\n",
       "      <th>country_code</th>\n",
       "      <th>sector</th>\n",
       "    </tr>\n",
       "  </thead>\n",
       "  <tbody>\n",
       "    <tr>\n",
       "      <th>0</th>\n",
       "      <td>/organization/-fame</td>\n",
       "      <td>10000000.0</td>\n",
       "      <td>media</td>\n",
       "      <td>IND</td>\n",
       "      <td>Entertainment</td>\n",
       "    </tr>\n",
       "    <tr>\n",
       "      <th>1</th>\n",
       "      <td>/organization/90min</td>\n",
       "      <td>15000000.0</td>\n",
       "      <td>media</td>\n",
       "      <td>GBR</td>\n",
       "      <td>Entertainment</td>\n",
       "    </tr>\n",
       "    <tr>\n",
       "      <th>2</th>\n",
       "      <td>/organization/90min</td>\n",
       "      <td>5800000.0</td>\n",
       "      <td>media</td>\n",
       "      <td>GBR</td>\n",
       "      <td>Entertainment</td>\n",
       "    </tr>\n",
       "    <tr>\n",
       "      <th>3</th>\n",
       "      <td>/organization/90min</td>\n",
       "      <td>18000000.0</td>\n",
       "      <td>media</td>\n",
       "      <td>GBR</td>\n",
       "      <td>Entertainment</td>\n",
       "    </tr>\n",
       "    <tr>\n",
       "      <th>4</th>\n",
       "      <td>/organization/all-def-digital</td>\n",
       "      <td>5000000.0</td>\n",
       "      <td>media</td>\n",
       "      <td>USA</td>\n",
       "      <td>Entertainment</td>\n",
       "    </tr>\n",
       "  </tbody>\n",
       "</table>\n",
       "</div>"
      ],
      "text/plain": [
       "                       permalink  raised_amount_usd category_list  \\\n",
       "0            /organization/-fame         10000000.0         media   \n",
       "1            /organization/90min         15000000.0         media   \n",
       "2            /organization/90min          5800000.0         media   \n",
       "3            /organization/90min         18000000.0         media   \n",
       "4  /organization/all-def-digital          5000000.0         media   \n",
       "\n",
       "  country_code         sector  \n",
       "0          IND  Entertainment  \n",
       "1          GBR  Entertainment  \n",
       "2          GBR  Entertainment  \n",
       "3          GBR  Entertainment  \n",
       "4          USA  Entertainment  "
      ]
     },
     "execution_count": 98,
     "metadata": {},
     "output_type": "execute_result"
    }
   ],
   "source": [
    "category_sector_df.head()"
   ]
  },
  {
   "cell_type": "code",
   "execution_count": 99,
   "id": "d142de75-362f-4e15-9577-1c4bf9909238",
   "metadata": {},
   "outputs": [
    {
     "name": "stdout",
     "output_type": "stream",
     "text": [
      "<class 'pandas.core.frame.DataFrame'>\n",
      "Int64Index: 55480 entries, 0 to 55479\n",
      "Data columns (total 5 columns):\n",
      " #   Column             Non-Null Count  Dtype  \n",
      "---  ------             --------------  -----  \n",
      " 0   permalink          55480 non-null  object \n",
      " 1   raised_amount_usd  55480 non-null  float64\n",
      " 2   category_list      55480 non-null  object \n",
      " 3   country_code       55480 non-null  object \n",
      " 4   sector             55480 non-null  object \n",
      "dtypes: float64(1), object(4)\n",
      "memory usage: 2.5+ MB\n"
     ]
    }
   ],
   "source": [
    "category_sector_df.info()"
   ]
  },
  {
   "cell_type": "code",
   "execution_count": 100,
   "id": "d96abf43-efdd-484b-9d4f-c55efac55022",
   "metadata": {},
   "outputs": [
    {
     "name": "stdout",
     "output_type": "stream",
     "text": [
      "<class 'pandas.core.frame.DataFrame'>\n",
      "Int64Index: 55494 entries, 0 to 114946\n",
      "Data columns (total 4 columns):\n",
      " #   Column             Non-Null Count  Dtype  \n",
      "---  ------             --------------  -----  \n",
      " 0   permalink          55494 non-null  object \n",
      " 1   raised_amount_usd  55494 non-null  float64\n",
      " 2   category_list      55494 non-null  object \n",
      " 3   country_code       55494 non-null  object \n",
      "dtypes: float64(1), object(3)\n",
      "memory usage: 4.1+ MB\n"
     ]
    }
   ],
   "source": [
    "venture_fund.info()"
   ]
  },
  {
   "cell_type": "code",
   "execution_count": 101,
   "id": "7a18397e-a888-40fa-93cd-f5d3fc4d39ca",
   "metadata": {},
   "outputs": [
    {
     "data": {
      "text/plain": [
       "14"
      ]
     },
     "execution_count": 101,
     "metadata": {},
     "output_type": "execute_result"
    }
   ],
   "source": [
    "len(venture_fund) - len(category_sector_df)"
   ]
  },
  {
   "cell_type": "markdown",
   "id": "f5a61124-ff19-4c16-b6e7-9dad7cc79605",
   "metadata": {},
   "source": [
    "##### Observation: We lost 14 values due to merge (~0.02%)"
   ]
  },
  {
   "cell_type": "code",
   "execution_count": 102,
   "id": "c1646b0f-baf6-4ed5-b5e3-f35b5d9b3f93",
   "metadata": {},
   "outputs": [
    {
     "data": {
      "text/plain": [
       "False"
      ]
     },
     "execution_count": 102,
     "metadata": {},
     "output_type": "execute_result"
    }
   ],
   "source": [
    "# checking if any sector is missing\n",
    "any(category_sector_df.sector.isnull())"
   ]
  },
  {
   "cell_type": "markdown",
   "id": "ba7a98c1-386b-424b-b921-42eba8f0fd7c",
   "metadata": {},
   "source": [
    "---"
   ]
  },
  {
   "cell_type": "markdown",
   "id": "7a7ade8d-c723-479e-bf2d-819ee5e27f2d",
   "metadata": {},
   "source": [
    "## Sector Analysis"
   ]
  },
  {
   "cell_type": "code",
   "execution_count": 103,
   "id": "89441617-a933-4c93-ab9c-75f4d4a2e2e2",
   "metadata": {},
   "outputs": [],
   "source": [
    "top3_countries_sectors = category_sector_df[category_sector_df.country_code.isin(top3_countries)]"
   ]
  },
  {
   "cell_type": "code",
   "execution_count": 104,
   "id": "0f064f63-db6b-4628-b0d5-93681616894d",
   "metadata": {},
   "outputs": [
    {
     "data": {
      "text/html": [
       "<div>\n",
       "<style scoped>\n",
       "    .dataframe tbody tr th:only-of-type {\n",
       "        vertical-align: middle;\n",
       "    }\n",
       "\n",
       "    .dataframe tbody tr th {\n",
       "        vertical-align: top;\n",
       "    }\n",
       "\n",
       "    .dataframe thead th {\n",
       "        text-align: right;\n",
       "    }\n",
       "</style>\n",
       "<table border=\"1\" class=\"dataframe\">\n",
       "  <thead>\n",
       "    <tr style=\"text-align: right;\">\n",
       "      <th></th>\n",
       "      <th>permalink</th>\n",
       "      <th>raised_amount_usd</th>\n",
       "      <th>category_list</th>\n",
       "      <th>country_code</th>\n",
       "      <th>sector</th>\n",
       "    </tr>\n",
       "  </thead>\n",
       "  <tbody>\n",
       "    <tr>\n",
       "      <th>0</th>\n",
       "      <td>/organization/-fame</td>\n",
       "      <td>10000000.0</td>\n",
       "      <td>media</td>\n",
       "      <td>IND</td>\n",
       "      <td>Entertainment</td>\n",
       "    </tr>\n",
       "    <tr>\n",
       "      <th>1</th>\n",
       "      <td>/organization/90min</td>\n",
       "      <td>15000000.0</td>\n",
       "      <td>media</td>\n",
       "      <td>GBR</td>\n",
       "      <td>Entertainment</td>\n",
       "    </tr>\n",
       "    <tr>\n",
       "      <th>2</th>\n",
       "      <td>/organization/90min</td>\n",
       "      <td>5800000.0</td>\n",
       "      <td>media</td>\n",
       "      <td>GBR</td>\n",
       "      <td>Entertainment</td>\n",
       "    </tr>\n",
       "    <tr>\n",
       "      <th>3</th>\n",
       "      <td>/organization/90min</td>\n",
       "      <td>18000000.0</td>\n",
       "      <td>media</td>\n",
       "      <td>GBR</td>\n",
       "      <td>Entertainment</td>\n",
       "    </tr>\n",
       "    <tr>\n",
       "      <th>4</th>\n",
       "      <td>/organization/all-def-digital</td>\n",
       "      <td>5000000.0</td>\n",
       "      <td>media</td>\n",
       "      <td>USA</td>\n",
       "      <td>Entertainment</td>\n",
       "    </tr>\n",
       "  </tbody>\n",
       "</table>\n",
       "</div>"
      ],
      "text/plain": [
       "                       permalink  raised_amount_usd category_list  \\\n",
       "0            /organization/-fame         10000000.0         media   \n",
       "1            /organization/90min         15000000.0         media   \n",
       "2            /organization/90min          5800000.0         media   \n",
       "3            /organization/90min         18000000.0         media   \n",
       "4  /organization/all-def-digital          5000000.0         media   \n",
       "\n",
       "  country_code         sector  \n",
       "0          IND  Entertainment  \n",
       "1          GBR  Entertainment  \n",
       "2          GBR  Entertainment  \n",
       "3          GBR  Entertainment  \n",
       "4          USA  Entertainment  "
      ]
     },
     "execution_count": 104,
     "metadata": {},
     "output_type": "execute_result"
    }
   ],
   "source": [
    "top3_countries_sectors.head()"
   ]
  },
  {
   "cell_type": "code",
   "execution_count": 105,
   "id": "915e4409-45b5-4ad2-bac5-da3595480130",
   "metadata": {},
   "outputs": [],
   "source": [
    "top3_countries_filtered = top3_countries_sectors[(top3_countries_sectors.raised_amount_usd <= 15000000) & (top3_countries_sectors.raised_amount_usd >= 5000000)]"
   ]
  },
  {
   "cell_type": "code",
   "execution_count": 106,
   "id": "0084ca16-b449-4766-b552-db2d2b553a3a",
   "metadata": {},
   "outputs": [
    {
     "data": {
      "text/html": [
       "<div>\n",
       "<style scoped>\n",
       "    .dataframe tbody tr th:only-of-type {\n",
       "        vertical-align: middle;\n",
       "    }\n",
       "\n",
       "    .dataframe tbody tr th {\n",
       "        vertical-align: top;\n",
       "    }\n",
       "\n",
       "    .dataframe thead th {\n",
       "        text-align: right;\n",
       "    }\n",
       "</style>\n",
       "<table border=\"1\" class=\"dataframe\">\n",
       "  <thead>\n",
       "    <tr style=\"text-align: right;\">\n",
       "      <th></th>\n",
       "      <th>permalink</th>\n",
       "      <th>raised_amount_usd</th>\n",
       "      <th>category_list</th>\n",
       "      <th>country_code</th>\n",
       "      <th>sector</th>\n",
       "    </tr>\n",
       "  </thead>\n",
       "  <tbody>\n",
       "    <tr>\n",
       "      <th>0</th>\n",
       "      <td>/organization/-fame</td>\n",
       "      <td>10000000.0</td>\n",
       "      <td>media</td>\n",
       "      <td>IND</td>\n",
       "      <td>Entertainment</td>\n",
       "    </tr>\n",
       "    <tr>\n",
       "      <th>1</th>\n",
       "      <td>/organization/90min</td>\n",
       "      <td>15000000.0</td>\n",
       "      <td>media</td>\n",
       "      <td>GBR</td>\n",
       "      <td>Entertainment</td>\n",
       "    </tr>\n",
       "    <tr>\n",
       "      <th>2</th>\n",
       "      <td>/organization/90min</td>\n",
       "      <td>5800000.0</td>\n",
       "      <td>media</td>\n",
       "      <td>GBR</td>\n",
       "      <td>Entertainment</td>\n",
       "    </tr>\n",
       "    <tr>\n",
       "      <th>4</th>\n",
       "      <td>/organization/all-def-digital</td>\n",
       "      <td>5000000.0</td>\n",
       "      <td>media</td>\n",
       "      <td>USA</td>\n",
       "      <td>Entertainment</td>\n",
       "    </tr>\n",
       "    <tr>\n",
       "      <th>16</th>\n",
       "      <td>/organization/chefs-feed</td>\n",
       "      <td>5000000.0</td>\n",
       "      <td>media</td>\n",
       "      <td>USA</td>\n",
       "      <td>Entertainment</td>\n",
       "    </tr>\n",
       "  </tbody>\n",
       "</table>\n",
       "</div>"
      ],
      "text/plain": [
       "                        permalink  raised_amount_usd category_list  \\\n",
       "0             /organization/-fame         10000000.0         media   \n",
       "1             /organization/90min         15000000.0         media   \n",
       "2             /organization/90min          5800000.0         media   \n",
       "4   /organization/all-def-digital          5000000.0         media   \n",
       "16       /organization/chefs-feed          5000000.0         media   \n",
       "\n",
       "   country_code         sector  \n",
       "0           IND  Entertainment  \n",
       "1           GBR  Entertainment  \n",
       "2           GBR  Entertainment  \n",
       "4           USA  Entertainment  \n",
       "16          USA  Entertainment  "
      ]
     },
     "execution_count": 106,
     "metadata": {},
     "output_type": "execute_result"
    }
   ],
   "source": [
    "top3_countries_filtered.head()"
   ]
  },
  {
   "cell_type": "markdown",
   "id": "eb451a6a-27c0-4eed-a1f2-5398f8a87e85",
   "metadata": {},
   "source": [
    "### Understand the data for the Top 3 Countries"
   ]
  },
  {
   "cell_type": "code",
   "execution_count": 107,
   "id": "cd68ef9e-6b1c-4c3f-aa72-d7a3cd2a5fd1",
   "metadata": {},
   "outputs": [],
   "source": [
    "ind_df = top3_countries_filtered[top3_countries_filtered['country_code'] == \"IND\"]\n",
    "us_df = top3_countries_filtered[top3_countries_filtered['country_code'] == \"USA\"]\n",
    "uk_df = top3_countries_filtered[top3_countries_filtered['country_code'] == \"GBR\"]"
   ]
  },
  {
   "cell_type": "code",
   "execution_count": 108,
   "id": "dc44bb75-eba6-4bf2-b820-4e811459fe38",
   "metadata": {},
   "outputs": [
    {
     "data": {
      "text/html": [
       "<div>\n",
       "<style scoped>\n",
       "    .dataframe tbody tr th:only-of-type {\n",
       "        vertical-align: middle;\n",
       "    }\n",
       "\n",
       "    .dataframe tbody tr th {\n",
       "        vertical-align: top;\n",
       "    }\n",
       "\n",
       "    .dataframe thead th {\n",
       "        text-align: right;\n",
       "    }\n",
       "</style>\n",
       "<table border=\"1\" class=\"dataframe\">\n",
       "  <thead>\n",
       "    <tr style=\"text-align: right;\">\n",
       "      <th></th>\n",
       "      <th>permalink</th>\n",
       "      <th>raised_amount_usd</th>\n",
       "      <th>category_list</th>\n",
       "      <th>country_code</th>\n",
       "      <th>sector</th>\n",
       "    </tr>\n",
       "  </thead>\n",
       "  <tbody>\n",
       "    <tr>\n",
       "      <th>0</th>\n",
       "      <td>/organization/-fame</td>\n",
       "      <td>10000000.0</td>\n",
       "      <td>media</td>\n",
       "      <td>IND</td>\n",
       "      <td>Entertainment</td>\n",
       "    </tr>\n",
       "    <tr>\n",
       "      <th>243</th>\n",
       "      <td>/organization/birds-eye-systems</td>\n",
       "      <td>5000000.0</td>\n",
       "      <td>apps</td>\n",
       "      <td>IND</td>\n",
       "      <td>News, Search and Messaging</td>\n",
       "    </tr>\n",
       "    <tr>\n",
       "      <th>250</th>\n",
       "      <td>/organization/bobble-app</td>\n",
       "      <td>5000000.0</td>\n",
       "      <td>apps</td>\n",
       "      <td>IND</td>\n",
       "      <td>News, Search and Messaging</td>\n",
       "    </tr>\n",
       "    <tr>\n",
       "      <th>279</th>\n",
       "      <td>/organization/chillr-2</td>\n",
       "      <td>6000000.0</td>\n",
       "      <td>apps</td>\n",
       "      <td>IND</td>\n",
       "      <td>News, Search and Messaging</td>\n",
       "    </tr>\n",
       "    <tr>\n",
       "      <th>415</th>\n",
       "      <td>/organization/innoz</td>\n",
       "      <td>5000000.0</td>\n",
       "      <td>apps</td>\n",
       "      <td>IND</td>\n",
       "      <td>News, Search and Messaging</td>\n",
       "    </tr>\n",
       "  </tbody>\n",
       "</table>\n",
       "</div>"
      ],
      "text/plain": [
       "                           permalink  raised_amount_usd category_list  \\\n",
       "0                /organization/-fame         10000000.0         media   \n",
       "243  /organization/birds-eye-systems          5000000.0          apps   \n",
       "250         /organization/bobble-app          5000000.0          apps   \n",
       "279           /organization/chillr-2          6000000.0          apps   \n",
       "415              /organization/innoz          5000000.0          apps   \n",
       "\n",
       "    country_code                      sector  \n",
       "0            IND               Entertainment  \n",
       "243          IND  News, Search and Messaging  \n",
       "250          IND  News, Search and Messaging  \n",
       "279          IND  News, Search and Messaging  \n",
       "415          IND  News, Search and Messaging  "
      ]
     },
     "execution_count": 108,
     "metadata": {},
     "output_type": "execute_result"
    }
   ],
   "source": [
    "ind_df.head()"
   ]
  },
  {
   "cell_type": "code",
   "execution_count": 109,
   "id": "cb8484fb-81ed-4d57-a26e-070b682939c0",
   "metadata": {},
   "outputs": [
    {
     "name": "stdout",
     "output_type": "stream",
     "text": [
      "<class 'pandas.core.frame.DataFrame'>\n",
      "Int64Index: 498 entries, 0 to 55378\n",
      "Data columns (total 5 columns):\n",
      " #   Column             Non-Null Count  Dtype  \n",
      "---  ------             --------------  -----  \n",
      " 0   permalink          498 non-null    object \n",
      " 1   raised_amount_usd  498 non-null    float64\n",
      " 2   category_list      498 non-null    object \n",
      " 3   country_code       498 non-null    object \n",
      " 4   sector             498 non-null    object \n",
      "dtypes: float64(1), object(4)\n",
      "memory usage: 23.3+ KB\n"
     ]
    }
   ],
   "source": [
    "ind_df.info()"
   ]
  },
  {
   "cell_type": "code",
   "execution_count": 110,
   "id": "4bf0d8d1-197c-4274-a785-affb0972099c",
   "metadata": {},
   "outputs": [
    {
     "data": {
      "text/html": [
       "<div>\n",
       "<style scoped>\n",
       "    .dataframe tbody tr th:only-of-type {\n",
       "        vertical-align: middle;\n",
       "    }\n",
       "\n",
       "    .dataframe tbody tr th {\n",
       "        vertical-align: top;\n",
       "    }\n",
       "\n",
       "    .dataframe thead th {\n",
       "        text-align: right;\n",
       "    }\n",
       "</style>\n",
       "<table border=\"1\" class=\"dataframe\">\n",
       "  <thead>\n",
       "    <tr style=\"text-align: right;\">\n",
       "      <th></th>\n",
       "      <th>permalink</th>\n",
       "      <th>raised_amount_usd</th>\n",
       "      <th>category_list</th>\n",
       "      <th>country_code</th>\n",
       "      <th>sector</th>\n",
       "    </tr>\n",
       "  </thead>\n",
       "  <tbody>\n",
       "    <tr>\n",
       "      <th>4</th>\n",
       "      <td>/organization/all-def-digital</td>\n",
       "      <td>5000000.0</td>\n",
       "      <td>media</td>\n",
       "      <td>USA</td>\n",
       "      <td>Entertainment</td>\n",
       "    </tr>\n",
       "    <tr>\n",
       "      <th>16</th>\n",
       "      <td>/organization/chefs-feed</td>\n",
       "      <td>5000000.0</td>\n",
       "      <td>media</td>\n",
       "      <td>USA</td>\n",
       "      <td>Entertainment</td>\n",
       "    </tr>\n",
       "    <tr>\n",
       "      <th>25</th>\n",
       "      <td>/organization/huffingtonpost</td>\n",
       "      <td>5000000.0</td>\n",
       "      <td>media</td>\n",
       "      <td>USA</td>\n",
       "      <td>Entertainment</td>\n",
       "    </tr>\n",
       "    <tr>\n",
       "      <th>26</th>\n",
       "      <td>/organization/huffingtonpost</td>\n",
       "      <td>5000000.0</td>\n",
       "      <td>media</td>\n",
       "      <td>USA</td>\n",
       "      <td>Entertainment</td>\n",
       "    </tr>\n",
       "    <tr>\n",
       "      <th>36</th>\n",
       "      <td>/organization/matchmine</td>\n",
       "      <td>10000000.0</td>\n",
       "      <td>media</td>\n",
       "      <td>USA</td>\n",
       "      <td>Entertainment</td>\n",
       "    </tr>\n",
       "  </tbody>\n",
       "</table>\n",
       "</div>"
      ],
      "text/plain": [
       "                        permalink  raised_amount_usd category_list  \\\n",
       "4   /organization/all-def-digital          5000000.0         media   \n",
       "16       /organization/chefs-feed          5000000.0         media   \n",
       "25   /organization/huffingtonpost          5000000.0         media   \n",
       "26   /organization/huffingtonpost          5000000.0         media   \n",
       "36        /organization/matchmine         10000000.0         media   \n",
       "\n",
       "   country_code         sector  \n",
       "4           USA  Entertainment  \n",
       "16          USA  Entertainment  \n",
       "25          USA  Entertainment  \n",
       "26          USA  Entertainment  \n",
       "36          USA  Entertainment  "
      ]
     },
     "execution_count": 110,
     "metadata": {},
     "output_type": "execute_result"
    }
   ],
   "source": [
    "us_df.head()"
   ]
  },
  {
   "cell_type": "code",
   "execution_count": 111,
   "id": "394eb6d7-0314-4a2d-9929-7ffdd370e951",
   "metadata": {},
   "outputs": [
    {
     "name": "stdout",
     "output_type": "stream",
     "text": [
      "<class 'pandas.core.frame.DataFrame'>\n",
      "Int64Index: 15843 entries, 4 to 55473\n",
      "Data columns (total 5 columns):\n",
      " #   Column             Non-Null Count  Dtype  \n",
      "---  ------             --------------  -----  \n",
      " 0   permalink          15843 non-null  object \n",
      " 1   raised_amount_usd  15843 non-null  float64\n",
      " 2   category_list      15843 non-null  object \n",
      " 3   country_code       15843 non-null  object \n",
      " 4   sector             15843 non-null  object \n",
      "dtypes: float64(1), object(4)\n",
      "memory usage: 742.6+ KB\n"
     ]
    }
   ],
   "source": [
    "us_df.info()"
   ]
  },
  {
   "cell_type": "code",
   "execution_count": 112,
   "id": "1d76514e-debe-48e3-ae6b-9ef67ba94986",
   "metadata": {},
   "outputs": [
    {
     "name": "stdout",
     "output_type": "stream",
     "text": [
      "<class 'pandas.core.frame.DataFrame'>\n",
      "Int64Index: 876 entries, 1 to 55466\n",
      "Data columns (total 5 columns):\n",
      " #   Column             Non-Null Count  Dtype  \n",
      "---  ------             --------------  -----  \n",
      " 0   permalink          876 non-null    object \n",
      " 1   raised_amount_usd  876 non-null    float64\n",
      " 2   category_list      876 non-null    object \n",
      " 3   country_code       876 non-null    object \n",
      " 4   sector             876 non-null    object \n",
      "dtypes: float64(1), object(4)\n",
      "memory usage: 41.1+ KB\n"
     ]
    }
   ],
   "source": [
    "uk_df.info()"
   ]
  },
  {
   "cell_type": "code",
   "execution_count": 113,
   "id": "f994522d-ab77-4fe1-8d61-69c94c0e2a42",
   "metadata": {},
   "outputs": [
    {
     "data": {
      "text/html": [
       "<div>\n",
       "<style scoped>\n",
       "    .dataframe tbody tr th:only-of-type {\n",
       "        vertical-align: middle;\n",
       "    }\n",
       "\n",
       "    .dataframe tbody tr th {\n",
       "        vertical-align: top;\n",
       "    }\n",
       "\n",
       "    .dataframe thead th {\n",
       "        text-align: right;\n",
       "    }\n",
       "</style>\n",
       "<table border=\"1\" class=\"dataframe\">\n",
       "  <thead>\n",
       "    <tr style=\"text-align: right;\">\n",
       "      <th></th>\n",
       "      <th>permalink</th>\n",
       "      <th>raised_amount_usd</th>\n",
       "      <th>category_list</th>\n",
       "      <th>country_code</th>\n",
       "      <th>sector</th>\n",
       "    </tr>\n",
       "  </thead>\n",
       "  <tbody>\n",
       "    <tr>\n",
       "      <th>1</th>\n",
       "      <td>/organization/90min</td>\n",
       "      <td>15000000.0</td>\n",
       "      <td>media</td>\n",
       "      <td>GBR</td>\n",
       "      <td>Entertainment</td>\n",
       "    </tr>\n",
       "    <tr>\n",
       "      <th>2</th>\n",
       "      <td>/organization/90min</td>\n",
       "      <td>5800000.0</td>\n",
       "      <td>media</td>\n",
       "      <td>GBR</td>\n",
       "      <td>Entertainment</td>\n",
       "    </tr>\n",
       "    <tr>\n",
       "      <th>102</th>\n",
       "      <td>/organization/common-interest-communities</td>\n",
       "      <td>10000000.0</td>\n",
       "      <td>application platforms</td>\n",
       "      <td>GBR</td>\n",
       "      <td>News, Search and Messaging</td>\n",
       "    </tr>\n",
       "    <tr>\n",
       "      <th>118</th>\n",
       "      <td>/organization/geospock-ltd-</td>\n",
       "      <td>5460000.0</td>\n",
       "      <td>application platforms</td>\n",
       "      <td>GBR</td>\n",
       "      <td>News, Search and Messaging</td>\n",
       "    </tr>\n",
       "    <tr>\n",
       "      <th>119</th>\n",
       "      <td>/organization/geospock-ltd-</td>\n",
       "      <td>5400000.0</td>\n",
       "      <td>application platforms</td>\n",
       "      <td>GBR</td>\n",
       "      <td>News, Search and Messaging</td>\n",
       "    </tr>\n",
       "  </tbody>\n",
       "</table>\n",
       "</div>"
      ],
      "text/plain": [
       "                                     permalink  raised_amount_usd  \\\n",
       "1                          /organization/90min         15000000.0   \n",
       "2                          /organization/90min          5800000.0   \n",
       "102  /organization/common-interest-communities         10000000.0   \n",
       "118                /organization/geospock-ltd-          5460000.0   \n",
       "119                /organization/geospock-ltd-          5400000.0   \n",
       "\n",
       "             category_list country_code                      sector  \n",
       "1                    media          GBR               Entertainment  \n",
       "2                    media          GBR               Entertainment  \n",
       "102  application platforms          GBR  News, Search and Messaging  \n",
       "118  application platforms          GBR  News, Search and Messaging  \n",
       "119  application platforms          GBR  News, Search and Messaging  "
      ]
     },
     "execution_count": 113,
     "metadata": {},
     "output_type": "execute_result"
    }
   ],
   "source": [
    "uk_df.head()"
   ]
  },
  {
   "cell_type": "code",
   "execution_count": 114,
   "id": "7c5ed049-1fc0-44a1-80a2-a29c60ac2184",
   "metadata": {},
   "outputs": [
    {
     "name": "stdout",
     "output_type": "stream",
     "text": [
      "<class 'pandas.core.frame.DataFrame'>\n",
      "Int64Index: 876 entries, 1 to 55466\n",
      "Data columns (total 5 columns):\n",
      " #   Column             Non-Null Count  Dtype  \n",
      "---  ------             --------------  -----  \n",
      " 0   permalink          876 non-null    object \n",
      " 1   raised_amount_usd  876 non-null    float64\n",
      " 2   category_list      876 non-null    object \n",
      " 3   country_code       876 non-null    object \n",
      " 4   sector             876 non-null    object \n",
      "dtypes: float64(1), object(4)\n",
      "memory usage: 41.1+ KB\n"
     ]
    }
   ],
   "source": [
    "uk_df.info()"
   ]
  },
  {
   "cell_type": "code",
   "execution_count": 115,
   "id": "93c31411-f608-4d0e-be50-1be36484f29e",
   "metadata": {},
   "outputs": [
    {
     "name": "stdout",
     "output_type": "stream",
     "text": [
      "<class 'pandas.core.frame.DataFrame'>\n",
      "Int64Index: 15843 entries, 4 to 55473\n",
      "Data columns (total 5 columns):\n",
      " #   Column             Non-Null Count  Dtype  \n",
      "---  ------             --------------  -----  \n",
      " 0   permalink          15843 non-null  object \n",
      " 1   raised_amount_usd  15843 non-null  float64\n",
      " 2   category_list      15843 non-null  object \n",
      " 3   country_code       15843 non-null  object \n",
      " 4   sector             15843 non-null  object \n",
      "dtypes: float64(1), object(4)\n",
      "memory usage: 742.6+ KB\n"
     ]
    }
   ],
   "source": [
    "us_df.info()"
   ]
  },
  {
   "cell_type": "markdown",
   "id": "5778537a-8531-40a1-bc66-0730b0de6d72",
   "metadata": {},
   "source": [
    "### Calculating Total Invested Amount in each country"
   ]
  },
  {
   "cell_type": "code",
   "execution_count": 116,
   "id": "71d77dff-d498-4dcb-a864-4afd6d8edb21",
   "metadata": {},
   "outputs": [
    {
     "data": {
      "text/plain": [
       "129657400937.0"
      ]
     },
     "execution_count": 116,
     "metadata": {},
     "output_type": "execute_result"
    }
   ],
   "source": [
    "us_df.raised_amount_usd.sum()"
   ]
  },
  {
   "cell_type": "code",
   "execution_count": 117,
   "id": "9b4747ca-2eae-4f5b-8c45-65e6aee1ab63",
   "metadata": {},
   "outputs": [
    {
     "data": {
      "text/plain": [
       "6676843539.0"
      ]
     },
     "execution_count": 117,
     "metadata": {},
     "output_type": "execute_result"
    }
   ],
   "source": [
    "uk_df.raised_amount_usd.sum()"
   ]
  },
  {
   "cell_type": "code",
   "execution_count": 118,
   "id": "01376dee-d45c-4c4d-af83-a3d9e19a3242",
   "metadata": {},
   "outputs": [
    {
     "data": {
      "text/plain": [
       "3816543602.0"
      ]
     },
     "execution_count": 118,
     "metadata": {},
     "output_type": "execute_result"
    }
   ],
   "source": [
    "ind_df.raised_amount_usd.sum()"
   ]
  },
  {
   "cell_type": "code",
   "execution_count": 119,
   "id": "30425489-3b39-46e8-a44b-9490b648b9d6",
   "metadata": {},
   "outputs": [],
   "source": [
    "top3_countries_piv = top3_countries_filtered.pivot_table(\n",
    "    index='sector',\n",
    "    values='raised_amount_usd',\n",
    "    aggfunc='count',\n",
    "    columns='country_code'\n",
    ")"
   ]
  },
  {
   "cell_type": "code",
   "execution_count": 120,
   "id": "42d7d4ad-8c9d-4441-8258-b99a930fae59",
   "metadata": {},
   "outputs": [
    {
     "data": {
      "text/html": [
       "<div>\n",
       "<style scoped>\n",
       "    .dataframe tbody tr th:only-of-type {\n",
       "        vertical-align: middle;\n",
       "    }\n",
       "\n",
       "    .dataframe tbody tr th {\n",
       "        vertical-align: top;\n",
       "    }\n",
       "\n",
       "    .dataframe thead th {\n",
       "        text-align: right;\n",
       "    }\n",
       "</style>\n",
       "<table border=\"1\" class=\"dataframe\">\n",
       "  <thead>\n",
       "    <tr style=\"text-align: right;\">\n",
       "      <th>country_code</th>\n",
       "      <th>GBR</th>\n",
       "      <th>IND</th>\n",
       "      <th>USA</th>\n",
       "    </tr>\n",
       "    <tr>\n",
       "      <th>sector</th>\n",
       "      <th></th>\n",
       "      <th></th>\n",
       "      <th></th>\n",
       "    </tr>\n",
       "  </thead>\n",
       "  <tbody>\n",
       "    <tr>\n",
       "      <th>Automotive &amp; Sports</th>\n",
       "      <td>26</td>\n",
       "      <td>14</td>\n",
       "      <td>256</td>\n",
       "    </tr>\n",
       "    <tr>\n",
       "      <th>Cleantech / Semiconductors</th>\n",
       "      <td>154</td>\n",
       "      <td>29</td>\n",
       "      <td>2745</td>\n",
       "    </tr>\n",
       "    <tr>\n",
       "      <th>Entertainment</th>\n",
       "      <td>80</td>\n",
       "      <td>47</td>\n",
       "      <td>842</td>\n",
       "    </tr>\n",
       "    <tr>\n",
       "      <th>Health</th>\n",
       "      <td>32</td>\n",
       "      <td>33</td>\n",
       "      <td>1123</td>\n",
       "    </tr>\n",
       "    <tr>\n",
       "      <th>Manufacturing</th>\n",
       "      <td>52</td>\n",
       "      <td>30</td>\n",
       "      <td>1076</td>\n",
       "    </tr>\n",
       "    <tr>\n",
       "      <th>News, Search and Messaging</th>\n",
       "      <td>97</td>\n",
       "      <td>76</td>\n",
       "      <td>2025</td>\n",
       "    </tr>\n",
       "    <tr>\n",
       "      <th>Others</th>\n",
       "      <td>242</td>\n",
       "      <td>163</td>\n",
       "      <td>4285</td>\n",
       "    </tr>\n",
       "    <tr>\n",
       "      <th>Social, Finance, Analytics, Advertising</th>\n",
       "      <td>193</td>\n",
       "      <td>106</td>\n",
       "      <td>3491</td>\n",
       "    </tr>\n",
       "  </tbody>\n",
       "</table>\n",
       "</div>"
      ],
      "text/plain": [
       "country_code                             GBR  IND   USA\n",
       "sector                                                 \n",
       "Automotive & Sports                       26   14   256\n",
       "Cleantech / Semiconductors               154   29  2745\n",
       "Entertainment                             80   47   842\n",
       "Health                                    32   33  1123\n",
       "Manufacturing                             52   30  1076\n",
       "News, Search and Messaging                97   76  2025\n",
       "Others                                   242  163  4285\n",
       "Social, Finance, Analytics, Advertising  193  106  3491"
      ]
     },
     "execution_count": 120,
     "metadata": {},
     "output_type": "execute_result"
    }
   ],
   "source": [
    "top3_countries_piv"
   ]
  },
  {
   "cell_type": "code",
   "execution_count": 121,
   "id": "ba4af284-63a6-449a-8459-f3a2fb341c95",
   "metadata": {},
   "outputs": [
    {
     "data": {
      "image/png": "[encoded data removed]",
      "text/plain": [
       "<Figure size 432x288 with 1 Axes>"
      ]
     },
     "metadata": {},
     "output_type": "display_data"
    }
   ],
   "source": [
    "top3_countries_piv.plot(kind='barh')\n",
    "plt.show()"
   ]
  },
  {
   "cell_type": "markdown",
   "id": "702da99d-4096-43bb-b594-81749eb07fce",
   "metadata": {},
   "source": [
    "Since the total count is very high for USA, it is difficult to understand the graph properly.  \n",
    "We need to analyze which sector is more active in which country, so we can generate percentage distribution of sector for each country. "
   ]
  },
  {
   "cell_type": "code",
   "execution_count": 122,
   "id": "eaa10875-70be-4f72-9d2b-92619d15b11a",
   "metadata": {},
   "outputs": [],
   "source": [
    "top3_countries_piv['India'] = round(top3_countries_piv['IND']/sum(top3_countries_piv['IND'])*100, 2)\n",
    "top3_countries_piv['United States of America'] = round(top3_countries_piv['USA']/sum(top3_countries_piv['USA'])*100, 2)\n",
    "top3_countries_piv['United Kingdom'] = round(top3_countries_piv['GBR']/sum(top3_countries_piv['GBR'])*100, 2)"
   ]
  },
  {
   "cell_type": "code",
   "execution_count": 123,
   "id": "7ce181b1-013e-4e41-8b0a-cc20f52e19a9",
   "metadata": {},
   "outputs": [],
   "source": [
    "top3_sectors_in_countries_percent = top3_countries_piv.sort_values('India', ascending=False)[['India', 'United States of America', 'United Kingdom']]"
   ]
  },
  {
   "cell_type": "markdown",
   "id": "223ceb69-b94f-4583-9333-ab7ff3f3a9ae",
   "metadata": {},
   "source": [
    "### Plotting the Sector Wise Distribution of Companies in the Top 3 English speaking countries"
   ]
  },
  {
   "cell_type": "code",
   "execution_count": 124,
   "id": "ff919216-7144-47bf-8adc-0f1c360ba8de",
   "metadata": {},
   "outputs": [
    {
     "data": {
      "image/png": "[encoded data removed]",
      "text/plain": [
       "<Figure size 576x720 with 1 Axes>"
      ]
     },
     "metadata": {},
     "output_type": "display_data"
    }
   ],
   "source": [
    "plt.style.use('seaborn-deep')\n",
    "fig, ax = plt.subplots(figsize=(8,10))\n",
    "top3_sectors_in_countries_percent.plot(kind='barh', ax=ax)\n",
    "ax.set_xlabel('Number of Investments by Country (Percentage Scale)')\n",
    "ax.set_ylabel('')\n",
    "# ax.legend(title='Country Code')\n",
    "ax.set_title('Percentage Distribution of Number of Investments in Each Sector')\n",
    "fig.savefig('investment_by_country1.png', bbox_inches='tight')\n",
    "plt.show()"
   ]
  },
  {
   "cell_type": "code",
   "execution_count": 125,
   "id": "3a6e57cf-1fbd-49cc-a5a3-9622004ce384",
   "metadata": {},
   "outputs": [
    {
     "data": {
      "text/html": [
       "<div>\n",
       "<style scoped>\n",
       "    .dataframe tbody tr th:only-of-type {\n",
       "        vertical-align: middle;\n",
       "    }\n",
       "\n",
       "    .dataframe tbody tr th {\n",
       "        vertical-align: top;\n",
       "    }\n",
       "\n",
       "    .dataframe thead th {\n",
       "        text-align: right;\n",
       "    }\n",
       "</style>\n",
       "<table border=\"1\" class=\"dataframe\">\n",
       "  <thead>\n",
       "    <tr style=\"text-align: right;\">\n",
       "      <th>country_code</th>\n",
       "      <th>GBR</th>\n",
       "      <th>IND</th>\n",
       "      <th>USA</th>\n",
       "      <th>India</th>\n",
       "      <th>United States of America</th>\n",
       "      <th>United Kingdom</th>\n",
       "    </tr>\n",
       "    <tr>\n",
       "      <th>sector</th>\n",
       "      <th></th>\n",
       "      <th></th>\n",
       "      <th></th>\n",
       "      <th></th>\n",
       "      <th></th>\n",
       "      <th></th>\n",
       "    </tr>\n",
       "  </thead>\n",
       "  <tbody>\n",
       "    <tr>\n",
       "      <th>Others</th>\n",
       "      <td>242</td>\n",
       "      <td>163</td>\n",
       "      <td>4285</td>\n",
       "      <td>32.73</td>\n",
       "      <td>27.05</td>\n",
       "      <td>27.63</td>\n",
       "    </tr>\n",
       "    <tr>\n",
       "      <th>Social, Finance, Analytics, Advertising</th>\n",
       "      <td>193</td>\n",
       "      <td>106</td>\n",
       "      <td>3491</td>\n",
       "      <td>21.29</td>\n",
       "      <td>22.03</td>\n",
       "      <td>22.03</td>\n",
       "    </tr>\n",
       "    <tr>\n",
       "      <th>Cleantech / Semiconductors</th>\n",
       "      <td>154</td>\n",
       "      <td>29</td>\n",
       "      <td>2745</td>\n",
       "      <td>5.82</td>\n",
       "      <td>17.33</td>\n",
       "      <td>17.58</td>\n",
       "    </tr>\n",
       "    <tr>\n",
       "      <th>News, Search and Messaging</th>\n",
       "      <td>97</td>\n",
       "      <td>76</td>\n",
       "      <td>2025</td>\n",
       "      <td>15.26</td>\n",
       "      <td>12.78</td>\n",
       "      <td>11.07</td>\n",
       "    </tr>\n",
       "    <tr>\n",
       "      <th>Health</th>\n",
       "      <td>32</td>\n",
       "      <td>33</td>\n",
       "      <td>1123</td>\n",
       "      <td>6.63</td>\n",
       "      <td>7.09</td>\n",
       "      <td>3.65</td>\n",
       "    </tr>\n",
       "    <tr>\n",
       "      <th>Manufacturing</th>\n",
       "      <td>52</td>\n",
       "      <td>30</td>\n",
       "      <td>1076</td>\n",
       "      <td>6.02</td>\n",
       "      <td>6.79</td>\n",
       "      <td>5.94</td>\n",
       "    </tr>\n",
       "    <tr>\n",
       "      <th>Entertainment</th>\n",
       "      <td>80</td>\n",
       "      <td>47</td>\n",
       "      <td>842</td>\n",
       "      <td>9.44</td>\n",
       "      <td>5.31</td>\n",
       "      <td>9.13</td>\n",
       "    </tr>\n",
       "    <tr>\n",
       "      <th>Automotive &amp; Sports</th>\n",
       "      <td>26</td>\n",
       "      <td>14</td>\n",
       "      <td>256</td>\n",
       "      <td>2.81</td>\n",
       "      <td>1.62</td>\n",
       "      <td>2.97</td>\n",
       "    </tr>\n",
       "  </tbody>\n",
       "</table>\n",
       "</div>"
      ],
      "text/plain": [
       "country_code                             GBR  IND   USA  India  \\\n",
       "sector                                                           \n",
       "Others                                   242  163  4285  32.73   \n",
       "Social, Finance, Analytics, Advertising  193  106  3491  21.29   \n",
       "Cleantech / Semiconductors               154   29  2745   5.82   \n",
       "News, Search and Messaging                97   76  2025  15.26   \n",
       "Health                                    32   33  1123   6.63   \n",
       "Manufacturing                             52   30  1076   6.02   \n",
       "Entertainment                             80   47   842   9.44   \n",
       "Automotive & Sports                       26   14   256   2.81   \n",
       "\n",
       "country_code                             United States of America  \\\n",
       "sector                                                              \n",
       "Others                                                      27.05   \n",
       "Social, Finance, Analytics, Advertising                     22.03   \n",
       "Cleantech / Semiconductors                                  17.33   \n",
       "News, Search and Messaging                                  12.78   \n",
       "Health                                                       7.09   \n",
       "Manufacturing                                                6.79   \n",
       "Entertainment                                                5.31   \n",
       "Automotive & Sports                                          1.62   \n",
       "\n",
       "country_code                             United Kingdom  \n",
       "sector                                                   \n",
       "Others                                            27.63  \n",
       "Social, Finance, Analytics, Advertising           22.03  \n",
       "Cleantech / Semiconductors                        17.58  \n",
       "News, Search and Messaging                        11.07  \n",
       "Health                                             3.65  \n",
       "Manufacturing                                      5.94  \n",
       "Entertainment                                      9.13  \n",
       "Automotive & Sports                                2.97  "
      ]
     },
     "execution_count": 125,
     "metadata": {},
     "output_type": "execute_result"
    }
   ],
   "source": [
    "top3_countries_piv.sort_values('USA', ascending=False)"
   ]
  },
  {
   "cell_type": "code",
   "execution_count": 126,
   "id": "115f899a-c247-40e7-9c2e-f77cb0724f89",
   "metadata": {},
   "outputs": [
    {
     "data": {
      "text/html": [
       "<div>\n",
       "<style scoped>\n",
       "    .dataframe tbody tr th:only-of-type {\n",
       "        vertical-align: middle;\n",
       "    }\n",
       "\n",
       "    .dataframe tbody tr th {\n",
       "        vertical-align: top;\n",
       "    }\n",
       "\n",
       "    .dataframe thead th {\n",
       "        text-align: right;\n",
       "    }\n",
       "</style>\n",
       "<table border=\"1\" class=\"dataframe\">\n",
       "  <thead>\n",
       "    <tr style=\"text-align: right;\">\n",
       "      <th></th>\n",
       "      <th>raised_amount_usd</th>\n",
       "    </tr>\n",
       "    <tr>\n",
       "      <th>permalink</th>\n",
       "      <th></th>\n",
       "    </tr>\n",
       "  </thead>\n",
       "  <tbody>\n",
       "    <tr>\n",
       "      <th>/organization/quellan</th>\n",
       "      <td>82000000.0</td>\n",
       "    </tr>\n",
       "    <tr>\n",
       "      <th>/organization/airspan-networks</th>\n",
       "      <td>81769000.0</td>\n",
       "    </tr>\n",
       "    <tr>\n",
       "      <th>/organization/biodesix</th>\n",
       "      <td>75300000.0</td>\n",
       "    </tr>\n",
       "  </tbody>\n",
       "</table>\n",
       "</div>"
      ],
      "text/plain": [
       "                                raised_amount_usd\n",
       "permalink                                        \n",
       "/organization/quellan                  82000000.0\n",
       "/organization/airspan-networks         81769000.0\n",
       "/organization/biodesix                 75300000.0"
      ]
     },
     "execution_count": 126,
     "metadata": {},
     "output_type": "execute_result"
    }
   ],
   "source": [
    "# Sorted by Total Invest - US\n",
    "us_df.pivot_table(\n",
    "    index='permalink',\n",
    "    values='raised_amount_usd',\n",
    "    aggfunc='sum'\n",
    ").sort_values(\n",
    "    by='raised_amount_usd',\n",
    "    ascending=False\n",
    ")[0:3]"
   ]
  },
  {
   "cell_type": "code",
   "execution_count": 127,
   "id": "4fb2b2f0-377d-412f-84bf-245fd0bf000a",
   "metadata": {},
   "outputs": [
    {
     "data": {
      "text/html": [
       "<div>\n",
       "<style scoped>\n",
       "    .dataframe tbody tr th:only-of-type {\n",
       "        vertical-align: middle;\n",
       "    }\n",
       "\n",
       "    .dataframe tbody tr th {\n",
       "        vertical-align: top;\n",
       "    }\n",
       "\n",
       "    .dataframe thead th {\n",
       "        text-align: right;\n",
       "    }\n",
       "</style>\n",
       "<table border=\"1\" class=\"dataframe\">\n",
       "  <thead>\n",
       "    <tr style=\"text-align: right;\">\n",
       "      <th></th>\n",
       "      <th>raised_amount_usd</th>\n",
       "    </tr>\n",
       "    <tr>\n",
       "      <th>permalink</th>\n",
       "      <th></th>\n",
       "    </tr>\n",
       "  </thead>\n",
       "  <tbody>\n",
       "    <tr>\n",
       "      <th>/organization/greenroad-technologies</th>\n",
       "      <td>52500000.0</td>\n",
       "    </tr>\n",
       "    <tr>\n",
       "      <th>/organization/mysupermarket</th>\n",
       "      <td>43400000.0</td>\n",
       "    </tr>\n",
       "    <tr>\n",
       "      <th>/organization/zopa</th>\n",
       "      <td>37900000.0</td>\n",
       "    </tr>\n",
       "  </tbody>\n",
       "</table>\n",
       "</div>"
      ],
      "text/plain": [
       "                                      raised_amount_usd\n",
       "permalink                                              \n",
       "/organization/greenroad-technologies         52500000.0\n",
       "/organization/mysupermarket                  43400000.0\n",
       "/organization/zopa                           37900000.0"
      ]
     },
     "execution_count": 127,
     "metadata": {},
     "output_type": "execute_result"
    }
   ],
   "source": [
    "# Sorted by Total Invest - UK\n",
    "uk_df.pivot_table(\n",
    "    index='permalink',\n",
    "    values='raised_amount_usd',\n",
    "    aggfunc='sum'\n",
    ").sort_values(\n",
    "    by='raised_amount_usd',\n",
    "    ascending=False\n",
    ")[0:3]"
   ]
  },
  {
   "cell_type": "code",
   "execution_count": 128,
   "id": "d054d172-b83b-47b0-8c9b-5889f8fd9720",
   "metadata": {},
   "outputs": [
    {
     "data": {
      "text/html": [
       "<div>\n",
       "<style scoped>\n",
       "    .dataframe tbody tr th:only-of-type {\n",
       "        vertical-align: middle;\n",
       "    }\n",
       "\n",
       "    .dataframe tbody tr th {\n",
       "        vertical-align: top;\n",
       "    }\n",
       "\n",
       "    .dataframe thead th {\n",
       "        text-align: right;\n",
       "    }\n",
       "</style>\n",
       "<table border=\"1\" class=\"dataframe\">\n",
       "  <thead>\n",
       "    <tr style=\"text-align: right;\">\n",
       "      <th></th>\n",
       "      <th>raised_amount_usd</th>\n",
       "    </tr>\n",
       "    <tr>\n",
       "      <th>permalink</th>\n",
       "      <th></th>\n",
       "    </tr>\n",
       "  </thead>\n",
       "  <tbody>\n",
       "    <tr>\n",
       "      <th>/organization/azure-power</th>\n",
       "      <td>57200000.0</td>\n",
       "    </tr>\n",
       "    <tr>\n",
       "      <th>/organization/manthan-systems</th>\n",
       "      <td>50700000.0</td>\n",
       "    </tr>\n",
       "    <tr>\n",
       "      <th>/organization/firstcry-com</th>\n",
       "      <td>39000000.0</td>\n",
       "    </tr>\n",
       "  </tbody>\n",
       "</table>\n",
       "</div>"
      ],
      "text/plain": [
       "                               raised_amount_usd\n",
       "permalink                                       \n",
       "/organization/azure-power             57200000.0\n",
       "/organization/manthan-systems         50700000.0\n",
       "/organization/firstcry-com            39000000.0"
      ]
     },
     "execution_count": 128,
     "metadata": {},
     "output_type": "execute_result"
    }
   ],
   "source": [
    "# Sorted by Total Invesment Amount - IND\n",
    "ind_df.pivot_table(\n",
    "    index='permalink',\n",
    "    values='raised_amount_usd',\n",
    "    aggfunc='sum'\n",
    ").sort_values(\n",
    "    by='raised_amount_usd',\n",
    "    ascending=False\n",
    ")[0:3]"
   ]
  },
  {
   "cell_type": "code",
   "execution_count": 129,
   "id": "a2f4f67d-d69d-4bd0-acbf-2cdedee34297",
   "metadata": {},
   "outputs": [
    {
     "data": {
      "text/html": [
       "<div>\n",
       "<style scoped>\n",
       "    .dataframe tbody tr th:only-of-type {\n",
       "        vertical-align: middle;\n",
       "    }\n",
       "\n",
       "    .dataframe tbody tr th {\n",
       "        vertical-align: top;\n",
       "    }\n",
       "\n",
       "    .dataframe thead th {\n",
       "        text-align: right;\n",
       "    }\n",
       "</style>\n",
       "<table border=\"1\" class=\"dataframe\">\n",
       "  <thead>\n",
       "    <tr style=\"text-align: right;\">\n",
       "      <th></th>\n",
       "      <th>raised_amount_usd</th>\n",
       "    </tr>\n",
       "    <tr>\n",
       "      <th>permalink</th>\n",
       "      <th></th>\n",
       "    </tr>\n",
       "  </thead>\n",
       "  <tbody>\n",
       "    <tr>\n",
       "      <th>/organization/azure-power</th>\n",
       "      <td>6</td>\n",
       "    </tr>\n",
       "    <tr>\n",
       "      <th>/organization/manthan-systems</th>\n",
       "      <td>4</td>\n",
       "    </tr>\n",
       "    <tr>\n",
       "      <th>/organization/myntra</th>\n",
       "      <td>4</td>\n",
       "    </tr>\n",
       "  </tbody>\n",
       "</table>\n",
       "</div>"
      ],
      "text/plain": [
       "                               raised_amount_usd\n",
       "permalink                                       \n",
       "/organization/azure-power                      6\n",
       "/organization/manthan-systems                  4\n",
       "/organization/myntra                           4"
      ]
     },
     "execution_count": 129,
     "metadata": {},
     "output_type": "execute_result"
    }
   ],
   "source": [
    "# Sorted by Total Count - IND\n",
    "ind_df.pivot_table(\n",
    "    index='permalink',\n",
    "    values='raised_amount_usd',\n",
    "    aggfunc='count'\n",
    ").sort_values(\n",
    "    by='raised_amount_usd',\n",
    "    ascending=False\n",
    ")[0:3]"
   ]
  },
  {
   "cell_type": "code",
   "execution_count": 130,
   "id": "182cd488-7cbd-4ad6-b035-eb463c42f398",
   "metadata": {},
   "outputs": [
    {
     "data": {
      "text/plain": [
       "-1000000.0"
      ]
     },
     "execution_count": 130,
     "metadata": {},
     "output_type": "execute_result"
    }
   ],
   "source": [
    "# sanity check\n",
    "ind_df[ind_df['permalink'] ==  '/organization/myntra'].raised_amount_usd.sum() - ind_df[ind_df['permalink'] ==  '/organization/firstcry-com'].raised_amount_usd.sum()"
   ]
  },
  {
   "cell_type": "code",
   "execution_count": 131,
   "id": "e817543e-7e4a-4473-94dd-a5dcb9818052",
   "metadata": {},
   "outputs": [
    {
     "data": {
      "text/plain": [
       "17700000.0"
      ]
     },
     "execution_count": 131,
     "metadata": {},
     "output_type": "execute_result"
    }
   ],
   "source": [
    "# sanity check\n",
    "us_df[us_df.permalink == '/organization/quellan'].raised_amount_usd.sum() - us_df[us_df.permalink == '/organization/virtustream'].raised_amount_usd.sum()"
   ]
  },
  {
   "cell_type": "markdown",
   "id": "ffa8cbcd-44e2-4b1e-a2ab-8eafce01d3ad",
   "metadata": {},
   "source": [
    "---"
   ]
  },
  {
   "cell_type": "markdown",
   "id": "df260f5f-98c9-491c-9a13-bf5e39e2d3ec",
   "metadata": {},
   "source": [
    "# Conclusion"
   ]
  },
  {
   "cell_type": "markdown",
   "id": "29811fc8-e914-41b4-acb6-5ea2a2211d24",
   "metadata": {},
   "source": [
    "- Spark Funds can become a Venture Fund Investor\n",
    "- It can invest in USA, UK & India\n",
    "- In USA, it can invest in `Others`, `Cleanteach/Semiconductors` & `Social, Finance, Analytics, Advertising` sectors\n",
    "- In UK, it can invest in `Others`, `Cleanteach/Semiconductors` & `Social, Finance, Analytics, Advertising` sectors\n",
    "- In UK, it can invest in `Others`, `Social, Finance, Analytics, Advertising` & `News, Search and Messaging` sectors"
   ]
  },
  {
   "cell_type": "markdown",
   "id": "fde5dc1b-4090-42ac-90ed-3a4eb1b956dc",
   "metadata": {},
   "source": [
    "Note: We have choen `Others` as one of the sectors since it was mentioned that this is one of the 8 sectors that can be analyzed.\n",
    "However, we should dig deeper and figure what prominent sub-sectors/categories can be identified after discussing the findings thoroughly with Spark Fund"
   ]
  },
  {
   "cell_type": "markdown",
   "id": "4f94e9af-8c71-4390-a528-fb6716f3b164",
   "metadata": {},
   "source": [
    "# References\n",
    "`#1` - https://stackoverflow.com/a/24047916  \n",
    "`#2` - https://stackoverflow.com/a/42789818/7048915  \n",
    "`#3` - https://stackoverflow.com/a/11531402/7048915  \n",
    "`#4` - https://stackoverflow.com/a/56744855/7048915  \n",
    "`#5` - https://www.reddit.com/r/learnpython/comments/3cjnpg/seaborn_xaxis_as_index/cuuo79q?utm_source=share&utm_medium=web2x&context=3  \n",
    "`#6` - https://discuss.analyticsvidhya.com/t/difference-between-wide-and-long-data-format/8110  \n",
    "`#7` - https://pandas.pydata.org/docs/reference/api/pandas.melt.html\n",
    "---\n",
    "- https://stackabuse.com/change-tick-frequency-in-matplotlib\n",
    "- https://stackoverflow.com/a/33382750/7048915\n",
    "- https://github.com/mwaskom/seaborn/issues/871#issuecomment-399701820\n",
    "- https://matplotlib.org/3.1.1/api/_as_gen/matplotlib.axes.Axes.set_title.html\n",
    "- https://stackoverflow.com/a/7125157/7048915\n",
    "- https://www.geeksforgeeks.org/how-to-drop-rows-in-pandas-dataframe-by-index-labels/\n",
    "- https://stackoverflow.com/questions/44723377/pandas-combining-two-dataframes-horizontally\n",
    "- https://pandas.pydata.org/pandas-docs/stable/reference/api/pandas.DataFrame.rename.html"
   ]
  }
 ],
 "metadata": {
  "kernelspec": {
   "display_name": "Python 3",
   "language": "python",
   "name": "python3"
  },
  "language_info": {
   "codemirror_mode": {
    "name": "ipython",
    "version": 3
   },
   "file_extension": ".py",
   "mimetype": "text/x-python",
   "name": "python",
   "nbconvert_exporter": "python",
   "pygments_lexer": "ipython3",
   "version": "3.8.8"
  }
 },
 "nbformat": 4,
 "nbformat_minor": 5
}
